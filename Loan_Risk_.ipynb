{
 "cells": [
  {
   "cell_type": "code",
   "execution_count": 1,
   "metadata": {},
   "outputs": [],
   "source": [
    "import pandas as pd\n",
    "import numpy as np\n",
    "import matplotlib.pyplot as plt\n",
    "import seaborn as sns\n",
    "from sklearn.preprocessing import StandardScaler\n",
    "from statsmodels.stats.outliers_influence import variance_inflation_factor\n",
    "from sklearn.experimental import enable_iterative_imputer\n",
    "from sklearn.impute import IterativeImputer,KNNImputer\n",
    "from statsmodels.formula.api import ols\n",
    "import statsmodels.api as sm\n",
    "from scipy import stats\n",
    "from statsmodels.stats import weightstats as stests\n",
    "from scipy.stats import chi2_contingency\n",
    "from sklearn.model_selection import train_test_split\n",
    "from imblearn.over_sampling import SMOTE\n",
    "from sklearn.linear_model  import LogisticRegression\n",
    "from sklearn.metrics import accuracy_score, confusion_matrix, roc_curve, roc_auc_score, classification_report\n",
    "from sklearn.ensemble import RandomForestClassifier\n",
    "from xgboost.sklearn import XGBClassifier\n",
    "from pylab import *"
   ]
  },
  {
   "cell_type": "code",
   "execution_count": 2,
   "metadata": {},
   "outputs": [],
   "source": [
    "import warnings\n",
    "warnings.filterwarnings(\"ignore\", category=FutureWarning)  # ignoring future warning \n",
    "warnings.filterwarnings(\"ignore\", category=DeprecationWarning)  # ignoring deprecation warning \n",
    "warnings.filterwarnings(\"ignore\", category=UserWarning)  # ignoring user warning "
   ]
  },
  {
   "cell_type": "code",
   "execution_count": 3,
   "metadata": {},
   "outputs": [
    {
     "data": {
      "text/html": [
       "<div>\n",
       "<style scoped>\n",
       "    .dataframe tbody tr th:only-of-type {\n",
       "        vertical-align: middle;\n",
       "    }\n",
       "\n",
       "    .dataframe tbody tr th {\n",
       "        vertical-align: top;\n",
       "    }\n",
       "\n",
       "    .dataframe thead th {\n",
       "        text-align: right;\n",
       "    }\n",
       "</style>\n",
       "<table border=\"1\" class=\"dataframe\">\n",
       "  <thead>\n",
       "    <tr style=\"text-align: right;\">\n",
       "      <th></th>\n",
       "      <th>RowID</th>\n",
       "      <th>Loan_Amount</th>\n",
       "      <th>Term</th>\n",
       "      <th>Interest_Rate</th>\n",
       "      <th>Employment_Years</th>\n",
       "      <th>Home_Ownership</th>\n",
       "      <th>Annual_Income</th>\n",
       "      <th>Verification_Status</th>\n",
       "      <th>Loan_Purpose</th>\n",
       "      <th>State</th>\n",
       "      <th>Debt_to_Income</th>\n",
       "      <th>Delinquent_2yr</th>\n",
       "      <th>Revolving_Cr_Util</th>\n",
       "      <th>Total_Accounts</th>\n",
       "      <th>Bad_Loan</th>\n",
       "      <th>Longest_Credit_Length</th>\n",
       "    </tr>\n",
       "  </thead>\n",
       "  <tbody>\n",
       "    <tr>\n",
       "      <th>0</th>\n",
       "      <td>1</td>\n",
       "      <td>5000.0</td>\n",
       "      <td>36 months</td>\n",
       "      <td>10.65</td>\n",
       "      <td>10.0</td>\n",
       "      <td>RENT</td>\n",
       "      <td>24000.0</td>\n",
       "      <td>VERIFIED - income</td>\n",
       "      <td>credit_card</td>\n",
       "      <td>AZ</td>\n",
       "      <td>27.65</td>\n",
       "      <td>0.0</td>\n",
       "      <td>83.7</td>\n",
       "      <td>9.0</td>\n",
       "      <td>GOOD</td>\n",
       "      <td>26.0</td>\n",
       "    </tr>\n",
       "    <tr>\n",
       "      <th>1</th>\n",
       "      <td>2</td>\n",
       "      <td>2500.0</td>\n",
       "      <td>60 months</td>\n",
       "      <td>15.27</td>\n",
       "      <td>0.5</td>\n",
       "      <td>RENT</td>\n",
       "      <td>30000.0</td>\n",
       "      <td>VERIFIED - income source</td>\n",
       "      <td>car</td>\n",
       "      <td>GA</td>\n",
       "      <td>1.00</td>\n",
       "      <td>0.0</td>\n",
       "      <td>9.4</td>\n",
       "      <td>4.0</td>\n",
       "      <td>BAD</td>\n",
       "      <td>12.0</td>\n",
       "    </tr>\n",
       "    <tr>\n",
       "      <th>2</th>\n",
       "      <td>3</td>\n",
       "      <td>2400.0</td>\n",
       "      <td>36 months</td>\n",
       "      <td>15.96</td>\n",
       "      <td>10.0</td>\n",
       "      <td>RENT</td>\n",
       "      <td>12252.0</td>\n",
       "      <td>not verified</td>\n",
       "      <td>small_business</td>\n",
       "      <td>IL</td>\n",
       "      <td>8.72</td>\n",
       "      <td>0.0</td>\n",
       "      <td>98.5</td>\n",
       "      <td>10.0</td>\n",
       "      <td>GOOD</td>\n",
       "      <td>10.0</td>\n",
       "    </tr>\n",
       "    <tr>\n",
       "      <th>3</th>\n",
       "      <td>4</td>\n",
       "      <td>10000.0</td>\n",
       "      <td>36 months</td>\n",
       "      <td>13.49</td>\n",
       "      <td>10.0</td>\n",
       "      <td>RENT</td>\n",
       "      <td>49200.0</td>\n",
       "      <td>VERIFIED - income source</td>\n",
       "      <td>other</td>\n",
       "      <td>CA</td>\n",
       "      <td>20.00</td>\n",
       "      <td>0.0</td>\n",
       "      <td>21.0</td>\n",
       "      <td>37.0</td>\n",
       "      <td>GOOD</td>\n",
       "      <td>15.0</td>\n",
       "    </tr>\n",
       "    <tr>\n",
       "      <th>4</th>\n",
       "      <td>5</td>\n",
       "      <td>5000.0</td>\n",
       "      <td>36 months</td>\n",
       "      <td>7.90</td>\n",
       "      <td>3.0</td>\n",
       "      <td>RENT</td>\n",
       "      <td>36000.0</td>\n",
       "      <td>VERIFIED - income source</td>\n",
       "      <td>wedding</td>\n",
       "      <td>AZ</td>\n",
       "      <td>11.20</td>\n",
       "      <td>0.0</td>\n",
       "      <td>28.3</td>\n",
       "      <td>12.0</td>\n",
       "      <td>GOOD</td>\n",
       "      <td>7.0</td>\n",
       "    </tr>\n",
       "  </tbody>\n",
       "</table>\n",
       "</div>"
      ],
      "text/plain": [
       "   RowID  Loan_Amount       Term  Interest_Rate  Employment_Years  \\\n",
       "0      1       5000.0  36 months          10.65              10.0   \n",
       "1      2       2500.0  60 months          15.27               0.5   \n",
       "2      3       2400.0  36 months          15.96              10.0   \n",
       "3      4      10000.0  36 months          13.49              10.0   \n",
       "4      5       5000.0  36 months           7.90               3.0   \n",
       "\n",
       "  Home_Ownership  Annual_Income       Verification_Status    Loan_Purpose  \\\n",
       "0           RENT        24000.0         VERIFIED - income     credit_card   \n",
       "1           RENT        30000.0  VERIFIED - income source             car   \n",
       "2           RENT        12252.0              not verified  small_business   \n",
       "3           RENT        49200.0  VERIFIED - income source           other   \n",
       "4           RENT        36000.0  VERIFIED - income source         wedding   \n",
       "\n",
       "  State  Debt_to_Income  Delinquent_2yr  Revolving_Cr_Util  Total_Accounts  \\\n",
       "0    AZ           27.65             0.0               83.7             9.0   \n",
       "1    GA            1.00             0.0                9.4             4.0   \n",
       "2    IL            8.72             0.0               98.5            10.0   \n",
       "3    CA           20.00             0.0               21.0            37.0   \n",
       "4    AZ           11.20             0.0               28.3            12.0   \n",
       "\n",
       "  Bad_Loan  Longest_Credit_Length  \n",
       "0     GOOD                   26.0  \n",
       "1      BAD                   12.0  \n",
       "2     GOOD                   10.0  \n",
       "3     GOOD                   15.0  \n",
       "4     GOOD                    7.0  "
      ]
     },
     "execution_count": 3,
     "metadata": {},
     "output_type": "execute_result"
    }
   ],
   "source": [
    "df= pd.read_csv('LoansGoodBad.csv')\n",
    "df.head()"
   ]
  },
  {
   "cell_type": "code",
   "execution_count": 4,
   "metadata": {
    "scrolled": true
   },
   "outputs": [
    {
     "data": {
      "text/html": [
       "<div>\n",
       "<style scoped>\n",
       "    .dataframe tbody tr th:only-of-type {\n",
       "        vertical-align: middle;\n",
       "    }\n",
       "\n",
       "    .dataframe tbody tr th {\n",
       "        vertical-align: top;\n",
       "    }\n",
       "\n",
       "    .dataframe thead th {\n",
       "        text-align: right;\n",
       "    }\n",
       "</style>\n",
       "<table border=\"1\" class=\"dataframe\">\n",
       "  <thead>\n",
       "    <tr style=\"text-align: right;\">\n",
       "      <th></th>\n",
       "      <th>Loan_Amount</th>\n",
       "      <th>Term</th>\n",
       "      <th>Interest_Rate</th>\n",
       "      <th>Employment_Years</th>\n",
       "      <th>Home_Ownership</th>\n",
       "      <th>Annual_Income</th>\n",
       "      <th>Verification_Status</th>\n",
       "      <th>Loan_Purpose</th>\n",
       "      <th>State</th>\n",
       "      <th>Debt_to_Income</th>\n",
       "      <th>Delinquent_2yr</th>\n",
       "      <th>Revolving_Cr_Util</th>\n",
       "      <th>Total_Accounts</th>\n",
       "      <th>Bad_Loan</th>\n",
       "      <th>Longest_Credit_Length</th>\n",
       "    </tr>\n",
       "  </thead>\n",
       "  <tbody>\n",
       "    <tr>\n",
       "      <th>0</th>\n",
       "      <td>5000.0</td>\n",
       "      <td>36 months</td>\n",
       "      <td>10.65</td>\n",
       "      <td>10.0</td>\n",
       "      <td>RENT</td>\n",
       "      <td>24000.0</td>\n",
       "      <td>VERIFIED - income</td>\n",
       "      <td>credit_card</td>\n",
       "      <td>AZ</td>\n",
       "      <td>27.65</td>\n",
       "      <td>0.0</td>\n",
       "      <td>83.7</td>\n",
       "      <td>9.0</td>\n",
       "      <td>GOOD</td>\n",
       "      <td>26.0</td>\n",
       "    </tr>\n",
       "    <tr>\n",
       "      <th>1</th>\n",
       "      <td>2500.0</td>\n",
       "      <td>60 months</td>\n",
       "      <td>15.27</td>\n",
       "      <td>0.5</td>\n",
       "      <td>RENT</td>\n",
       "      <td>30000.0</td>\n",
       "      <td>VERIFIED - income source</td>\n",
       "      <td>car</td>\n",
       "      <td>GA</td>\n",
       "      <td>1.00</td>\n",
       "      <td>0.0</td>\n",
       "      <td>9.4</td>\n",
       "      <td>4.0</td>\n",
       "      <td>BAD</td>\n",
       "      <td>12.0</td>\n",
       "    </tr>\n",
       "    <tr>\n",
       "      <th>2</th>\n",
       "      <td>2400.0</td>\n",
       "      <td>36 months</td>\n",
       "      <td>15.96</td>\n",
       "      <td>10.0</td>\n",
       "      <td>RENT</td>\n",
       "      <td>12252.0</td>\n",
       "      <td>not verified</td>\n",
       "      <td>small_business</td>\n",
       "      <td>IL</td>\n",
       "      <td>8.72</td>\n",
       "      <td>0.0</td>\n",
       "      <td>98.5</td>\n",
       "      <td>10.0</td>\n",
       "      <td>GOOD</td>\n",
       "      <td>10.0</td>\n",
       "    </tr>\n",
       "    <tr>\n",
       "      <th>3</th>\n",
       "      <td>10000.0</td>\n",
       "      <td>36 months</td>\n",
       "      <td>13.49</td>\n",
       "      <td>10.0</td>\n",
       "      <td>RENT</td>\n",
       "      <td>49200.0</td>\n",
       "      <td>VERIFIED - income source</td>\n",
       "      <td>other</td>\n",
       "      <td>CA</td>\n",
       "      <td>20.00</td>\n",
       "      <td>0.0</td>\n",
       "      <td>21.0</td>\n",
       "      <td>37.0</td>\n",
       "      <td>GOOD</td>\n",
       "      <td>15.0</td>\n",
       "    </tr>\n",
       "    <tr>\n",
       "      <th>4</th>\n",
       "      <td>5000.0</td>\n",
       "      <td>36 months</td>\n",
       "      <td>7.90</td>\n",
       "      <td>3.0</td>\n",
       "      <td>RENT</td>\n",
       "      <td>36000.0</td>\n",
       "      <td>VERIFIED - income source</td>\n",
       "      <td>wedding</td>\n",
       "      <td>AZ</td>\n",
       "      <td>11.20</td>\n",
       "      <td>0.0</td>\n",
       "      <td>28.3</td>\n",
       "      <td>12.0</td>\n",
       "      <td>GOOD</td>\n",
       "      <td>7.0</td>\n",
       "    </tr>\n",
       "  </tbody>\n",
       "</table>\n",
       "</div>"
      ],
      "text/plain": [
       "   Loan_Amount       Term  Interest_Rate  Employment_Years Home_Ownership  \\\n",
       "0       5000.0  36 months          10.65              10.0           RENT   \n",
       "1       2500.0  60 months          15.27               0.5           RENT   \n",
       "2       2400.0  36 months          15.96              10.0           RENT   \n",
       "3      10000.0  36 months          13.49              10.0           RENT   \n",
       "4       5000.0  36 months           7.90               3.0           RENT   \n",
       "\n",
       "   Annual_Income       Verification_Status    Loan_Purpose State  \\\n",
       "0        24000.0         VERIFIED - income     credit_card    AZ   \n",
       "1        30000.0  VERIFIED - income source             car    GA   \n",
       "2        12252.0              not verified  small_business    IL   \n",
       "3        49200.0  VERIFIED - income source           other    CA   \n",
       "4        36000.0  VERIFIED - income source         wedding    AZ   \n",
       "\n",
       "   Debt_to_Income  Delinquent_2yr  Revolving_Cr_Util  Total_Accounts Bad_Loan  \\\n",
       "0           27.65             0.0               83.7             9.0     GOOD   \n",
       "1            1.00             0.0                9.4             4.0      BAD   \n",
       "2            8.72             0.0               98.5            10.0     GOOD   \n",
       "3           20.00             0.0               21.0            37.0     GOOD   \n",
       "4           11.20             0.0               28.3            12.0     GOOD   \n",
       "\n",
       "   Longest_Credit_Length  \n",
       "0                   26.0  \n",
       "1                   12.0  \n",
       "2                   10.0  \n",
       "3                   15.0  \n",
       "4                    7.0  "
      ]
     },
     "execution_count": 4,
     "metadata": {},
     "output_type": "execute_result"
    }
   ],
   "source": [
    "df=df.iloc[:,1:]\n",
    "df.head()"
   ]
  },
  {
   "cell_type": "code",
   "execution_count": 5,
   "metadata": {},
   "outputs": [
    {
     "data": {
      "text/plain": [
       "(163994, 15)"
      ]
     },
     "execution_count": 5,
     "metadata": {},
     "output_type": "execute_result"
    }
   ],
   "source": [
    "df.shape"
   ]
  },
  {
   "cell_type": "code",
   "execution_count": 6,
   "metadata": {},
   "outputs": [
    {
     "data": {
      "text/html": [
       "<div>\n",
       "<style scoped>\n",
       "    .dataframe tbody tr th:only-of-type {\n",
       "        vertical-align: middle;\n",
       "    }\n",
       "\n",
       "    .dataframe tbody tr th {\n",
       "        vertical-align: top;\n",
       "    }\n",
       "\n",
       "    .dataframe thead th {\n",
       "        text-align: right;\n",
       "    }\n",
       "</style>\n",
       "<table border=\"1\" class=\"dataframe\">\n",
       "  <thead>\n",
       "    <tr style=\"text-align: right;\">\n",
       "      <th></th>\n",
       "      <th>Count</th>\n",
       "      <th>Percentage</th>\n",
       "    </tr>\n",
       "  </thead>\n",
       "  <tbody>\n",
       "    <tr>\n",
       "      <th>Employment_Years</th>\n",
       "      <td>5811</td>\n",
       "      <td>3.543422</td>\n",
       "    </tr>\n",
       "    <tr>\n",
       "      <th>Revolving_Cr_Util</th>\n",
       "      <td>200</td>\n",
       "      <td>0.121956</td>\n",
       "    </tr>\n",
       "    <tr>\n",
       "      <th>Delinquent_2yr</th>\n",
       "      <td>36</td>\n",
       "      <td>0.021952</td>\n",
       "    </tr>\n",
       "    <tr>\n",
       "      <th>Total_Accounts</th>\n",
       "      <td>36</td>\n",
       "      <td>0.021952</td>\n",
       "    </tr>\n",
       "    <tr>\n",
       "      <th>Longest_Credit_Length</th>\n",
       "      <td>36</td>\n",
       "      <td>0.021952</td>\n",
       "    </tr>\n",
       "    <tr>\n",
       "      <th>Annual_Income</th>\n",
       "      <td>11</td>\n",
       "      <td>0.006708</td>\n",
       "    </tr>\n",
       "    <tr>\n",
       "      <th>Loan_Amount</th>\n",
       "      <td>7</td>\n",
       "      <td>0.004268</td>\n",
       "    </tr>\n",
       "    <tr>\n",
       "      <th>Term</th>\n",
       "      <td>7</td>\n",
       "      <td>0.004268</td>\n",
       "    </tr>\n",
       "    <tr>\n",
       "      <th>Interest_Rate</th>\n",
       "      <td>7</td>\n",
       "      <td>0.004268</td>\n",
       "    </tr>\n",
       "    <tr>\n",
       "      <th>Home_Ownership</th>\n",
       "      <td>7</td>\n",
       "      <td>0.004268</td>\n",
       "    </tr>\n",
       "    <tr>\n",
       "      <th>Verification_Status</th>\n",
       "      <td>7</td>\n",
       "      <td>0.004268</td>\n",
       "    </tr>\n",
       "    <tr>\n",
       "      <th>Loan_Purpose</th>\n",
       "      <td>7</td>\n",
       "      <td>0.004268</td>\n",
       "    </tr>\n",
       "    <tr>\n",
       "      <th>State</th>\n",
       "      <td>7</td>\n",
       "      <td>0.004268</td>\n",
       "    </tr>\n",
       "    <tr>\n",
       "      <th>Debt_to_Income</th>\n",
       "      <td>7</td>\n",
       "      <td>0.004268</td>\n",
       "    </tr>\n",
       "    <tr>\n",
       "      <th>Bad_Loan</th>\n",
       "      <td>0</td>\n",
       "      <td>0.000000</td>\n",
       "    </tr>\n",
       "  </tbody>\n",
       "</table>\n",
       "</div>"
      ],
      "text/plain": [
       "                       Count  Percentage\n",
       "Employment_Years        5811    3.543422\n",
       "Revolving_Cr_Util        200    0.121956\n",
       "Delinquent_2yr            36    0.021952\n",
       "Total_Accounts            36    0.021952\n",
       "Longest_Credit_Length     36    0.021952\n",
       "Annual_Income             11    0.006708\n",
       "Loan_Amount                7    0.004268\n",
       "Term                       7    0.004268\n",
       "Interest_Rate              7    0.004268\n",
       "Home_Ownership             7    0.004268\n",
       "Verification_Status        7    0.004268\n",
       "Loan_Purpose               7    0.004268\n",
       "State                      7    0.004268\n",
       "Debt_to_Income             7    0.004268\n",
       "Bad_Loan                   0    0.000000"
      ]
     },
     "execution_count": 6,
     "metadata": {},
     "output_type": "execute_result"
    }
   ],
   "source": [
    "#Missing Values\n",
    "pd.DataFrame(pd.concat([df.isnull().sum(),df.isnull().mean()*100],axis=1)).rename(columns={0:\"Count\",1:\"Percentage\"}).sort_values('Percentage',ascending=False)"
   ]
  },
  {
   "cell_type": "code",
   "execution_count": 7,
   "metadata": {},
   "outputs": [
    {
     "data": {
      "text/plain": [
       "Loan_Amount              float64\n",
       "Term                      object\n",
       "Interest_Rate            float64\n",
       "Employment_Years         float64\n",
       "Home_Ownership            object\n",
       "Annual_Income            float64\n",
       "Verification_Status       object\n",
       "Loan_Purpose              object\n",
       "State                     object\n",
       "Debt_to_Income           float64\n",
       "Delinquent_2yr           float64\n",
       "Revolving_Cr_Util        float64\n",
       "Total_Accounts           float64\n",
       "Bad_Loan                  object\n",
       "Longest_Credit_Length    float64\n",
       "dtype: object"
      ]
     },
     "execution_count": 7,
     "metadata": {},
     "output_type": "execute_result"
    }
   ],
   "source": [
    "df.dtypes"
   ]
  },
  {
   "cell_type": "markdown",
   "metadata": {},
   "source": [
    "# Data Cleaning"
   ]
  },
  {
   "cell_type": "code",
   "execution_count": 8,
   "metadata": {},
   "outputs": [
    {
     "data": {
      "text/plain": [
       "(163988, 15)"
      ]
     },
     "execution_count": 8,
     "metadata": {},
     "output_type": "execute_result"
    }
   ],
   "source": [
    "# Removing duplicate values\n",
    "df = df.drop_duplicates().reset_index(drop = True)\n",
    "df.shape"
   ]
  },
  {
   "cell_type": "code",
   "execution_count": 9,
   "metadata": {},
   "outputs": [
    {
     "data": {
      "text/html": [
       "<div>\n",
       "<style scoped>\n",
       "    .dataframe tbody tr th:only-of-type {\n",
       "        vertical-align: middle;\n",
       "    }\n",
       "\n",
       "    .dataframe tbody tr th {\n",
       "        vertical-align: top;\n",
       "    }\n",
       "\n",
       "    .dataframe thead th {\n",
       "        text-align: right;\n",
       "    }\n",
       "</style>\n",
       "<table border=\"1\" class=\"dataframe\">\n",
       "  <thead>\n",
       "    <tr style=\"text-align: right;\">\n",
       "      <th></th>\n",
       "      <th>Loan_Amount</th>\n",
       "      <th>Interest_Rate</th>\n",
       "      <th>Employment_Years</th>\n",
       "      <th>Annual_Income</th>\n",
       "      <th>Debt_to_Income</th>\n",
       "      <th>Delinquent_2yr</th>\n",
       "      <th>Revolving_Cr_Util</th>\n",
       "      <th>Total_Accounts</th>\n",
       "      <th>Longest_Credit_Length</th>\n",
       "    </tr>\n",
       "  </thead>\n",
       "  <tbody>\n",
       "    <tr>\n",
       "      <th>count</th>\n",
       "      <td>163987.000000</td>\n",
       "      <td>163987.000000</td>\n",
       "      <td>158183.000000</td>\n",
       "      <td>1.639830e+05</td>\n",
       "      <td>163987.000000</td>\n",
       "      <td>163958.000000</td>\n",
       "      <td>163794.000000</td>\n",
       "      <td>163958.000000</td>\n",
       "      <td>163958.000000</td>\n",
       "    </tr>\n",
       "    <tr>\n",
       "      <th>mean</th>\n",
       "      <td>13074.169141</td>\n",
       "      <td>13.715904</td>\n",
       "      <td>5.729389</td>\n",
       "      <td>7.191567e+04</td>\n",
       "      <td>15.881530</td>\n",
       "      <td>0.227357</td>\n",
       "      <td>54.079173</td>\n",
       "      <td>24.579734</td>\n",
       "      <td>14.854274</td>\n",
       "    </tr>\n",
       "    <tr>\n",
       "      <th>std</th>\n",
       "      <td>7993.556189</td>\n",
       "      <td>4.391940</td>\n",
       "      <td>3.541945</td>\n",
       "      <td>5.907092e+04</td>\n",
       "      <td>7.587668</td>\n",
       "      <td>0.694168</td>\n",
       "      <td>25.285367</td>\n",
       "      <td>11.685190</td>\n",
       "      <td>6.947733</td>\n",
       "    </tr>\n",
       "    <tr>\n",
       "      <th>min</th>\n",
       "      <td>500.000000</td>\n",
       "      <td>5.420000</td>\n",
       "      <td>0.500000</td>\n",
       "      <td>1.896000e+03</td>\n",
       "      <td>0.000000</td>\n",
       "      <td>0.000000</td>\n",
       "      <td>0.000000</td>\n",
       "      <td>1.000000</td>\n",
       "      <td>0.000000</td>\n",
       "    </tr>\n",
       "    <tr>\n",
       "      <th>25%</th>\n",
       "      <td>7000.000000</td>\n",
       "      <td>10.650000</td>\n",
       "      <td>2.000000</td>\n",
       "      <td>4.500000e+04</td>\n",
       "      <td>10.230000</td>\n",
       "      <td>0.000000</td>\n",
       "      <td>35.600000</td>\n",
       "      <td>16.000000</td>\n",
       "      <td>10.000000</td>\n",
       "    </tr>\n",
       "    <tr>\n",
       "      <th>50%</th>\n",
       "      <td>11325.000000</td>\n",
       "      <td>13.490000</td>\n",
       "      <td>6.000000</td>\n",
       "      <td>6.100000e+04</td>\n",
       "      <td>15.620000</td>\n",
       "      <td>0.000000</td>\n",
       "      <td>55.800000</td>\n",
       "      <td>23.000000</td>\n",
       "      <td>14.000000</td>\n",
       "    </tr>\n",
       "    <tr>\n",
       "      <th>75%</th>\n",
       "      <td>18000.000000</td>\n",
       "      <td>16.320000</td>\n",
       "      <td>10.000000</td>\n",
       "      <td>8.500000e+04</td>\n",
       "      <td>21.260000</td>\n",
       "      <td>0.000000</td>\n",
       "      <td>74.200000</td>\n",
       "      <td>31.000000</td>\n",
       "      <td>18.000000</td>\n",
       "    </tr>\n",
       "    <tr>\n",
       "      <th>max</th>\n",
       "      <td>35000.000000</td>\n",
       "      <td>26.060000</td>\n",
       "      <td>10.000000</td>\n",
       "      <td>7.141778e+06</td>\n",
       "      <td>39.990000</td>\n",
       "      <td>29.000000</td>\n",
       "      <td>150.700000</td>\n",
       "      <td>118.000000</td>\n",
       "      <td>65.000000</td>\n",
       "    </tr>\n",
       "  </tbody>\n",
       "</table>\n",
       "</div>"
      ],
      "text/plain": [
       "         Loan_Amount  Interest_Rate  Employment_Years  Annual_Income  \\\n",
       "count  163987.000000  163987.000000     158183.000000   1.639830e+05   \n",
       "mean    13074.169141      13.715904          5.729389   7.191567e+04   \n",
       "std      7993.556189       4.391940          3.541945   5.907092e+04   \n",
       "min       500.000000       5.420000          0.500000   1.896000e+03   \n",
       "25%      7000.000000      10.650000          2.000000   4.500000e+04   \n",
       "50%     11325.000000      13.490000          6.000000   6.100000e+04   \n",
       "75%     18000.000000      16.320000         10.000000   8.500000e+04   \n",
       "max     35000.000000      26.060000         10.000000   7.141778e+06   \n",
       "\n",
       "       Debt_to_Income  Delinquent_2yr  Revolving_Cr_Util  Total_Accounts  \\\n",
       "count   163987.000000   163958.000000      163794.000000   163958.000000   \n",
       "mean        15.881530        0.227357          54.079173       24.579734   \n",
       "std          7.587668        0.694168          25.285367       11.685190   \n",
       "min          0.000000        0.000000           0.000000        1.000000   \n",
       "25%         10.230000        0.000000          35.600000       16.000000   \n",
       "50%         15.620000        0.000000          55.800000       23.000000   \n",
       "75%         21.260000        0.000000          74.200000       31.000000   \n",
       "max         39.990000       29.000000         150.700000      118.000000   \n",
       "\n",
       "       Longest_Credit_Length  \n",
       "count          163958.000000  \n",
       "mean               14.854274  \n",
       "std                 6.947733  \n",
       "min                 0.000000  \n",
       "25%                10.000000  \n",
       "50%                14.000000  \n",
       "75%                18.000000  \n",
       "max                65.000000  "
      ]
     },
     "execution_count": 9,
     "metadata": {},
     "output_type": "execute_result"
    }
   ],
   "source": [
    "# Loan_Amount, Interest_Rate, Employment_Years, Annual_Income, Debt_to_Income, Delinquent_2yr, Revolving_Cr_Util, Total_Accounts, Longest_Credit_Length\n",
    "df.describe()"
   ]
  },
  {
   "cell_type": "code",
   "execution_count": 10,
   "metadata": {},
   "outputs": [
    {
     "data": {
      "text/plain": [
       "36 months    129950\n",
       "60 months     34037\n",
       "Name: Term, dtype: int64"
      ]
     },
     "execution_count": 10,
     "metadata": {},
     "output_type": "execute_result"
    }
   ],
   "source": [
    "# Term\n",
    "df['Term'].value_counts()"
   ]
  },
  {
   "cell_type": "code",
   "execution_count": 11,
   "metadata": {},
   "outputs": [
    {
     "data": {
      "text/plain": [
       "MORTGAGE    79714\n",
       "RENT        70526\n",
       "OWN         13560\n",
       "OTHER         156\n",
       "NONE           30\n",
       "ANY             1\n",
       "Name: Home_Ownership, dtype: int64"
      ]
     },
     "execution_count": 11,
     "metadata": {},
     "output_type": "execute_result"
    }
   ],
   "source": [
    "# Home_Ownership\n",
    "df['Home_Ownership'].value_counts()"
   ]
  },
  {
   "cell_type": "code",
   "execution_count": 12,
   "metadata": {},
   "outputs": [],
   "source": [
    "#df['Home_Ownership'] = df['Home_Ownership'].replace('OTHER',np.nan).replace('ANY',np.nan)\n",
    "#df['Home_Ownership'].value_counts()"
   ]
  },
  {
   "cell_type": "code",
   "execution_count": 13,
   "metadata": {},
   "outputs": [
    {
     "data": {
      "text/plain": [
       "VERIFIED - income           60875\n",
       "not verified                59155\n",
       "VERIFIED - income source    43957\n",
       "Name: Verification_Status, dtype: int64"
      ]
     },
     "execution_count": 13,
     "metadata": {},
     "output_type": "execute_result"
    }
   ],
   "source": [
    "# Verification_Status\n",
    "df['Verification_Status'].value_counts()"
   ]
  },
  {
   "cell_type": "code",
   "execution_count": 14,
   "metadata": {},
   "outputs": [
    {
     "data": {
      "text/plain": [
       "verified - income           60875\n",
       "not verified                59155\n",
       "verified - income source    43957\n",
       "Name: Verification_Status, dtype: int64"
      ]
     },
     "execution_count": 14,
     "metadata": {},
     "output_type": "execute_result"
    }
   ],
   "source": [
    "df['Verification_Status'] = df['Verification_Status'].replace('VERIFIED - income source','verified - income source').replace('VERIFIED - income','verified - income')\n",
    "df['Verification_Status'].value_counts()"
   ]
  },
  {
   "cell_type": "code",
   "execution_count": 15,
   "metadata": {},
   "outputs": [],
   "source": [
    "#df['Verification_Status'] = df['Verification_Status'].replace('VERIFIED - income source','verified - income').replace('VERIFIED - income','verified - income')\n",
    "#df['Verification_Status'].value_counts()"
   ]
  },
  {
   "cell_type": "code",
   "execution_count": 16,
   "metadata": {},
   "outputs": [
    {
     "data": {
      "text/plain": [
       "debt_consolidation    93261\n",
       "credit_card           30792\n",
       "other                 10492\n",
       "home_improvement       9872\n",
       "major_purchase         4686\n",
       "small_business         3841\n",
       "car                    2842\n",
       "medical                2029\n",
       "wedding                1751\n",
       "moving                 1464\n",
       "house                  1245\n",
       "vacation               1096\n",
       "educational             418\n",
       "renewable_energy        198\n",
       "Name: Loan_Purpose, dtype: int64"
      ]
     },
     "execution_count": 16,
     "metadata": {},
     "output_type": "execute_result"
    }
   ],
   "source": [
    "# Loan_Purpose\n",
    "df['Loan_Purpose'].value_counts()"
   ]
  },
  {
   "cell_type": "code",
   "execution_count": 17,
   "metadata": {},
   "outputs": [
    {
     "data": {
      "text/plain": [
       "CA    28702\n",
       "NY    14285\n",
       "TX    12128\n",
       "FL    11396\n",
       "NJ     6457\n",
       "IL     6099\n",
       "PA     5427\n",
       "VA     5282\n",
       "GA     5189\n",
       "OH     4896\n",
       "NC     4393\n",
       "MA     4164\n",
       "AZ     3941\n",
       "MD     3890\n",
       "WA     3823\n",
       "MI     3762\n",
       "CO     3531\n",
       "MN     2771\n",
       "MO     2627\n",
       "CT     2563\n",
       "NV     2387\n",
       "OR     2149\n",
       "WI     1980\n",
       "AL     1965\n",
       "LA     1885\n",
       "SC     1826\n",
       "KY     1477\n",
       "IN     1463\n",
       "UT     1389\n",
       "KS     1335\n",
       "OK     1331\n",
       "TN     1327\n",
       "AR     1104\n",
       "HI      955\n",
       "NM      839\n",
       "NH      752\n",
       "WV      714\n",
       "RI      695\n",
       "DC      584\n",
       "MT      483\n",
       "DE      445\n",
       "AK      413\n",
       "WY      376\n",
       "SD      317\n",
       "VT      270\n",
       "MS      163\n",
       "NE       13\n",
       "IA       12\n",
       "ID        9\n",
       "ME        3\n",
       "Name: State, dtype: int64"
      ]
     },
     "execution_count": 17,
     "metadata": {},
     "output_type": "execute_result"
    }
   ],
   "source": [
    "# State\n",
    "df['State'].value_counts()"
   ]
  },
  {
   "cell_type": "code",
   "execution_count": 18,
   "metadata": {},
   "outputs": [
    {
     "data": {
      "text/plain": [
       "GOOD    133972\n",
       "BAD      30016\n",
       "Name: Bad_Loan, dtype: int64"
      ]
     },
     "execution_count": 18,
     "metadata": {},
     "output_type": "execute_result"
    }
   ],
   "source": [
    "# Bad_Loan\n",
    "df['Bad_Loan'].value_counts()"
   ]
  },
  {
   "cell_type": "markdown",
   "metadata": {},
   "source": [
    "# EDA"
   ]
  },
  {
   "cell_type": "code",
   "execution_count": 19,
   "metadata": {},
   "outputs": [],
   "source": [
    "df_eda = df.copy()"
   ]
  },
  {
   "cell_type": "code",
   "execution_count": 20,
   "metadata": {},
   "outputs": [
    {
     "data": {
      "text/plain": [
       "GOOD    0.816962\n",
       "BAD     0.183038\n",
       "Name: Bad_Loan, dtype: float64"
      ]
     },
     "execution_count": 20,
     "metadata": {},
     "output_type": "execute_result"
    }
   ],
   "source": [
    "df_eda['Bad_Loan'].value_counts()/len(df_eda)"
   ]
  },
  {
   "cell_type": "code",
   "execution_count": 21,
   "metadata": {},
   "outputs": [
    {
     "data": {
      "text/plain": [
       "Text(0.5, 1.0, '% Good/Bad Loans')"
      ]
     },
     "execution_count": 21,
     "metadata": {},
     "output_type": "execute_result"
    },
    {
     "data": {
      "image/png": "[encoded data removed]",
      "text/plain": [
       "<Figure size 1080x576 with 1 Axes>"
      ]
     },
     "metadata": {},
     "output_type": "display_data"
    }
   ],
   "source": [
    "# Pie chart\n",
    "plt.rcParams['figure.figsize'] = (15, 8)\n",
    "index=df_eda['Bad_Loan'].value_counts().index\n",
    "df_eda['Bad_Loan'].value_counts().plot(kind = 'pie', explode = [0.1, 0.1], autopct = '%.2f%%', startangle = 90,labels = index, shadow = True, pctdistance = 0.5)\n",
    "plt.title(\"% Good/Bad Loans\")"
   ]
  },
  {
   "cell_type": "markdown",
   "metadata": {},
   "source": [
    "#### This is clearly an imbalanced dataset."
   ]
  },
  {
   "cell_type": "code",
   "execution_count": 22,
   "metadata": {},
   "outputs": [
    {
     "data": {
      "image/png": "[encoded data removed]",
      "text/plain": [
       "<Figure size 1080x576 with 2 Axes>"
      ]
     },
     "metadata": {
      "needs_background": "light"
     },
     "output_type": "display_data"
    }
   ],
   "source": [
    "# heatmap using correlation matrix\n",
    "plt.rcParams['figure.figsize'] = (15, 8)\n",
    "sns.heatmap(df_eda.corr(), annot = True, linewidth = 0.5, cmap = 'Wistia')\n",
    "plt.title('Correlation Heat Map', fontsize = 15)\n",
    "plt.show()"
   ]
  },
  {
   "cell_type": "code",
   "execution_count": 23,
   "metadata": {},
   "outputs": [
    {
     "data": {
      "text/plain": [
       "Loan_Amount              float64\n",
       "Term                      object\n",
       "Interest_Rate            float64\n",
       "Employment_Years         float64\n",
       "Home_Ownership            object\n",
       "Annual_Income            float64\n",
       "Verification_Status       object\n",
       "Loan_Purpose              object\n",
       "State                     object\n",
       "Debt_to_Income           float64\n",
       "Delinquent_2yr           float64\n",
       "Revolving_Cr_Util        float64\n",
       "Total_Accounts           float64\n",
       "Bad_Loan                  object\n",
       "Longest_Credit_Length    float64\n",
       "dtype: object"
      ]
     },
     "execution_count": 23,
     "metadata": {},
     "output_type": "execute_result"
    }
   ],
   "source": [
    "df.dtypes"
   ]
  },
  {
   "cell_type": "code",
   "execution_count": 24,
   "metadata": {},
   "outputs": [],
   "source": [
    "num_var = [i for i in df.columns if df[i].dtype!='O']"
   ]
  },
  {
   "cell_type": "code",
   "execution_count": 25,
   "metadata": {},
   "outputs": [
    {
     "data": {
      "text/html": [
       "<div>\n",
       "<style scoped>\n",
       "    .dataframe tbody tr th:only-of-type {\n",
       "        vertical-align: middle;\n",
       "    }\n",
       "\n",
       "    .dataframe tbody tr th {\n",
       "        vertical-align: top;\n",
       "    }\n",
       "\n",
       "    .dataframe thead th {\n",
       "        text-align: right;\n",
       "    }\n",
       "</style>\n",
       "<table border=\"1\" class=\"dataframe\">\n",
       "  <thead>\n",
       "    <tr style=\"text-align: right;\">\n",
       "      <th></th>\n",
       "      <th>Loan_Amount</th>\n",
       "      <th>Interest_Rate</th>\n",
       "      <th>Employment_Years</th>\n",
       "      <th>Annual_Income</th>\n",
       "      <th>Debt_to_Income</th>\n",
       "      <th>Delinquent_2yr</th>\n",
       "      <th>Revolving_Cr_Util</th>\n",
       "      <th>Total_Accounts</th>\n",
       "      <th>Longest_Credit_Length</th>\n",
       "    </tr>\n",
       "  </thead>\n",
       "  <tbody>\n",
       "    <tr>\n",
       "      <th>0</th>\n",
       "      <td>-1.010088</td>\n",
       "      <td>-0.698077</td>\n",
       "      <td>1.205729</td>\n",
       "      <td>-0.811158</td>\n",
       "      <td>1.551004</td>\n",
       "      <td>-0.327526</td>\n",
       "      <td>1.171465</td>\n",
       "      <td>-1.333293</td>\n",
       "      <td>1.604230</td>\n",
       "    </tr>\n",
       "    <tr>\n",
       "      <th>1</th>\n",
       "      <td>-1.322841</td>\n",
       "      <td>0.353853</td>\n",
       "      <td>-1.476422</td>\n",
       "      <td>-0.709584</td>\n",
       "      <td>-1.961284</td>\n",
       "      <td>-0.327526</td>\n",
       "      <td>-1.767003</td>\n",
       "      <td>-1.761186</td>\n",
       "      <td>-0.410822</td>\n",
       "    </tr>\n",
       "    <tr>\n",
       "      <th>2</th>\n",
       "      <td>-1.335351</td>\n",
       "      <td>0.510959</td>\n",
       "      <td>1.205729</td>\n",
       "      <td>-1.010038</td>\n",
       "      <td>-0.943841</td>\n",
       "      <td>-0.327526</td>\n",
       "      <td>1.756785</td>\n",
       "      <td>-1.247714</td>\n",
       "      <td>-0.698687</td>\n",
       "    </tr>\n",
       "    <tr>\n",
       "      <th>3</th>\n",
       "      <td>-0.384582</td>\n",
       "      <td>-0.051436</td>\n",
       "      <td>1.205729</td>\n",
       "      <td>-0.384550</td>\n",
       "      <td>0.542786</td>\n",
       "      <td>-0.327526</td>\n",
       "      <td>-1.308238</td>\n",
       "      <td>1.062910</td>\n",
       "      <td>0.020975</td>\n",
       "    </tr>\n",
       "    <tr>\n",
       "      <th>4</th>\n",
       "      <td>-1.010088</td>\n",
       "      <td>-1.324226</td>\n",
       "      <td>-0.770593</td>\n",
       "      <td>-0.608011</td>\n",
       "      <td>-0.616994</td>\n",
       "      <td>-0.327526</td>\n",
       "      <td>-1.019532</td>\n",
       "      <td>-1.076557</td>\n",
       "      <td>-1.130484</td>\n",
       "    </tr>\n",
       "  </tbody>\n",
       "</table>\n",
       "</div>"
      ],
      "text/plain": [
       "   Loan_Amount  Interest_Rate  Employment_Years  Annual_Income  \\\n",
       "0    -1.010088      -0.698077          1.205729      -0.811158   \n",
       "1    -1.322841       0.353853         -1.476422      -0.709584   \n",
       "2    -1.335351       0.510959          1.205729      -1.010038   \n",
       "3    -0.384582      -0.051436          1.205729      -0.384550   \n",
       "4    -1.010088      -1.324226         -0.770593      -0.608011   \n",
       "\n",
       "   Debt_to_Income  Delinquent_2yr  Revolving_Cr_Util  Total_Accounts  \\\n",
       "0        1.551004       -0.327526           1.171465       -1.333293   \n",
       "1       -1.961284       -0.327526          -1.767003       -1.761186   \n",
       "2       -0.943841       -0.327526           1.756785       -1.247714   \n",
       "3        0.542786       -0.327526          -1.308238        1.062910   \n",
       "4       -0.616994       -0.327526          -1.019532       -1.076557   \n",
       "\n",
       "   Longest_Credit_Length  \n",
       "0               1.604230  \n",
       "1              -0.410822  \n",
       "2              -0.698687  \n",
       "3               0.020975  \n",
       "4              -1.130484  "
      ]
     },
     "execution_count": 25,
     "metadata": {},
     "output_type": "execute_result"
    }
   ],
   "source": [
    "scaler =StandardScaler()\n",
    "df_eda_scaled = pd.DataFrame(scaler.fit_transform(df_eda[num_var]),columns = df_eda[num_var].columns)\n",
    "df_eda_scaled.head()"
   ]
  },
  {
   "cell_type": "code",
   "execution_count": 26,
   "metadata": {},
   "outputs": [
    {
     "data": {
      "text/html": [
       "<div>\n",
       "<style scoped>\n",
       "    .dataframe tbody tr th:only-of-type {\n",
       "        vertical-align: middle;\n",
       "    }\n",
       "\n",
       "    .dataframe tbody tr th {\n",
       "        vertical-align: top;\n",
       "    }\n",
       "\n",
       "    .dataframe thead th {\n",
       "        text-align: right;\n",
       "    }\n",
       "</style>\n",
       "<table border=\"1\" class=\"dataframe\">\n",
       "  <thead>\n",
       "    <tr style=\"text-align: right;\">\n",
       "      <th></th>\n",
       "      <th>VIF</th>\n",
       "      <th>Features</th>\n",
       "    </tr>\n",
       "  </thead>\n",
       "  <tbody>\n",
       "    <tr>\n",
       "      <th>0</th>\n",
       "      <td>1.261549</td>\n",
       "      <td>Loan_Amount</td>\n",
       "    </tr>\n",
       "    <tr>\n",
       "      <th>1</th>\n",
       "      <td>1.277401</td>\n",
       "      <td>Interest_Rate</td>\n",
       "    </tr>\n",
       "    <tr>\n",
       "      <th>2</th>\n",
       "      <td>1.088632</td>\n",
       "      <td>Employment_Years</td>\n",
       "    </tr>\n",
       "    <tr>\n",
       "      <th>3</th>\n",
       "      <td>1.226520</td>\n",
       "      <td>Annual_Income</td>\n",
       "    </tr>\n",
       "    <tr>\n",
       "      <th>4</th>\n",
       "      <td>1.232278</td>\n",
       "      <td>Debt_to_Income</td>\n",
       "    </tr>\n",
       "    <tr>\n",
       "      <th>5</th>\n",
       "      <td>1.043889</td>\n",
       "      <td>Delinquent_2yr</td>\n",
       "    </tr>\n",
       "    <tr>\n",
       "      <th>6</th>\n",
       "      <td>1.244353</td>\n",
       "      <td>Revolving_Cr_Util</td>\n",
       "    </tr>\n",
       "    <tr>\n",
       "      <th>7</th>\n",
       "      <td>1.341798</td>\n",
       "      <td>Total_Accounts</td>\n",
       "    </tr>\n",
       "    <tr>\n",
       "      <th>8</th>\n",
       "      <td>1.241127</td>\n",
       "      <td>Longest_Credit_Length</td>\n",
       "    </tr>\n",
       "  </tbody>\n",
       "</table>\n",
       "</div>"
      ],
      "text/plain": [
       "        VIF               Features\n",
       "0  1.261549            Loan_Amount\n",
       "1  1.277401          Interest_Rate\n",
       "2  1.088632       Employment_Years\n",
       "3  1.226520          Annual_Income\n",
       "4  1.232278         Debt_to_Income\n",
       "5  1.043889         Delinquent_2yr\n",
       "6  1.244353      Revolving_Cr_Util\n",
       "7  1.341798         Total_Accounts\n",
       "8  1.241127  Longest_Credit_Length"
      ]
     },
     "execution_count": 26,
     "metadata": {},
     "output_type": "execute_result"
    }
   ],
   "source": [
    "variables = df_eda_scaled.dropna().copy()\n",
    "vif = pd.DataFrame()\n",
    "vif[\"VIF\"] = [variance_inflation_factor(variables.values, i) for i in range(variables.shape[1])]\n",
    "vif[\"Features\"] = df_eda_scaled.columns\n",
    "vif"
   ]
  },
  {
   "cell_type": "code",
   "execution_count": 27,
   "metadata": {},
   "outputs": [],
   "source": [
    "del df_eda_scaled"
   ]
  },
  {
   "cell_type": "markdown",
   "metadata": {},
   "source": [
    "#### There is no multi-collinearity"
   ]
  },
  {
   "cell_type": "code",
   "execution_count": 28,
   "metadata": {},
   "outputs": [
    {
     "data": {
      "text/plain": [
       "Text(0.5, 1.0, 'Loan_Amount w.r.t Bad_Loan')"
      ]
     },
     "execution_count": 28,
     "metadata": {},
     "output_type": "execute_result"
    },
    {
     "data": {
      "image/png": "[encoded data removed]",
      "text/plain": [
       "<Figure size 432x216 with 1 Axes>"
      ]
     },
     "metadata": {
      "needs_background": "light"
     },
     "output_type": "display_data"
    }
   ],
   "source": [
    "#  Loan_Amount w.r.t Bad_Loan\n",
    "x=df_eda.groupby('Bad_Loan').apply(lambda x: np.mean(x['Loan_Amount']))\n",
    "fig,ax=plt.subplots(figsize=(6,3))\n",
    "ax.barh(y=range(len(x)), width=x.values,align='center')\n",
    "ax.set(yticks= np.arange(len(x)),yticklabels = x.index)\n",
    "plt.xlabel('Loan_Amount')\n",
    "plt.ylabel('Bad_Loan')\n",
    "plt.title('Loan_Amount w.r.t Bad_Loan')"
   ]
  },
  {
   "cell_type": "code",
   "execution_count": 29,
   "metadata": {},
   "outputs": [
    {
     "data": {
      "text/plain": [
       "Text(0.5, 1.0, 'Interest_Rate w.r.t Bad_Loan')"
      ]
     },
     "execution_count": 29,
     "metadata": {},
     "output_type": "execute_result"
    },
    {
     "data": {
      "image/png": "[encoded data removed]",
      "text/plain": [
       "<Figure size 432x216 with 1 Axes>"
      ]
     },
     "metadata": {
      "needs_background": "light"
     },
     "output_type": "display_data"
    }
   ],
   "source": [
    "#  Interest_Rate w.r.t Bad_Loan\n",
    "x=df_eda.groupby('Bad_Loan').apply(lambda x: np.mean(x['Interest_Rate']))\n",
    "fig,ax=plt.subplots(figsize=(6,3))\n",
    "ax.barh(y=range(len(x)), width=x.values,align='center')\n",
    "ax.set(yticks= np.arange(len(x)),yticklabels = x.index)\n",
    "plt.xlabel('Interest_Rate')\n",
    "plt.ylabel('Bad_Loan')\n",
    "plt.title('Interest_Rate w.r.t Bad_Loan')"
   ]
  },
  {
   "cell_type": "code",
   "execution_count": 30,
   "metadata": {},
   "outputs": [
    {
     "data": {
      "text/plain": [
       "Text(0.5, 1.0, 'Employment_Years w.r.t Bad_Loan')"
      ]
     },
     "execution_count": 30,
     "metadata": {},
     "output_type": "execute_result"
    },
    {
     "data": {
      "image/png": "[encoded data removed]",
      "text/plain": [
       "<Figure size 432x216 with 1 Axes>"
      ]
     },
     "metadata": {
      "needs_background": "light"
     },
     "output_type": "display_data"
    }
   ],
   "source": [
    "#  Employment_Years w.r.t Bad_Loan\n",
    "x=df_eda.groupby('Bad_Loan').apply(lambda x: np.mean(x['Employment_Years']))\n",
    "fig,ax=plt.subplots(figsize=(6,3))\n",
    "ax.barh(y=range(len(x)), width=x.values,align='center')\n",
    "ax.set(yticks= np.arange(len(x)),yticklabels = x.index)\n",
    "plt.xlabel('Employment_Years')\n",
    "plt.ylabel('Bad_Loan')\n",
    "plt.title('Employment_Years w.r.t Bad_Loan')"
   ]
  },
  {
   "cell_type": "code",
   "execution_count": 31,
   "metadata": {},
   "outputs": [
    {
     "data": {
      "text/plain": [
       "Text(0.5, 1.0, 'Annual_Income w.r.t Bad_Loan')"
      ]
     },
     "execution_count": 31,
     "metadata": {},
     "output_type": "execute_result"
    },
    {
     "data": {
      "image/png": "[encoded data removed]",
      "text/plain": [
       "<Figure size 432x216 with 1 Axes>"
      ]
     },
     "metadata": {
      "needs_background": "light"
     },
     "output_type": "display_data"
    }
   ],
   "source": [
    "#  Annual_Income w.r.t Bad_Loan\n",
    "x=df_eda.groupby('Bad_Loan').apply(lambda x: np.mean(x['Annual_Income']))\n",
    "fig,ax=plt.subplots(figsize=(6,3))\n",
    "ax.barh(y=range(len(x)), width=x.values,align='center')\n",
    "ax.set(yticks= np.arange(len(x)),yticklabels = x.index)\n",
    "plt.xlabel('Annual_Income')\n",
    "plt.ylabel('Bad_Loan')\n",
    "plt.title('Annual_Income w.r.t Bad_Loan')"
   ]
  },
  {
   "cell_type": "code",
   "execution_count": 32,
   "metadata": {},
   "outputs": [
    {
     "data": {
      "text/plain": [
       "Text(0.5, 1.0, 'Debt_to_Income w.r.t Bad_Loan')"
      ]
     },
     "execution_count": 32,
     "metadata": {},
     "output_type": "execute_result"
    },
    {
     "data": {
      "image/png": "[encoded data removed]",
      "text/plain": [
       "<Figure size 432x216 with 1 Axes>"
      ]
     },
     "metadata": {
      "needs_background": "light"
     },
     "output_type": "display_data"
    }
   ],
   "source": [
    "#  Debt_to_Income w.r.t Bad_Loan\n",
    "x=df_eda.groupby('Bad_Loan').apply(lambda x: np.mean(x['Debt_to_Income']))\n",
    "fig,ax=plt.subplots(figsize=(6,3))\n",
    "ax.barh(y=range(len(x)), width=x.values,align='center')\n",
    "ax.set(yticks= np.arange(len(x)),yticklabels = x.index)\n",
    "plt.xlabel('Debt_to_Income')\n",
    "plt.ylabel('Bad_Loan')\n",
    "plt.title('Debt_to_Income w.r.t Bad_Loan')"
   ]
  },
  {
   "cell_type": "code",
   "execution_count": 33,
   "metadata": {},
   "outputs": [
    {
     "data": {
      "text/plain": [
       "Text(0.5, 1.0, 'Delinquent_2yr w.r.t Bad_Loan')"
      ]
     },
     "execution_count": 33,
     "metadata": {},
     "output_type": "execute_result"
    },
    {
     "data": {
      "image/png": "[encoded data removed]",
      "text/plain": [
       "<Figure size 432x216 with 1 Axes>"
      ]
     },
     "metadata": {
      "needs_background": "light"
     },
     "output_type": "display_data"
    }
   ],
   "source": [
    "#  Delinquent_2yr w.r.t Bad_Loan\n",
    "x=df_eda.groupby('Bad_Loan').apply(lambda x: np.mean(x['Delinquent_2yr']))\n",
    "fig,ax=plt.subplots(figsize=(6,3))\n",
    "ax.barh(y=range(len(x)), width=x.values,align='center')\n",
    "ax.set(yticks= np.arange(len(x)),yticklabels = x.index)\n",
    "plt.xlabel('Delinquent_2yr')\n",
    "plt.ylabel('Bad_Loan')\n",
    "plt.title('Delinquent_2yr w.r.t Bad_Loan')"
   ]
  },
  {
   "cell_type": "code",
   "execution_count": 34,
   "metadata": {},
   "outputs": [
    {
     "data": {
      "text/plain": [
       "Text(0.5, 1.0, 'Revolving_Cr_Util w.r.t Bad_Loan')"
      ]
     },
     "execution_count": 34,
     "metadata": {},
     "output_type": "execute_result"
    },
    {
     "data": {
      "image/png": "[encoded data removed]",
      "text/plain": [
       "<Figure size 432x216 with 1 Axes>"
      ]
     },
     "metadata": {
      "needs_background": "light"
     },
     "output_type": "display_data"
    }
   ],
   "source": [
    "#  Revolving_Cr_Util w.r.t Bad_Loan\n",
    "x=df_eda.groupby('Bad_Loan').apply(lambda x: np.mean(x['Revolving_Cr_Util']))\n",
    "fig,ax=plt.subplots(figsize=(6,3))\n",
    "ax.barh(y=range(len(x)), width=x.values,align='center')\n",
    "ax.set(yticks= np.arange(len(x)),yticklabels = x.index)\n",
    "plt.xlabel('Revolving_Cr_Util')\n",
    "plt.ylabel('Bad_Loan')\n",
    "plt.title('Revolving_Cr_Util w.r.t Bad_Loan')"
   ]
  },
  {
   "cell_type": "code",
   "execution_count": 35,
   "metadata": {},
   "outputs": [
    {
     "data": {
      "text/plain": [
       "Text(0.5, 1.0, 'Total_Accounts w.r.t Bad_Loan')"
      ]
     },
     "execution_count": 35,
     "metadata": {},
     "output_type": "execute_result"
    },
    {
     "data": {
      "image/png": "[encoded data removed]",
      "text/plain": [
       "<Figure size 432x216 with 1 Axes>"
      ]
     },
     "metadata": {
      "needs_background": "light"
     },
     "output_type": "display_data"
    }
   ],
   "source": [
    "#  Total_Accounts w.r.t Bad_Loan\n",
    "x=df_eda.groupby('Bad_Loan').apply(lambda x: np.mean(x['Total_Accounts']))\n",
    "fig,ax=plt.subplots(figsize=(6,3))\n",
    "ax.barh(y=range(len(x)), width=x.values,align='center')\n",
    "ax.set(yticks= np.arange(len(x)),yticklabels = x.index)\n",
    "plt.xlabel('Total_Accounts')\n",
    "plt.ylabel('Bad_Loan')\n",
    "plt.title('Total_Accounts w.r.t Bad_Loan')"
   ]
  },
  {
   "cell_type": "code",
   "execution_count": 36,
   "metadata": {},
   "outputs": [
    {
     "data": {
      "text/plain": [
       "Text(0.5, 1.0, 'Longest_Credit_Length w.r.t Bad_Loan')"
      ]
     },
     "execution_count": 36,
     "metadata": {},
     "output_type": "execute_result"
    },
    {
     "data": {
      "image/png": "[encoded data removed]",
      "text/plain": [
       "<Figure size 432x216 with 1 Axes>"
      ]
     },
     "metadata": {
      "needs_background": "light"
     },
     "output_type": "display_data"
    }
   ],
   "source": [
    "#  Longest_Credit_Length w.r.t Bad_Loan\n",
    "x=df_eda.groupby('Bad_Loan').apply(lambda x: np.mean(x['Longest_Credit_Length']))\n",
    "fig,ax=plt.subplots(figsize=(6,3))\n",
    "ax.barh(y=range(len(x)), width=x.values,align='center')\n",
    "ax.set(yticks= np.arange(len(x)),yticklabels = x.index)\n",
    "plt.xlabel('Longest_Credit_Length')\n",
    "plt.ylabel('Bad_Loan')\n",
    "plt.title('Longest_Credit_Length w.r.t Bad_Loan')"
   ]
  },
  {
   "cell_type": "code",
   "execution_count": 37,
   "metadata": {},
   "outputs": [],
   "source": [
    "df_eda['Bad_Loan'] = df_eda['Bad_Loan'].map({'BAD':1,'GOOD':0})"
   ]
  },
  {
   "cell_type": "code",
   "execution_count": 38,
   "metadata": {},
   "outputs": [
    {
     "data": {
      "text/plain": [
       "Text(0.5, 1.0, 'Term w.r.t Bad_Loan')"
      ]
     },
     "execution_count": 38,
     "metadata": {},
     "output_type": "execute_result"
    },
    {
     "data": {
      "image/png": "[encoded data removed]",
      "text/plain": [
       "<Figure size 432x216 with 1 Axes>"
      ]
     },
     "metadata": {
      "needs_background": "light"
     },
     "output_type": "display_data"
    }
   ],
   "source": [
    "#  Term w.r.t Bad_Loan\n",
    "x=df_eda.groupby('Term').apply(lambda x: np.mean(x['Bad_Loan']))\n",
    "fig,ax=plt.subplots(figsize=(6,3))\n",
    "ax.barh(y=range(len(x)), width=x.values,align='center')\n",
    "ax.set(yticks= np.arange(len(x)),yticklabels = x.index)\n",
    "plt.xlabel('% of Bad Loan')\n",
    "plt.ylabel('Term')\n",
    "plt.title('Term w.r.t Bad_Loan')"
   ]
  },
  {
   "cell_type": "code",
   "execution_count": 39,
   "metadata": {},
   "outputs": [
    {
     "data": {
      "text/plain": [
       "Text(0.5, 1.0, 'Home_Ownership w.r.t Bad_Loan')"
      ]
     },
     "execution_count": 39,
     "metadata": {},
     "output_type": "execute_result"
    },
    {
     "data": {
      "image/png": "[encoded data removed]",
      "text/plain": [
       "<Figure size 432x216 with 1 Axes>"
      ]
     },
     "metadata": {
      "needs_background": "light"
     },
     "output_type": "display_data"
    }
   ],
   "source": [
    "#  Home_Ownership w.r.t Bad_Loan\n",
    "x=df_eda.groupby('Home_Ownership').apply(lambda x: np.mean(x['Bad_Loan']))\n",
    "fig,ax=plt.subplots(figsize=(6,3))\n",
    "ax.barh(y=range(len(x)), width=x.values,align='center')\n",
    "ax.set(yticks= np.arange(len(x)),yticklabels = x.index)\n",
    "plt.xlabel('% of Bad Loan')\n",
    "plt.ylabel('Home_Ownership')\n",
    "plt.title('Home_Ownership w.r.t Bad_Loan')"
   ]
  },
  {
   "cell_type": "code",
   "execution_count": 40,
   "metadata": {},
   "outputs": [
    {
     "data": {
      "text/plain": [
       "Text(0.5, 1.0, 'Verification_Status w.r.t Bad_Loan')"
      ]
     },
     "execution_count": 40,
     "metadata": {},
     "output_type": "execute_result"
    },
    {
     "data": {
      "image/png": "[encoded data removed]",
      "text/plain": [
       "<Figure size 432x216 with 1 Axes>"
      ]
     },
     "metadata": {
      "needs_background": "light"
     },
     "output_type": "display_data"
    }
   ],
   "source": [
    "#  Verification_Status w.r.t Bad_Loan\n",
    "x=df_eda.groupby('Verification_Status').apply(lambda x: np.mean(x['Bad_Loan']))\n",
    "fig,ax=plt.subplots(figsize=(6,3))\n",
    "ax.barh(y=range(len(x)), width=x.values,align='center')\n",
    "ax.set(yticks= np.arange(len(x)),yticklabels = x.index)\n",
    "plt.xlabel('% of Bad Loan')\n",
    "plt.ylabel('Verification_Status')\n",
    "plt.title('Verification_Status w.r.t Bad_Loan')"
   ]
  },
  {
   "cell_type": "code",
   "execution_count": 41,
   "metadata": {},
   "outputs": [
    {
     "data": {
      "text/plain": [
       "Text(0.5, 1.0, 'Loan_Purpose w.r.t Bad_Loan')"
      ]
     },
     "execution_count": 41,
     "metadata": {},
     "output_type": "execute_result"
    },
    {
     "data": {
      "image/png": "[encoded data removed]",
      "text/plain": [
       "<Figure size 432x216 with 1 Axes>"
      ]
     },
     "metadata": {
      "needs_background": "light"
     },
     "output_type": "display_data"
    }
   ],
   "source": [
    "#  Loan_Purpose w.r.t Bad_Loan\n",
    "x=df_eda.groupby('Loan_Purpose').apply(lambda x: np.mean(x['Bad_Loan']))\n",
    "fig,ax=plt.subplots(figsize=(6,3))\n",
    "ax.barh(y=range(len(x)), width=x.values,align='center')\n",
    "ax.set(yticks= np.arange(len(x)),yticklabels = x.index)\n",
    "plt.xlabel('% of Bad Loan')\n",
    "plt.ylabel('Loan_Purpose')\n",
    "plt.title('Loan_Purpose w.r.t Bad_Loan')"
   ]
  },
  {
   "cell_type": "code",
   "execution_count": 42,
   "metadata": {},
   "outputs": [
    {
     "data": {
      "text/plain": [
       "Text(0.5, 1.0, 'State w.r.t Bad_Loan')"
      ]
     },
     "execution_count": 42,
     "metadata": {},
     "output_type": "execute_result"
    },
    {
     "data": {
      "image/png": "[encoded data removed]",
      "text/plain": [
       "<Figure size 720x720 with 1 Axes>"
      ]
     },
     "metadata": {
      "needs_background": "light"
     },
     "output_type": "display_data"
    }
   ],
   "source": [
    "#  State w.r.t Bad_Loan\n",
    "x=df_eda.groupby('State').apply(lambda x: np.mean(x['Bad_Loan']))\n",
    "fig,ax=plt.subplots(figsize=(10,10))\n",
    "ax.barh(y=range(len(x)), width=x.values,align='center')\n",
    "ax.set(yticks= np.arange(len(x)),yticklabels = x.index)\n",
    "plt.xlabel('% of Bad Loan')\n",
    "plt.ylabel('State')\n",
    "plt.title('State w.r.t Bad_Loan')"
   ]
  },
  {
   "cell_type": "code",
   "execution_count": 43,
   "metadata": {},
   "outputs": [],
   "source": [
    "del df_eda"
   ]
  },
  {
   "cell_type": "markdown",
   "metadata": {},
   "source": [
    "# Statistical Analysis"
   ]
  },
  {
   "cell_type": "code",
   "execution_count": 44,
   "metadata": {},
   "outputs": [],
   "source": [
    "df_test = df.dropna().reset_index(drop=True).copy()"
   ]
  },
  {
   "cell_type": "code",
   "execution_count": 45,
   "metadata": {},
   "outputs": [
    {
     "name": "stdout",
     "output_type": "stream",
     "text": [
      "28451 129545\n"
     ]
    }
   ],
   "source": [
    "target_Bad = df_test[df_test['Bad_Loan']=='BAD']\n",
    "target_Good = df_test[df_test['Bad_Loan']=='GOOD']\n",
    "print(target_Bad.shape[0],target_Good.shape[0])"
   ]
  },
  {
   "cell_type": "code",
   "execution_count": 46,
   "metadata": {},
   "outputs": [
    {
     "data": {
      "text/plain": [
       "Text(0, 0.5, 'Loan_Amount')"
      ]
     },
     "execution_count": 46,
     "metadata": {},
     "output_type": "execute_result"
    },
    {
     "data": {
      "image/png": "[encoded data removed]",
      "text/plain": [
       "<Figure size 360x360 with 1 Axes>"
      ]
     },
     "metadata": {
      "needs_background": "light"
     },
     "output_type": "display_data"
    }
   ],
   "source": [
    "#  Loan_Amount w.r.t Bad_Loan\n",
    "plt.figure(figsize=(5,5))\n",
    "df.groupby('Bad_Loan').mean()['Loan_Amount'].plot.bar()\n",
    "plt.ylabel(\"Loan_Amount\")"
   ]
  },
  {
   "cell_type": "code",
   "execution_count": 47,
   "metadata": {},
   "outputs": [
    {
     "name": "stdout",
     "output_type": "stream",
     "text": [
      "4.937132363551648e-140\n",
      "Reject null hypothesis\n"
     ]
    }
   ],
   "source": [
    "ztest ,pval = stests.ztest(x1=target_Bad['Loan_Amount'], x2=target_Good['Loan_Amount'], value=0,alternative='two-sided')\n",
    "print(float(pval))\n",
    "if pval<0.05:\n",
    "    print(\"Reject null hypothesis\")\n",
    "else:\n",
    "    print(\"Failed to reject null hypothesis\")"
   ]
  },
  {
   "cell_type": "markdown",
   "metadata": {},
   "source": [
    "#### According to z test, Bad_Loan is dependent upon Loan_Amount"
   ]
  },
  {
   "cell_type": "code",
   "execution_count": 48,
   "metadata": {},
   "outputs": [
    {
     "data": {
      "text/plain": [
       "Text(0, 0.5, 'Interest_Rate')"
      ]
     },
     "execution_count": 48,
     "metadata": {},
     "output_type": "execute_result"
    },
    {
     "data": {
      "image/png": "[encoded data removed]",
      "text/plain": [
       "<Figure size 360x360 with 1 Axes>"
      ]
     },
     "metadata": {
      "needs_background": "light"
     },
     "output_type": "display_data"
    }
   ],
   "source": [
    "#  Interest_Rate w.r.t Bad_Loan\n",
    "plt.figure(figsize=(5,5))\n",
    "df.groupby('Bad_Loan').mean()['Interest_Rate'].plot.bar()\n",
    "plt.ylabel(\"Interest_Rate\")"
   ]
  },
  {
   "cell_type": "code",
   "execution_count": 49,
   "metadata": {},
   "outputs": [
    {
     "name": "stdout",
     "output_type": "stream",
     "text": [
      "0.0\n",
      "Reject null hypothesis\n"
     ]
    }
   ],
   "source": [
    "ztest ,pval = stests.ztest(x1=target_Bad['Interest_Rate'], x2=target_Good['Interest_Rate'], value=0,alternative='two-sided')\n",
    "print(float(pval))\n",
    "if pval<0.05:\n",
    "    print(\"Reject null hypothesis\")\n",
    "else:\n",
    "    print(\"Failed to reject null hypothesis\")"
   ]
  },
  {
   "cell_type": "markdown",
   "metadata": {},
   "source": [
    "#### According to z test, Bad_Loan is dependent upon Interest_Rate"
   ]
  },
  {
   "cell_type": "code",
   "execution_count": 50,
   "metadata": {},
   "outputs": [
    {
     "data": {
      "text/plain": [
       "Text(0, 0.5, 'Employment_Years')"
      ]
     },
     "execution_count": 50,
     "metadata": {},
     "output_type": "execute_result"
    },
    {
     "data": {
      "image/png": "[encoded data removed]",
      "text/plain": [
       "<Figure size 360x360 with 1 Axes>"
      ]
     },
     "metadata": {
      "needs_background": "light"
     },
     "output_type": "display_data"
    }
   ],
   "source": [
    "#  Employment_Years w.r.t Bad_Loan\n",
    "plt.figure(figsize=(5,5))\n",
    "df.groupby('Bad_Loan').mean()['Employment_Years'].plot.bar()\n",
    "plt.ylabel(\"Employment_Years\")"
   ]
  },
  {
   "cell_type": "code",
   "execution_count": 51,
   "metadata": {},
   "outputs": [
    {
     "name": "stdout",
     "output_type": "stream",
     "text": [
      "0.591759624882989\n",
      "Failed to reject null hypothesis\n"
     ]
    }
   ],
   "source": [
    "ztest ,pval = stests.ztest(x1=target_Bad['Employment_Years'], x2=target_Good['Employment_Years'], value=0,alternative='two-sided')\n",
    "print(float(pval))\n",
    "if pval<0.05:\n",
    "    print(\"Reject null hypothesis\")\n",
    "else:\n",
    "    print(\"Failed to reject null hypothesis\")"
   ]
  },
  {
   "cell_type": "markdown",
   "metadata": {},
   "source": [
    "#### According to z test, Bad_Loan is independent upon Employment_Years"
   ]
  },
  {
   "cell_type": "code",
   "execution_count": 52,
   "metadata": {},
   "outputs": [
    {
     "data": {
      "text/html": [
       "<div>\n",
       "<style scoped>\n",
       "    .dataframe tbody tr th:only-of-type {\n",
       "        vertical-align: middle;\n",
       "    }\n",
       "\n",
       "    .dataframe tbody tr th {\n",
       "        vertical-align: top;\n",
       "    }\n",
       "\n",
       "    .dataframe thead th {\n",
       "        text-align: right;\n",
       "    }\n",
       "</style>\n",
       "<table border=\"1\" class=\"dataframe\">\n",
       "  <thead>\n",
       "    <tr style=\"text-align: right;\">\n",
       "      <th></th>\n",
       "      <th>Loan_Amount</th>\n",
       "      <th>Term</th>\n",
       "      <th>Interest_Rate</th>\n",
       "      <th>Home_Ownership</th>\n",
       "      <th>Annual_Income</th>\n",
       "      <th>Verification_Status</th>\n",
       "      <th>Loan_Purpose</th>\n",
       "      <th>State</th>\n",
       "      <th>Debt_to_Income</th>\n",
       "      <th>Delinquent_2yr</th>\n",
       "      <th>Revolving_Cr_Util</th>\n",
       "      <th>Total_Accounts</th>\n",
       "      <th>Bad_Loan</th>\n",
       "      <th>Longest_Credit_Length</th>\n",
       "    </tr>\n",
       "  </thead>\n",
       "  <tbody>\n",
       "    <tr>\n",
       "      <th>0</th>\n",
       "      <td>5000.0</td>\n",
       "      <td>36 months</td>\n",
       "      <td>10.65</td>\n",
       "      <td>RENT</td>\n",
       "      <td>24000.0</td>\n",
       "      <td>verified - income</td>\n",
       "      <td>credit_card</td>\n",
       "      <td>AZ</td>\n",
       "      <td>27.65</td>\n",
       "      <td>0.0</td>\n",
       "      <td>83.7</td>\n",
       "      <td>9.0</td>\n",
       "      <td>GOOD</td>\n",
       "      <td>26.0</td>\n",
       "    </tr>\n",
       "    <tr>\n",
       "      <th>1</th>\n",
       "      <td>2500.0</td>\n",
       "      <td>60 months</td>\n",
       "      <td>15.27</td>\n",
       "      <td>RENT</td>\n",
       "      <td>30000.0</td>\n",
       "      <td>verified - income source</td>\n",
       "      <td>car</td>\n",
       "      <td>GA</td>\n",
       "      <td>1.00</td>\n",
       "      <td>0.0</td>\n",
       "      <td>9.4</td>\n",
       "      <td>4.0</td>\n",
       "      <td>BAD</td>\n",
       "      <td>12.0</td>\n",
       "    </tr>\n",
       "    <tr>\n",
       "      <th>2</th>\n",
       "      <td>2400.0</td>\n",
       "      <td>36 months</td>\n",
       "      <td>15.96</td>\n",
       "      <td>RENT</td>\n",
       "      <td>12252.0</td>\n",
       "      <td>not verified</td>\n",
       "      <td>small_business</td>\n",
       "      <td>IL</td>\n",
       "      <td>8.72</td>\n",
       "      <td>0.0</td>\n",
       "      <td>98.5</td>\n",
       "      <td>10.0</td>\n",
       "      <td>GOOD</td>\n",
       "      <td>10.0</td>\n",
       "    </tr>\n",
       "    <tr>\n",
       "      <th>3</th>\n",
       "      <td>10000.0</td>\n",
       "      <td>36 months</td>\n",
       "      <td>13.49</td>\n",
       "      <td>RENT</td>\n",
       "      <td>49200.0</td>\n",
       "      <td>verified - income source</td>\n",
       "      <td>other</td>\n",
       "      <td>CA</td>\n",
       "      <td>20.00</td>\n",
       "      <td>0.0</td>\n",
       "      <td>21.0</td>\n",
       "      <td>37.0</td>\n",
       "      <td>GOOD</td>\n",
       "      <td>15.0</td>\n",
       "    </tr>\n",
       "    <tr>\n",
       "      <th>4</th>\n",
       "      <td>5000.0</td>\n",
       "      <td>36 months</td>\n",
       "      <td>7.90</td>\n",
       "      <td>RENT</td>\n",
       "      <td>36000.0</td>\n",
       "      <td>verified - income source</td>\n",
       "      <td>wedding</td>\n",
       "      <td>AZ</td>\n",
       "      <td>11.20</td>\n",
       "      <td>0.0</td>\n",
       "      <td>28.3</td>\n",
       "      <td>12.0</td>\n",
       "      <td>GOOD</td>\n",
       "      <td>7.0</td>\n",
       "    </tr>\n",
       "  </tbody>\n",
       "</table>\n",
       "</div>"
      ],
      "text/plain": [
       "   Loan_Amount       Term  Interest_Rate Home_Ownership  Annual_Income  \\\n",
       "0       5000.0  36 months          10.65           RENT        24000.0   \n",
       "1       2500.0  60 months          15.27           RENT        30000.0   \n",
       "2       2400.0  36 months          15.96           RENT        12252.0   \n",
       "3      10000.0  36 months          13.49           RENT        49200.0   \n",
       "4       5000.0  36 months           7.90           RENT        36000.0   \n",
       "\n",
       "        Verification_Status    Loan_Purpose State  Debt_to_Income  \\\n",
       "0         verified - income     credit_card    AZ           27.65   \n",
       "1  verified - income source             car    GA            1.00   \n",
       "2              not verified  small_business    IL            8.72   \n",
       "3  verified - income source           other    CA           20.00   \n",
       "4  verified - income source         wedding    AZ           11.20   \n",
       "\n",
       "   Delinquent_2yr  Revolving_Cr_Util  Total_Accounts Bad_Loan  \\\n",
       "0             0.0               83.7             9.0     GOOD   \n",
       "1             0.0                9.4             4.0      BAD   \n",
       "2             0.0               98.5            10.0     GOOD   \n",
       "3             0.0               21.0            37.0     GOOD   \n",
       "4             0.0               28.3            12.0     GOOD   \n",
       "\n",
       "   Longest_Credit_Length  \n",
       "0                   26.0  \n",
       "1                   12.0  \n",
       "2                   10.0  \n",
       "3                   15.0  \n",
       "4                    7.0  "
      ]
     },
     "execution_count": 52,
     "metadata": {},
     "output_type": "execute_result"
    }
   ],
   "source": [
    "df = df.drop(columns = 'Employment_Years')\n",
    "df.head()"
   ]
  },
  {
   "cell_type": "code",
   "execution_count": 53,
   "metadata": {
    "scrolled": true
   },
   "outputs": [
    {
     "data": {
      "text/plain": [
       "Text(0, 0.5, 'Annual_Income')"
      ]
     },
     "execution_count": 53,
     "metadata": {},
     "output_type": "execute_result"
    },
    {
     "data": {
      "image/png": "[encoded data removed]",
      "text/plain": [
       "<Figure size 360x360 with 1 Axes>"
      ]
     },
     "metadata": {
      "needs_background": "light"
     },
     "output_type": "display_data"
    }
   ],
   "source": [
    "#  Annual_Income w.r.t Bad_Loan\n",
    "plt.figure(figsize=(5,5))\n",
    "df.groupby('Bad_Loan').mean()['Annual_Income'].plot.bar()\n",
    "plt.ylabel(\"Annual_Income\")"
   ]
  },
  {
   "cell_type": "code",
   "execution_count": 54,
   "metadata": {},
   "outputs": [
    {
     "name": "stdout",
     "output_type": "stream",
     "text": [
      "1.3382016761783533e-117\n",
      "Reject null hypothesis\n"
     ]
    }
   ],
   "source": [
    "ztest ,pval = stests.ztest(x1=target_Bad['Annual_Income'], x2=target_Good['Annual_Income'], value=0,alternative='two-sided')\n",
    "print(float(pval))\n",
    "if pval<0.05:\n",
    "    print(\"Reject null hypothesis\")\n",
    "else:\n",
    "    print(\"Failed to reject null hypothesis\")"
   ]
  },
  {
   "cell_type": "markdown",
   "metadata": {},
   "source": [
    "#### According to z test, Bad_Loan is dependent upon Annual_Income"
   ]
  },
  {
   "cell_type": "code",
   "execution_count": 55,
   "metadata": {
    "scrolled": true
   },
   "outputs": [
    {
     "data": {
      "text/plain": [
       "Text(0, 0.5, 'Debt_to_Income')"
      ]
     },
     "execution_count": 55,
     "metadata": {},
     "output_type": "execute_result"
    },
    {
     "data": {
      "image/png": "[encoded data removed]",
      "text/plain": [
       "<Figure size 360x360 with 1 Axes>"
      ]
     },
     "metadata": {
      "needs_background": "light"
     },
     "output_type": "display_data"
    }
   ],
   "source": [
    "#  Debt_to_Income w.r.t Bad_Loan\n",
    "plt.figure(figsize=(5,5))\n",
    "df.groupby('Bad_Loan').mean()['Debt_to_Income'].plot.bar()\n",
    "plt.ylabel(\"Debt_to_Income\")"
   ]
  },
  {
   "cell_type": "code",
   "execution_count": 56,
   "metadata": {},
   "outputs": [
    {
     "name": "stdout",
     "output_type": "stream",
     "text": [
      "0.0\n",
      "Reject null hypothesis\n"
     ]
    }
   ],
   "source": [
    "ztest ,pval = stests.ztest(x1=target_Bad['Debt_to_Income'], x2=target_Good['Debt_to_Income'], value=0,alternative='two-sided')\n",
    "print(float(pval))\n",
    "if pval<0.05:\n",
    "    print(\"Reject null hypothesis\")\n",
    "else:\n",
    "    print(\"Failed to reject null hypothesis\")"
   ]
  },
  {
   "cell_type": "markdown",
   "metadata": {},
   "source": [
    "#### According to z test, Bad_Loan is dependent upon Debt_to_Income"
   ]
  },
  {
   "cell_type": "code",
   "execution_count": 57,
   "metadata": {
    "scrolled": true
   },
   "outputs": [
    {
     "data": {
      "text/plain": [
       "Text(0, 0.5, 'Delinquent_2yr')"
      ]
     },
     "execution_count": 57,
     "metadata": {},
     "output_type": "execute_result"
    },
    {
     "data": {
      "image/png": "[encoded data removed]",
      "text/plain": [
       "<Figure size 360x360 with 1 Axes>"
      ]
     },
     "metadata": {
      "needs_background": "light"
     },
     "output_type": "display_data"
    }
   ],
   "source": [
    "#  Delinquent_2yr w.r.t Bad_Loan\n",
    "plt.figure(figsize=(5,5))\n",
    "df.groupby('Bad_Loan').mean()['Delinquent_2yr'].plot.bar()\n",
    "plt.ylabel(\"Delinquent_2yr\")"
   ]
  },
  {
   "cell_type": "code",
   "execution_count": 58,
   "metadata": {},
   "outputs": [
    {
     "name": "stdout",
     "output_type": "stream",
     "text": [
      "3.941800908659392e-07\n",
      "Reject null hypothesis\n"
     ]
    }
   ],
   "source": [
    "ztest ,pval = stests.ztest(x1=target_Bad['Delinquent_2yr'], x2=target_Good['Delinquent_2yr'], value=0,alternative='two-sided')\n",
    "print(float(pval))\n",
    "if pval<0.05:\n",
    "    print(\"Reject null hypothesis\")\n",
    "else:\n",
    "    print(\"Failed to reject null hypothesis\")"
   ]
  },
  {
   "cell_type": "markdown",
   "metadata": {},
   "source": [
    "#### According to z test, Bad_Loan is dependent upon Delinquent_2yr"
   ]
  },
  {
   "cell_type": "code",
   "execution_count": 59,
   "metadata": {
    "scrolled": false
   },
   "outputs": [
    {
     "data": {
      "text/plain": [
       "Text(0, 0.5, 'Revolving_Cr_Util')"
      ]
     },
     "execution_count": 59,
     "metadata": {},
     "output_type": "execute_result"
    },
    {
     "data": {
      "image/png": "[encoded data removed]",
      "text/plain": [
       "<Figure size 360x360 with 1 Axes>"
      ]
     },
     "metadata": {
      "needs_background": "light"
     },
     "output_type": "display_data"
    }
   ],
   "source": [
    "#  Revolving_Cr_Util w.r.t Bad_Loan\n",
    "plt.figure(figsize=(5,5))\n",
    "df.groupby('Bad_Loan').mean()['Revolving_Cr_Util'].plot.bar()\n",
    "plt.ylabel(\"Revolving_Cr_Util\")"
   ]
  },
  {
   "cell_type": "code",
   "execution_count": 60,
   "metadata": {},
   "outputs": [
    {
     "name": "stdout",
     "output_type": "stream",
     "text": [
      "0.0\n",
      "Reject null hypothesis\n"
     ]
    }
   ],
   "source": [
    "ztest ,pval = stests.ztest(x1=target_Bad['Revolving_Cr_Util'], x2=target_Good['Revolving_Cr_Util'], value=0,alternative='two-sided')\n",
    "print(float(pval))\n",
    "if pval<0.05:\n",
    "    print(\"Reject null hypothesis\")\n",
    "else:\n",
    "    print(\"Failed to reject null hypothesis\")"
   ]
  },
  {
   "cell_type": "markdown",
   "metadata": {},
   "source": [
    "#### According to z test, Bad_Loan is dependent upon Revolving_Cr_Util"
   ]
  },
  {
   "cell_type": "code",
   "execution_count": 61,
   "metadata": {
    "scrolled": false
   },
   "outputs": [
    {
     "data": {
      "text/plain": [
       "Text(0, 0.5, 'Total_Accounts')"
      ]
     },
     "execution_count": 61,
     "metadata": {},
     "output_type": "execute_result"
    },
    {
     "data": {
      "image/png": "[encoded data removed]",
      "text/plain": [
       "<Figure size 360x360 with 1 Axes>"
      ]
     },
     "metadata": {
      "needs_background": "light"
     },
     "output_type": "display_data"
    }
   ],
   "source": [
    "#  Total_Accounts w.r.t Bad_Loan\n",
    "plt.figure(figsize=(5,5))\n",
    "df.groupby('Bad_Loan').mean()['Total_Accounts'].plot.bar()\n",
    "plt.ylabel(\"Total_Accounts\")"
   ]
  },
  {
   "cell_type": "code",
   "execution_count": 62,
   "metadata": {},
   "outputs": [
    {
     "name": "stdout",
     "output_type": "stream",
     "text": [
      "2.3665048139894374e-54\n",
      "Reject null hypothesis\n"
     ]
    }
   ],
   "source": [
    "ztest ,pval = stests.ztest(x1=target_Bad['Total_Accounts'], x2=target_Good['Total_Accounts'], value=0,alternative='two-sided')\n",
    "print(float(pval))\n",
    "if pval<0.05:\n",
    "    print(\"Reject null hypothesis\")\n",
    "else:\n",
    "    print(\"Failed to reject null hypothesis\")"
   ]
  },
  {
   "cell_type": "markdown",
   "metadata": {},
   "source": [
    "#### According to z test, Bad_Loan is dependent upon Total_Accounts"
   ]
  },
  {
   "cell_type": "code",
   "execution_count": 63,
   "metadata": {
    "scrolled": false
   },
   "outputs": [
    {
     "data": {
      "text/plain": [
       "Text(0, 0.5, 'Longest_Credit_Length')"
      ]
     },
     "execution_count": 63,
     "metadata": {},
     "output_type": "execute_result"
    },
    {
     "data": {
      "image/png": "[encoded data removed]",
      "text/plain": [
       "<Figure size 360x360 with 1 Axes>"
      ]
     },
     "metadata": {
      "needs_background": "light"
     },
     "output_type": "display_data"
    }
   ],
   "source": [
    "#  Longest_Credit_Length w.r.t Bad_Loan\n",
    "plt.figure(figsize=(5,5))\n",
    "df.groupby('Bad_Loan').mean()['Longest_Credit_Length'].plot.bar()\n",
    "plt.ylabel(\"Longest_Credit_Length\")"
   ]
  },
  {
   "cell_type": "code",
   "execution_count": 64,
   "metadata": {},
   "outputs": [
    {
     "name": "stdout",
     "output_type": "stream",
     "text": [
      "5.6555516880292425e-30\n",
      "Reject null hypothesis\n"
     ]
    }
   ],
   "source": [
    "ztest ,pval = stests.ztest(x1=target_Bad['Longest_Credit_Length'], x2=target_Good['Longest_Credit_Length'], value=0,alternative='two-sided')\n",
    "print(float(pval))\n",
    "if pval<0.05:\n",
    "    print(\"Reject null hypothesis\")\n",
    "else:\n",
    "    print(\"Failed to reject null hypothesis\")"
   ]
  },
  {
   "cell_type": "markdown",
   "metadata": {},
   "source": [
    "#### According to z test, Bad_Loan is dependent upon Longest_Credit_Length"
   ]
  },
  {
   "cell_type": "code",
   "execution_count": 65,
   "metadata": {},
   "outputs": [],
   "source": [
    "df_test['Bad_Loan'] = df_test['Bad_Loan'].map({'BAD':1,'GOOD':0})"
   ]
  },
  {
   "cell_type": "code",
   "execution_count": 66,
   "metadata": {},
   "outputs": [
    {
     "data": {
      "text/plain": [
       "Text(0, 0.5, '% of Bad Loan')"
      ]
     },
     "execution_count": 66,
     "metadata": {},
     "output_type": "execute_result"
    },
    {
     "data": {
      "image/png": "[encoded data removed]",
      "text/plain": [
       "<Figure size 360x360 with 1 Axes>"
      ]
     },
     "metadata": {
      "needs_background": "light"
     },
     "output_type": "display_data"
    }
   ],
   "source": [
    "#  Term w.r.t Bad_Loan\n",
    "plt.figure(figsize=(5,5))\n",
    "df_test.groupby('Term').mean()['Bad_Loan'].plot.bar()\n",
    "plt.ylabel(\"% of Bad Loan\")"
   ]
  },
  {
   "cell_type": "code",
   "execution_count": 67,
   "metadata": {
    "scrolled": false
   },
   "outputs": [
    {
     "data": {
      "text/html": [
       "<div>\n",
       "<style scoped>\n",
       "    .dataframe tbody tr th:only-of-type {\n",
       "        vertical-align: middle;\n",
       "    }\n",
       "\n",
       "    .dataframe tbody tr th {\n",
       "        vertical-align: top;\n",
       "    }\n",
       "\n",
       "    .dataframe thead th {\n",
       "        text-align: right;\n",
       "    }\n",
       "</style>\n",
       "<table border=\"1\" class=\"dataframe\">\n",
       "  <thead>\n",
       "    <tr style=\"text-align: right;\">\n",
       "      <th>Bad_Loan</th>\n",
       "      <th>0</th>\n",
       "      <th>1</th>\n",
       "    </tr>\n",
       "    <tr>\n",
       "      <th>Term</th>\n",
       "      <th></th>\n",
       "      <th></th>\n",
       "    </tr>\n",
       "  </thead>\n",
       "  <tbody>\n",
       "    <tr>\n",
       "      <th>36 months</th>\n",
       "      <td>106064</td>\n",
       "      <td>18720</td>\n",
       "    </tr>\n",
       "    <tr>\n",
       "      <th>60 months</th>\n",
       "      <td>23481</td>\n",
       "      <td>9731</td>\n",
       "    </tr>\n",
       "  </tbody>\n",
       "</table>\n",
       "</div>"
      ],
      "text/plain": [
       "Bad_Loan        0      1\n",
       "Term                    \n",
       "36 months  106064  18720\n",
       "60 months   23481   9731"
      ]
     },
     "execution_count": 67,
     "metadata": {},
     "output_type": "execute_result"
    }
   ],
   "source": [
    "pd.crosstab(df_test['Term'],df_test['Bad_Loan'])"
   ]
  },
  {
   "cell_type": "code",
   "execution_count": 68,
   "metadata": {},
   "outputs": [
    {
     "name": "stdout",
     "output_type": "stream",
     "text": [
      "0.0\n",
      "Reject null hypothesis\n"
     ]
    }
   ],
   "source": [
    "_,pval,_,_=chi2_contingency(pd.crosstab(df_test['Term'],df_test['Bad_Loan']))\n",
    "print(float(pval))\n",
    "if pval<0.05:\n",
    "    print(\"Reject null hypothesis\")\n",
    "else:\n",
    "    print(\"Failed to reject null hypothesis\")"
   ]
  },
  {
   "cell_type": "markdown",
   "metadata": {},
   "source": [
    "#### According to chi2 test, Bad_Loan is dependent upon Term"
   ]
  },
  {
   "cell_type": "code",
   "execution_count": 69,
   "metadata": {
    "scrolled": true
   },
   "outputs": [
    {
     "data": {
      "text/plain": [
       "Text(0, 0.5, '% of Bad Loan')"
      ]
     },
     "execution_count": 69,
     "metadata": {},
     "output_type": "execute_result"
    },
    {
     "data": {
      "image/png": "[encoded data removed]",
      "text/plain": [
       "<Figure size 360x360 with 1 Axes>"
      ]
     },
     "metadata": {
      "needs_background": "light"
     },
     "output_type": "display_data"
    }
   ],
   "source": [
    "#  Home_Ownership w.r.t Bad_Loan\n",
    "plt.figure(figsize=(5,5))\n",
    "df_test.groupby('Home_Ownership').mean()['Bad_Loan'].plot.bar()\n",
    "plt.ylabel(\"% of Bad Loan\")"
   ]
  },
  {
   "cell_type": "code",
   "execution_count": 70,
   "metadata": {
    "scrolled": false
   },
   "outputs": [
    {
     "data": {
      "text/html": [
       "<div>\n",
       "<style scoped>\n",
       "    .dataframe tbody tr th:only-of-type {\n",
       "        vertical-align: middle;\n",
       "    }\n",
       "\n",
       "    .dataframe tbody tr th {\n",
       "        vertical-align: top;\n",
       "    }\n",
       "\n",
       "    .dataframe thead th {\n",
       "        text-align: right;\n",
       "    }\n",
       "</style>\n",
       "<table border=\"1\" class=\"dataframe\">\n",
       "  <thead>\n",
       "    <tr style=\"text-align: right;\">\n",
       "      <th>Bad_Loan</th>\n",
       "      <th>0</th>\n",
       "      <th>1</th>\n",
       "    </tr>\n",
       "    <tr>\n",
       "      <th>Home_Ownership</th>\n",
       "      <th></th>\n",
       "      <th></th>\n",
       "    </tr>\n",
       "  </thead>\n",
       "  <tbody>\n",
       "    <tr>\n",
       "      <th>ANY</th>\n",
       "      <td>1</td>\n",
       "      <td>0</td>\n",
       "    </tr>\n",
       "    <tr>\n",
       "      <th>MORTGAGE</th>\n",
       "      <td>64500</td>\n",
       "      <td>12447</td>\n",
       "    </tr>\n",
       "    <tr>\n",
       "      <th>NONE</th>\n",
       "      <td>19</td>\n",
       "      <td>6</td>\n",
       "    </tr>\n",
       "    <tr>\n",
       "      <th>OTHER</th>\n",
       "      <td>118</td>\n",
       "      <td>35</td>\n",
       "    </tr>\n",
       "    <tr>\n",
       "      <th>OWN</th>\n",
       "      <td>10244</td>\n",
       "      <td>2309</td>\n",
       "    </tr>\n",
       "    <tr>\n",
       "      <th>RENT</th>\n",
       "      <td>54663</td>\n",
       "      <td>13654</td>\n",
       "    </tr>\n",
       "  </tbody>\n",
       "</table>\n",
       "</div>"
      ],
      "text/plain": [
       "Bad_Loan            0      1\n",
       "Home_Ownership              \n",
       "ANY                 1      0\n",
       "MORTGAGE        64500  12447\n",
       "NONE               19      6\n",
       "OTHER             118     35\n",
       "OWN             10244   2309\n",
       "RENT            54663  13654"
      ]
     },
     "execution_count": 70,
     "metadata": {},
     "output_type": "execute_result"
    }
   ],
   "source": [
    "pd.crosstab(df_test['Home_Ownership'],df_test['Bad_Loan'])"
   ]
  },
  {
   "cell_type": "code",
   "execution_count": 71,
   "metadata": {
    "scrolled": true
   },
   "outputs": [
    {
     "name": "stdout",
     "output_type": "stream",
     "text": [
      "9.487558838649139e-76\n",
      "Reject null hypothesis\n"
     ]
    }
   ],
   "source": [
    "_,pval,_,_=chi2_contingency(pd.crosstab(df_test['Home_Ownership'],df_test['Bad_Loan']))\n",
    "print(float(pval))\n",
    "if pval<0.05:\n",
    "    print(\"Reject null hypothesis\")\n",
    "else:\n",
    "    print(\"Failed to reject null hypothesis\")"
   ]
  },
  {
   "cell_type": "markdown",
   "metadata": {},
   "source": [
    "#### According to chi2 test, Bad_Loan is dependent upon Home_Ownership"
   ]
  },
  {
   "cell_type": "code",
   "execution_count": 72,
   "metadata": {
    "scrolled": true
   },
   "outputs": [
    {
     "data": {
      "text/plain": [
       "Text(0, 0.5, '% of Bad Loan')"
      ]
     },
     "execution_count": 72,
     "metadata": {},
     "output_type": "execute_result"
    },
    {
     "data": {
      "image/png": "[encoded data removed]",
      "text/plain": [
       "<Figure size 360x360 with 1 Axes>"
      ]
     },
     "metadata": {
      "needs_background": "light"
     },
     "output_type": "display_data"
    }
   ],
   "source": [
    "#  Verification_Status w.r.t Bad_Loan\n",
    "plt.figure(figsize=(5,5))\n",
    "df_test.groupby('Verification_Status').mean()['Bad_Loan'].plot.bar()\n",
    "plt.ylabel(\"% of Bad Loan\")"
   ]
  },
  {
   "cell_type": "code",
   "execution_count": 73,
   "metadata": {
    "scrolled": true
   },
   "outputs": [
    {
     "data": {
      "text/html": [
       "<div>\n",
       "<style scoped>\n",
       "    .dataframe tbody tr th:only-of-type {\n",
       "        vertical-align: middle;\n",
       "    }\n",
       "\n",
       "    .dataframe tbody tr th {\n",
       "        vertical-align: top;\n",
       "    }\n",
       "\n",
       "    .dataframe thead th {\n",
       "        text-align: right;\n",
       "    }\n",
       "</style>\n",
       "<table border=\"1\" class=\"dataframe\">\n",
       "  <thead>\n",
       "    <tr style=\"text-align: right;\">\n",
       "      <th>Bad_Loan</th>\n",
       "      <th>0</th>\n",
       "      <th>1</th>\n",
       "    </tr>\n",
       "    <tr>\n",
       "      <th>Verification_Status</th>\n",
       "      <th></th>\n",
       "      <th></th>\n",
       "    </tr>\n",
       "  </thead>\n",
       "  <tbody>\n",
       "    <tr>\n",
       "      <th>not verified</th>\n",
       "      <td>49626</td>\n",
       "      <td>8773</td>\n",
       "    </tr>\n",
       "    <tr>\n",
       "      <th>verified - income</th>\n",
       "      <td>44810</td>\n",
       "      <td>12089</td>\n",
       "    </tr>\n",
       "    <tr>\n",
       "      <th>verified - income source</th>\n",
       "      <td>35109</td>\n",
       "      <td>7589</td>\n",
       "    </tr>\n",
       "  </tbody>\n",
       "</table>\n",
       "</div>"
      ],
      "text/plain": [
       "Bad_Loan                      0      1\n",
       "Verification_Status                   \n",
       "not verified              49626   8773\n",
       "verified - income         44810  12089\n",
       "verified - income source  35109   7589"
      ]
     },
     "execution_count": 73,
     "metadata": {},
     "output_type": "execute_result"
    }
   ],
   "source": [
    "pd.crosstab(df_test['Verification_Status'],df_test['Bad_Loan'])"
   ]
  },
  {
   "cell_type": "code",
   "execution_count": 74,
   "metadata": {
    "scrolled": true
   },
   "outputs": [
    {
     "name": "stdout",
     "output_type": "stream",
     "text": [
      "2.1957719311743564e-165\n",
      "Reject null hypothesis\n"
     ]
    }
   ],
   "source": [
    "_,pval,_,_=chi2_contingency(pd.crosstab(df_test['Verification_Status'],df_test['Bad_Loan']))\n",
    "print(float(pval))\n",
    "if pval<0.05:\n",
    "    print(\"Reject null hypothesis\")\n",
    "else:\n",
    "    print(\"Failed to reject null hypothesis\")"
   ]
  },
  {
   "cell_type": "markdown",
   "metadata": {},
   "source": [
    "#### According to chi2 test, Bad_Loan is dependent upon Verification_Status"
   ]
  },
  {
   "cell_type": "code",
   "execution_count": 75,
   "metadata": {
    "scrolled": true
   },
   "outputs": [
    {
     "data": {
      "text/plain": [
       "Text(0, 0.5, '% of Bad Loan')"
      ]
     },
     "execution_count": 75,
     "metadata": {},
     "output_type": "execute_result"
    },
    {
     "data": {
      "image/png": "[encoded data removed]",
      "text/plain": [
       "<Figure size 360x360 with 1 Axes>"
      ]
     },
     "metadata": {
      "needs_background": "light"
     },
     "output_type": "display_data"
    }
   ],
   "source": [
    "#  Loan_Purpose w.r.t Bad_Loan\n",
    "plt.figure(figsize=(5,5))\n",
    "df_test.groupby('Loan_Purpose').mean()['Bad_Loan'].plot.bar()\n",
    "plt.ylabel(\"% of Bad Loan\")"
   ]
  },
  {
   "cell_type": "code",
   "execution_count": 76,
   "metadata": {
    "scrolled": true
   },
   "outputs": [
    {
     "data": {
      "text/html": [
       "<div>\n",
       "<style scoped>\n",
       "    .dataframe tbody tr th:only-of-type {\n",
       "        vertical-align: middle;\n",
       "    }\n",
       "\n",
       "    .dataframe tbody tr th {\n",
       "        vertical-align: top;\n",
       "    }\n",
       "\n",
       "    .dataframe thead th {\n",
       "        text-align: right;\n",
       "    }\n",
       "</style>\n",
       "<table border=\"1\" class=\"dataframe\">\n",
       "  <thead>\n",
       "    <tr style=\"text-align: right;\">\n",
       "      <th>Bad_Loan</th>\n",
       "      <th>0</th>\n",
       "      <th>1</th>\n",
       "    </tr>\n",
       "    <tr>\n",
       "      <th>Loan_Purpose</th>\n",
       "      <th></th>\n",
       "      <th></th>\n",
       "    </tr>\n",
       "  </thead>\n",
       "  <tbody>\n",
       "    <tr>\n",
       "      <th>car</th>\n",
       "      <td>2385</td>\n",
       "      <td>339</td>\n",
       "    </tr>\n",
       "    <tr>\n",
       "      <th>credit_card</th>\n",
       "      <td>25023</td>\n",
       "      <td>4546</td>\n",
       "    </tr>\n",
       "    <tr>\n",
       "      <th>debt_consolidation</th>\n",
       "      <td>73396</td>\n",
       "      <td>16872</td>\n",
       "    </tr>\n",
       "    <tr>\n",
       "      <th>educational</th>\n",
       "      <td>323</td>\n",
       "      <td>84</td>\n",
       "    </tr>\n",
       "    <tr>\n",
       "      <th>home_improvement</th>\n",
       "      <td>7999</td>\n",
       "      <td>1429</td>\n",
       "    </tr>\n",
       "    <tr>\n",
       "      <th>house</th>\n",
       "      <td>979</td>\n",
       "      <td>217</td>\n",
       "    </tr>\n",
       "    <tr>\n",
       "      <th>major_purchase</th>\n",
       "      <td>3882</td>\n",
       "      <td>599</td>\n",
       "    </tr>\n",
       "    <tr>\n",
       "      <th>medical</th>\n",
       "      <td>1537</td>\n",
       "      <td>375</td>\n",
       "    </tr>\n",
       "    <tr>\n",
       "      <th>moving</th>\n",
       "      <td>1116</td>\n",
       "      <td>278</td>\n",
       "    </tr>\n",
       "    <tr>\n",
       "      <th>other</th>\n",
       "      <td>7850</td>\n",
       "      <td>2099</td>\n",
       "    </tr>\n",
       "    <tr>\n",
       "      <th>renewable_energy</th>\n",
       "      <td>144</td>\n",
       "      <td>41</td>\n",
       "    </tr>\n",
       "    <tr>\n",
       "      <th>small_business</th>\n",
       "      <td>2589</td>\n",
       "      <td>1152</td>\n",
       "    </tr>\n",
       "    <tr>\n",
       "      <th>vacation</th>\n",
       "      <td>839</td>\n",
       "      <td>174</td>\n",
       "    </tr>\n",
       "    <tr>\n",
       "      <th>wedding</th>\n",
       "      <td>1483</td>\n",
       "      <td>246</td>\n",
       "    </tr>\n",
       "  </tbody>\n",
       "</table>\n",
       "</div>"
      ],
      "text/plain": [
       "Bad_Loan                0      1\n",
       "Loan_Purpose                    \n",
       "car                  2385    339\n",
       "credit_card         25023   4546\n",
       "debt_consolidation  73396  16872\n",
       "educational           323     84\n",
       "home_improvement     7999   1429\n",
       "house                 979    217\n",
       "major_purchase       3882    599\n",
       "medical              1537    375\n",
       "moving               1116    278\n",
       "other                7850   2099\n",
       "renewable_energy      144     41\n",
       "small_business       2589   1152\n",
       "vacation              839    174\n",
       "wedding              1483    246"
      ]
     },
     "execution_count": 76,
     "metadata": {},
     "output_type": "execute_result"
    }
   ],
   "source": [
    "pd.crosstab(df_test['Loan_Purpose'],df_test['Bad_Loan'])"
   ]
  },
  {
   "cell_type": "code",
   "execution_count": 77,
   "metadata": {
    "scrolled": true
   },
   "outputs": [
    {
     "name": "stdout",
     "output_type": "stream",
     "text": [
      "5.625881232285284e-173\n",
      "Reject null hypothesis\n"
     ]
    }
   ],
   "source": [
    "_,pval,_,_=chi2_contingency(pd.crosstab(df_test['Loan_Purpose'],df_test['Bad_Loan']))\n",
    "print(float(pval))\n",
    "if pval<0.05:\n",
    "    print(\"Reject null hypothesis\")\n",
    "else:\n",
    "    print(\"Failed to reject null hypothesis\")"
   ]
  },
  {
   "cell_type": "markdown",
   "metadata": {},
   "source": [
    "#### According to chi2 test, Bad_Loan is dependent upon Loan_Purpose"
   ]
  },
  {
   "cell_type": "code",
   "execution_count": 78,
   "metadata": {
    "scrolled": false
   },
   "outputs": [
    {
     "data": {
      "text/plain": [
       "Text(0, 0.5, '% of Bad Loan')"
      ]
     },
     "execution_count": 78,
     "metadata": {},
     "output_type": "execute_result"
    },
    {
     "data": {
      "image/png": "[encoded data removed]",
      "text/plain": [
       "<Figure size 720x720 with 1 Axes>"
      ]
     },
     "metadata": {
      "needs_background": "light"
     },
     "output_type": "display_data"
    }
   ],
   "source": [
    "#  State w.r.t Bad_Loan\n",
    "plt.figure(figsize=(10,10))\n",
    "df_test.groupby('State').mean()['Bad_Loan'].plot.bar()\n",
    "plt.ylabel(\"% of Bad Loan\")"
   ]
  },
  {
   "cell_type": "code",
   "execution_count": 79,
   "metadata": {
    "scrolled": false
   },
   "outputs": [
    {
     "data": {
      "text/html": [
       "<div>\n",
       "<style scoped>\n",
       "    .dataframe tbody tr th:only-of-type {\n",
       "        vertical-align: middle;\n",
       "    }\n",
       "\n",
       "    .dataframe tbody tr th {\n",
       "        vertical-align: top;\n",
       "    }\n",
       "\n",
       "    .dataframe thead th {\n",
       "        text-align: right;\n",
       "    }\n",
       "</style>\n",
       "<table border=\"1\" class=\"dataframe\">\n",
       "  <thead>\n",
       "    <tr style=\"text-align: right;\">\n",
       "      <th>Bad_Loan</th>\n",
       "      <th>0</th>\n",
       "      <th>1</th>\n",
       "    </tr>\n",
       "    <tr>\n",
       "      <th>State</th>\n",
       "      <th></th>\n",
       "      <th></th>\n",
       "    </tr>\n",
       "  </thead>\n",
       "  <tbody>\n",
       "    <tr>\n",
       "      <th>AK</th>\n",
       "      <td>340</td>\n",
       "      <td>60</td>\n",
       "    </tr>\n",
       "    <tr>\n",
       "      <th>AL</th>\n",
       "      <td>1490</td>\n",
       "      <td>379</td>\n",
       "    </tr>\n",
       "    <tr>\n",
       "      <th>AR</th>\n",
       "      <td>852</td>\n",
       "      <td>199</td>\n",
       "    </tr>\n",
       "    <tr>\n",
       "      <th>AZ</th>\n",
       "      <td>3085</td>\n",
       "      <td>641</td>\n",
       "    </tr>\n",
       "    <tr>\n",
       "      <th>CA</th>\n",
       "      <td>22873</td>\n",
       "      <td>4852</td>\n",
       "    </tr>\n",
       "    <tr>\n",
       "      <th>CO</th>\n",
       "      <td>2931</td>\n",
       "      <td>479</td>\n",
       "    </tr>\n",
       "    <tr>\n",
       "      <th>CT</th>\n",
       "      <td>2072</td>\n",
       "      <td>411</td>\n",
       "    </tr>\n",
       "    <tr>\n",
       "      <th>DC</th>\n",
       "      <td>505</td>\n",
       "      <td>64</td>\n",
       "    </tr>\n",
       "    <tr>\n",
       "      <th>DE</th>\n",
       "      <td>352</td>\n",
       "      <td>72</td>\n",
       "    </tr>\n",
       "    <tr>\n",
       "      <th>FL</th>\n",
       "      <td>8599</td>\n",
       "      <td>2294</td>\n",
       "    </tr>\n",
       "    <tr>\n",
       "      <th>GA</th>\n",
       "      <td>4104</td>\n",
       "      <td>899</td>\n",
       "    </tr>\n",
       "    <tr>\n",
       "      <th>HI</th>\n",
       "      <td>735</td>\n",
       "      <td>184</td>\n",
       "    </tr>\n",
       "    <tr>\n",
       "      <th>IA</th>\n",
       "      <td>10</td>\n",
       "      <td>2</td>\n",
       "    </tr>\n",
       "    <tr>\n",
       "      <th>ID</th>\n",
       "      <td>8</td>\n",
       "      <td>1</td>\n",
       "    </tr>\n",
       "    <tr>\n",
       "      <th>IL</th>\n",
       "      <td>4891</td>\n",
       "      <td>1023</td>\n",
       "    </tr>\n",
       "    <tr>\n",
       "      <th>IN</th>\n",
       "      <td>1098</td>\n",
       "      <td>299</td>\n",
       "    </tr>\n",
       "    <tr>\n",
       "      <th>KS</th>\n",
       "      <td>1064</td>\n",
       "      <td>221</td>\n",
       "    </tr>\n",
       "    <tr>\n",
       "      <th>KY</th>\n",
       "      <td>1131</td>\n",
       "      <td>280</td>\n",
       "    </tr>\n",
       "    <tr>\n",
       "      <th>LA</th>\n",
       "      <td>1475</td>\n",
       "      <td>334</td>\n",
       "    </tr>\n",
       "    <tr>\n",
       "      <th>MA</th>\n",
       "      <td>3369</td>\n",
       "      <td>691</td>\n",
       "    </tr>\n",
       "    <tr>\n",
       "      <th>MD</th>\n",
       "      <td>3106</td>\n",
       "      <td>674</td>\n",
       "    </tr>\n",
       "    <tr>\n",
       "      <th>ME</th>\n",
       "      <td>3</td>\n",
       "      <td>0</td>\n",
       "    </tr>\n",
       "    <tr>\n",
       "      <th>MI</th>\n",
       "      <td>2871</td>\n",
       "      <td>685</td>\n",
       "    </tr>\n",
       "    <tr>\n",
       "      <th>MN</th>\n",
       "      <td>2213</td>\n",
       "      <td>464</td>\n",
       "    </tr>\n",
       "    <tr>\n",
       "      <th>MO</th>\n",
       "      <td>2044</td>\n",
       "      <td>481</td>\n",
       "    </tr>\n",
       "    <tr>\n",
       "      <th>MS</th>\n",
       "      <td>119</td>\n",
       "      <td>35</td>\n",
       "    </tr>\n",
       "    <tr>\n",
       "      <th>MT</th>\n",
       "      <td>398</td>\n",
       "      <td>66</td>\n",
       "    </tr>\n",
       "    <tr>\n",
       "      <th>NC</th>\n",
       "      <td>3412</td>\n",
       "      <td>802</td>\n",
       "    </tr>\n",
       "    <tr>\n",
       "      <th>NE</th>\n",
       "      <td>6</td>\n",
       "      <td>7</td>\n",
       "    </tr>\n",
       "    <tr>\n",
       "      <th>NH</th>\n",
       "      <td>612</td>\n",
       "      <td>121</td>\n",
       "    </tr>\n",
       "    <tr>\n",
       "      <th>NJ</th>\n",
       "      <td>5029</td>\n",
       "      <td>1242</td>\n",
       "    </tr>\n",
       "    <tr>\n",
       "      <th>NM</th>\n",
       "      <td>645</td>\n",
       "      <td>149</td>\n",
       "    </tr>\n",
       "    <tr>\n",
       "      <th>NV</th>\n",
       "      <td>1758</td>\n",
       "      <td>517</td>\n",
       "    </tr>\n",
       "    <tr>\n",
       "      <th>NY</th>\n",
       "      <td>11199</td>\n",
       "      <td>2553</td>\n",
       "    </tr>\n",
       "    <tr>\n",
       "      <th>OH</th>\n",
       "      <td>3840</td>\n",
       "      <td>867</td>\n",
       "    </tr>\n",
       "    <tr>\n",
       "      <th>OK</th>\n",
       "      <td>1023</td>\n",
       "      <td>249</td>\n",
       "    </tr>\n",
       "    <tr>\n",
       "      <th>OR</th>\n",
       "      <td>1714</td>\n",
       "      <td>330</td>\n",
       "    </tr>\n",
       "    <tr>\n",
       "      <th>PA</th>\n",
       "      <td>4288</td>\n",
       "      <td>942</td>\n",
       "    </tr>\n",
       "    <tr>\n",
       "      <th>RI</th>\n",
       "      <td>547</td>\n",
       "      <td>130</td>\n",
       "    </tr>\n",
       "    <tr>\n",
       "      <th>SC</th>\n",
       "      <td>1477</td>\n",
       "      <td>279</td>\n",
       "    </tr>\n",
       "    <tr>\n",
       "      <th>SD</th>\n",
       "      <td>251</td>\n",
       "      <td>55</td>\n",
       "    </tr>\n",
       "    <tr>\n",
       "      <th>TN</th>\n",
       "      <td>962</td>\n",
       "      <td>297</td>\n",
       "    </tr>\n",
       "    <tr>\n",
       "      <th>TX</th>\n",
       "      <td>9937</td>\n",
       "      <td>1856</td>\n",
       "    </tr>\n",
       "    <tr>\n",
       "      <th>UT</th>\n",
       "      <td>1118</td>\n",
       "      <td>234</td>\n",
       "    </tr>\n",
       "    <tr>\n",
       "      <th>VA</th>\n",
       "      <td>4262</td>\n",
       "      <td>877</td>\n",
       "    </tr>\n",
       "    <tr>\n",
       "      <th>VT</th>\n",
       "      <td>213</td>\n",
       "      <td>45</td>\n",
       "    </tr>\n",
       "    <tr>\n",
       "      <th>WA</th>\n",
       "      <td>3019</td>\n",
       "      <td>649</td>\n",
       "    </tr>\n",
       "    <tr>\n",
       "      <th>WI</th>\n",
       "      <td>1586</td>\n",
       "      <td>333</td>\n",
       "    </tr>\n",
       "    <tr>\n",
       "      <th>WV</th>\n",
       "      <td>588</td>\n",
       "      <td>89</td>\n",
       "    </tr>\n",
       "    <tr>\n",
       "      <th>WY</th>\n",
       "      <td>321</td>\n",
       "      <td>38</td>\n",
       "    </tr>\n",
       "  </tbody>\n",
       "</table>\n",
       "</div>"
      ],
      "text/plain": [
       "Bad_Loan      0     1\n",
       "State                \n",
       "AK          340    60\n",
       "AL         1490   379\n",
       "AR          852   199\n",
       "AZ         3085   641\n",
       "CA        22873  4852\n",
       "CO         2931   479\n",
       "CT         2072   411\n",
       "DC          505    64\n",
       "DE          352    72\n",
       "FL         8599  2294\n",
       "GA         4104   899\n",
       "HI          735   184\n",
       "IA           10     2\n",
       "ID            8     1\n",
       "IL         4891  1023\n",
       "IN         1098   299\n",
       "KS         1064   221\n",
       "KY         1131   280\n",
       "LA         1475   334\n",
       "MA         3369   691\n",
       "MD         3106   674\n",
       "ME            3     0\n",
       "MI         2871   685\n",
       "MN         2213   464\n",
       "MO         2044   481\n",
       "MS          119    35\n",
       "MT          398    66\n",
       "NC         3412   802\n",
       "NE            6     7\n",
       "NH          612   121\n",
       "NJ         5029  1242\n",
       "NM          645   149\n",
       "NV         1758   517\n",
       "NY        11199  2553\n",
       "OH         3840   867\n",
       "OK         1023   249\n",
       "OR         1714   330\n",
       "PA         4288   942\n",
       "RI          547   130\n",
       "SC         1477   279\n",
       "SD          251    55\n",
       "TN          962   297\n",
       "TX         9937  1856\n",
       "UT         1118   234\n",
       "VA         4262   877\n",
       "VT          213    45\n",
       "WA         3019   649\n",
       "WI         1586   333\n",
       "WV          588    89\n",
       "WY          321    38"
      ]
     },
     "execution_count": 79,
     "metadata": {},
     "output_type": "execute_result"
    }
   ],
   "source": [
    "pd.crosstab(df_test['State'],df_test['Bad_Loan'])"
   ]
  },
  {
   "cell_type": "code",
   "execution_count": 80,
   "metadata": {
    "scrolled": true
   },
   "outputs": [
    {
     "name": "stdout",
     "output_type": "stream",
     "text": [
      "4.445047202867401e-48\n",
      "Reject null hypothesis\n"
     ]
    }
   ],
   "source": [
    "_,pval,_,_=chi2_contingency(pd.crosstab(df_test['State'],df_test['Bad_Loan']))\n",
    "print(float(pval))\n",
    "if pval<0.05:\n",
    "    print(\"Reject null hypothesis\")\n",
    "else:\n",
    "    print(\"Failed to reject null hypothesis\")"
   ]
  },
  {
   "cell_type": "markdown",
   "metadata": {},
   "source": [
    "#### According to chi2 test, Bad_Loan is dependent upon State"
   ]
  },
  {
   "cell_type": "code",
   "execution_count": 81,
   "metadata": {},
   "outputs": [],
   "source": [
    "del df_test"
   ]
  },
  {
   "cell_type": "markdown",
   "metadata": {},
   "source": [
    "# Missing value Imputation"
   ]
  },
  {
   "cell_type": "code",
   "execution_count": 82,
   "metadata": {},
   "outputs": [
    {
     "data": {
      "text/html": [
       "<div>\n",
       "<style scoped>\n",
       "    .dataframe tbody tr th:only-of-type {\n",
       "        vertical-align: middle;\n",
       "    }\n",
       "\n",
       "    .dataframe tbody tr th {\n",
       "        vertical-align: top;\n",
       "    }\n",
       "\n",
       "    .dataframe thead th {\n",
       "        text-align: right;\n",
       "    }\n",
       "</style>\n",
       "<table border=\"1\" class=\"dataframe\">\n",
       "  <thead>\n",
       "    <tr style=\"text-align: right;\">\n",
       "      <th></th>\n",
       "      <th>Count</th>\n",
       "      <th>Percentage</th>\n",
       "    </tr>\n",
       "  </thead>\n",
       "  <tbody>\n",
       "    <tr>\n",
       "      <th>Revolving_Cr_Util</th>\n",
       "      <td>194</td>\n",
       "      <td>0.118301</td>\n",
       "    </tr>\n",
       "    <tr>\n",
       "      <th>Delinquent_2yr</th>\n",
       "      <td>30</td>\n",
       "      <td>0.018294</td>\n",
       "    </tr>\n",
       "    <tr>\n",
       "      <th>Total_Accounts</th>\n",
       "      <td>30</td>\n",
       "      <td>0.018294</td>\n",
       "    </tr>\n",
       "    <tr>\n",
       "      <th>Longest_Credit_Length</th>\n",
       "      <td>30</td>\n",
       "      <td>0.018294</td>\n",
       "    </tr>\n",
       "    <tr>\n",
       "      <th>Annual_Income</th>\n",
       "      <td>5</td>\n",
       "      <td>0.003049</td>\n",
       "    </tr>\n",
       "    <tr>\n",
       "      <th>Loan_Amount</th>\n",
       "      <td>1</td>\n",
       "      <td>0.000610</td>\n",
       "    </tr>\n",
       "    <tr>\n",
       "      <th>Term</th>\n",
       "      <td>1</td>\n",
       "      <td>0.000610</td>\n",
       "    </tr>\n",
       "    <tr>\n",
       "      <th>Interest_Rate</th>\n",
       "      <td>1</td>\n",
       "      <td>0.000610</td>\n",
       "    </tr>\n",
       "    <tr>\n",
       "      <th>Home_Ownership</th>\n",
       "      <td>1</td>\n",
       "      <td>0.000610</td>\n",
       "    </tr>\n",
       "    <tr>\n",
       "      <th>Verification_Status</th>\n",
       "      <td>1</td>\n",
       "      <td>0.000610</td>\n",
       "    </tr>\n",
       "    <tr>\n",
       "      <th>Loan_Purpose</th>\n",
       "      <td>1</td>\n",
       "      <td>0.000610</td>\n",
       "    </tr>\n",
       "    <tr>\n",
       "      <th>State</th>\n",
       "      <td>1</td>\n",
       "      <td>0.000610</td>\n",
       "    </tr>\n",
       "    <tr>\n",
       "      <th>Debt_to_Income</th>\n",
       "      <td>1</td>\n",
       "      <td>0.000610</td>\n",
       "    </tr>\n",
       "    <tr>\n",
       "      <th>Bad_Loan</th>\n",
       "      <td>0</td>\n",
       "      <td>0.000000</td>\n",
       "    </tr>\n",
       "  </tbody>\n",
       "</table>\n",
       "</div>"
      ],
      "text/plain": [
       "                       Count  Percentage\n",
       "Revolving_Cr_Util        194    0.118301\n",
       "Delinquent_2yr            30    0.018294\n",
       "Total_Accounts            30    0.018294\n",
       "Longest_Credit_Length     30    0.018294\n",
       "Annual_Income              5    0.003049\n",
       "Loan_Amount                1    0.000610\n",
       "Term                       1    0.000610\n",
       "Interest_Rate              1    0.000610\n",
       "Home_Ownership             1    0.000610\n",
       "Verification_Status        1    0.000610\n",
       "Loan_Purpose               1    0.000610\n",
       "State                      1    0.000610\n",
       "Debt_to_Income             1    0.000610\n",
       "Bad_Loan                   0    0.000000"
      ]
     },
     "execution_count": 82,
     "metadata": {},
     "output_type": "execute_result"
    }
   ],
   "source": [
    "#Missing Values\n",
    "pd.DataFrame(pd.concat([df.isnull().sum(),df.isnull().mean()*100],axis=1)).rename(columns={0:\"Count\",1:\"Percentage\"}).sort_values('Percentage',ascending=False)"
   ]
  },
  {
   "cell_type": "code",
   "execution_count": 83,
   "metadata": {},
   "outputs": [
    {
     "data": {
      "text/html": [
       "<div>\n",
       "<style scoped>\n",
       "    .dataframe tbody tr th:only-of-type {\n",
       "        vertical-align: middle;\n",
       "    }\n",
       "\n",
       "    .dataframe tbody tr th {\n",
       "        vertical-align: top;\n",
       "    }\n",
       "\n",
       "    .dataframe thead th {\n",
       "        text-align: right;\n",
       "    }\n",
       "</style>\n",
       "<table border=\"1\" class=\"dataframe\">\n",
       "  <thead>\n",
       "    <tr style=\"text-align: right;\">\n",
       "      <th></th>\n",
       "      <th>Loan_Amount</th>\n",
       "      <th>Term</th>\n",
       "      <th>Interest_Rate</th>\n",
       "      <th>Home_Ownership</th>\n",
       "      <th>Annual_Income</th>\n",
       "      <th>Verification_Status</th>\n",
       "      <th>Loan_Purpose</th>\n",
       "      <th>State</th>\n",
       "      <th>Debt_to_Income</th>\n",
       "      <th>Delinquent_2yr</th>\n",
       "      <th>Revolving_Cr_Util</th>\n",
       "      <th>Total_Accounts</th>\n",
       "      <th>Bad_Loan</th>\n",
       "      <th>Longest_Credit_Length</th>\n",
       "    </tr>\n",
       "  </thead>\n",
       "  <tbody>\n",
       "    <tr>\n",
       "      <th>36285</th>\n",
       "      <td>NaN</td>\n",
       "      <td>NaN</td>\n",
       "      <td>NaN</td>\n",
       "      <td>NaN</td>\n",
       "      <td>NaN</td>\n",
       "      <td>NaN</td>\n",
       "      <td>NaN</td>\n",
       "      <td>NaN</td>\n",
       "      <td>NaN</td>\n",
       "      <td>NaN</td>\n",
       "      <td>NaN</td>\n",
       "      <td>NaN</td>\n",
       "      <td>GOOD</td>\n",
       "      <td>NaN</td>\n",
       "    </tr>\n",
       "    <tr>\n",
       "      <th>38950</th>\n",
       "      <td>7000.0</td>\n",
       "      <td>36 months</td>\n",
       "      <td>7.75</td>\n",
       "      <td>NONE</td>\n",
       "      <td>NaN</td>\n",
       "      <td>not verified</td>\n",
       "      <td>other</td>\n",
       "      <td>NY</td>\n",
       "      <td>1.00</td>\n",
       "      <td>NaN</td>\n",
       "      <td>NaN</td>\n",
       "      <td>NaN</td>\n",
       "      <td>GOOD</td>\n",
       "      <td>NaN</td>\n",
       "    </tr>\n",
       "    <tr>\n",
       "      <th>39033</th>\n",
       "      <td>6500.0</td>\n",
       "      <td>36 months</td>\n",
       "      <td>8.38</td>\n",
       "      <td>NONE</td>\n",
       "      <td>NaN</td>\n",
       "      <td>not verified</td>\n",
       "      <td>other</td>\n",
       "      <td>NY</td>\n",
       "      <td>4.00</td>\n",
       "      <td>NaN</td>\n",
       "      <td>NaN</td>\n",
       "      <td>NaN</td>\n",
       "      <td>GOOD</td>\n",
       "      <td>NaN</td>\n",
       "    </tr>\n",
       "    <tr>\n",
       "      <th>38980</th>\n",
       "      <td>6700.0</td>\n",
       "      <td>36 months</td>\n",
       "      <td>7.75</td>\n",
       "      <td>NONE</td>\n",
       "      <td>NaN</td>\n",
       "      <td>not verified</td>\n",
       "      <td>other</td>\n",
       "      <td>NY</td>\n",
       "      <td>1.00</td>\n",
       "      <td>NaN</td>\n",
       "      <td>NaN</td>\n",
       "      <td>NaN</td>\n",
       "      <td>GOOD</td>\n",
       "      <td>NaN</td>\n",
       "    </tr>\n",
       "    <tr>\n",
       "      <th>38949</th>\n",
       "      <td>5000.0</td>\n",
       "      <td>36 months</td>\n",
       "      <td>7.43</td>\n",
       "      <td>NONE</td>\n",
       "      <td>NaN</td>\n",
       "      <td>not verified</td>\n",
       "      <td>other</td>\n",
       "      <td>NY</td>\n",
       "      <td>1.00</td>\n",
       "      <td>NaN</td>\n",
       "      <td>NaN</td>\n",
       "      <td>NaN</td>\n",
       "      <td>GOOD</td>\n",
       "      <td>NaN</td>\n",
       "    </tr>\n",
       "    <tr>\n",
       "      <th>39019</th>\n",
       "      <td>2500.0</td>\n",
       "      <td>36 months</td>\n",
       "      <td>7.43</td>\n",
       "      <td>MORTGAGE</td>\n",
       "      <td>66624.0</td>\n",
       "      <td>not verified</td>\n",
       "      <td>other</td>\n",
       "      <td>OH</td>\n",
       "      <td>10.36</td>\n",
       "      <td>NaN</td>\n",
       "      <td>NaN</td>\n",
       "      <td>NaN</td>\n",
       "      <td>GOOD</td>\n",
       "      <td>NaN</td>\n",
       "    </tr>\n",
       "    <tr>\n",
       "      <th>39028</th>\n",
       "      <td>2000.0</td>\n",
       "      <td>36 months</td>\n",
       "      <td>9.96</td>\n",
       "      <td>RENT</td>\n",
       "      <td>6000.0</td>\n",
       "      <td>not verified</td>\n",
       "      <td>other</td>\n",
       "      <td>FL</td>\n",
       "      <td>10.00</td>\n",
       "      <td>NaN</td>\n",
       "      <td>NaN</td>\n",
       "      <td>NaN</td>\n",
       "      <td>GOOD</td>\n",
       "      <td>NaN</td>\n",
       "    </tr>\n",
       "    <tr>\n",
       "      <th>39026</th>\n",
       "      <td>3000.0</td>\n",
       "      <td>36 months</td>\n",
       "      <td>9.01</td>\n",
       "      <td>RENT</td>\n",
       "      <td>35000.0</td>\n",
       "      <td>not verified</td>\n",
       "      <td>other</td>\n",
       "      <td>KS</td>\n",
       "      <td>10.00</td>\n",
       "      <td>NaN</td>\n",
       "      <td>NaN</td>\n",
       "      <td>NaN</td>\n",
       "      <td>GOOD</td>\n",
       "      <td>NaN</td>\n",
       "    </tr>\n",
       "    <tr>\n",
       "      <th>39025</th>\n",
       "      <td>10500.0</td>\n",
       "      <td>36 months</td>\n",
       "      <td>11.22</td>\n",
       "      <td>RENT</td>\n",
       "      <td>60000.0</td>\n",
       "      <td>not verified</td>\n",
       "      <td>other</td>\n",
       "      <td>CT</td>\n",
       "      <td>19.50</td>\n",
       "      <td>NaN</td>\n",
       "      <td>NaN</td>\n",
       "      <td>NaN</td>\n",
       "      <td>GOOD</td>\n",
       "      <td>NaN</td>\n",
       "    </tr>\n",
       "    <tr>\n",
       "      <th>39024</th>\n",
       "      <td>1275.0</td>\n",
       "      <td>36 months</td>\n",
       "      <td>12.49</td>\n",
       "      <td>RENT</td>\n",
       "      <td>40000.0</td>\n",
       "      <td>not verified</td>\n",
       "      <td>other</td>\n",
       "      <td>MA</td>\n",
       "      <td>10.00</td>\n",
       "      <td>NaN</td>\n",
       "      <td>NaN</td>\n",
       "      <td>NaN</td>\n",
       "      <td>BAD</td>\n",
       "      <td>NaN</td>\n",
       "    </tr>\n",
       "    <tr>\n",
       "      <th>39023</th>\n",
       "      <td>6450.0</td>\n",
       "      <td>36 months</td>\n",
       "      <td>11.22</td>\n",
       "      <td>RENT</td>\n",
       "      <td>32000.0</td>\n",
       "      <td>not verified</td>\n",
       "      <td>other</td>\n",
       "      <td>GA</td>\n",
       "      <td>10.00</td>\n",
       "      <td>NaN</td>\n",
       "      <td>NaN</td>\n",
       "      <td>NaN</td>\n",
       "      <td>GOOD</td>\n",
       "      <td>NaN</td>\n",
       "    </tr>\n",
       "    <tr>\n",
       "      <th>39022</th>\n",
       "      <td>1000.0</td>\n",
       "      <td>36 months</td>\n",
       "      <td>7.12</td>\n",
       "      <td>RENT</td>\n",
       "      <td>50000.0</td>\n",
       "      <td>not verified</td>\n",
       "      <td>other</td>\n",
       "      <td>NY</td>\n",
       "      <td>1.10</td>\n",
       "      <td>NaN</td>\n",
       "      <td>NaN</td>\n",
       "      <td>NaN</td>\n",
       "      <td>GOOD</td>\n",
       "      <td>NaN</td>\n",
       "    </tr>\n",
       "    <tr>\n",
       "      <th>39021</th>\n",
       "      <td>2600.0</td>\n",
       "      <td>36 months</td>\n",
       "      <td>8.38</td>\n",
       "      <td>MORTGAGE</td>\n",
       "      <td>6500.0</td>\n",
       "      <td>not verified</td>\n",
       "      <td>other</td>\n",
       "      <td>CO</td>\n",
       "      <td>6.46</td>\n",
       "      <td>NaN</td>\n",
       "      <td>NaN</td>\n",
       "      <td>NaN</td>\n",
       "      <td>BAD</td>\n",
       "      <td>NaN</td>\n",
       "    </tr>\n",
       "    <tr>\n",
       "      <th>39020</th>\n",
       "      <td>3000.0</td>\n",
       "      <td>36 months</td>\n",
       "      <td>7.43</td>\n",
       "      <td>MORTGAGE</td>\n",
       "      <td>80000.0</td>\n",
       "      <td>not verified</td>\n",
       "      <td>other</td>\n",
       "      <td>NJ</td>\n",
       "      <td>0.39</td>\n",
       "      <td>NaN</td>\n",
       "      <td>NaN</td>\n",
       "      <td>NaN</td>\n",
       "      <td>GOOD</td>\n",
       "      <td>NaN</td>\n",
       "    </tr>\n",
       "    <tr>\n",
       "      <th>39018</th>\n",
       "      <td>5000.0</td>\n",
       "      <td>36 months</td>\n",
       "      <td>7.75</td>\n",
       "      <td>MORTGAGE</td>\n",
       "      <td>300000.0</td>\n",
       "      <td>not verified</td>\n",
       "      <td>other</td>\n",
       "      <td>LA</td>\n",
       "      <td>5.38</td>\n",
       "      <td>NaN</td>\n",
       "      <td>NaN</td>\n",
       "      <td>NaN</td>\n",
       "      <td>GOOD</td>\n",
       "      <td>NaN</td>\n",
       "    </tr>\n",
       "    <tr>\n",
       "      <th>39030</th>\n",
       "      <td>3500.0</td>\n",
       "      <td>36 months</td>\n",
       "      <td>10.28</td>\n",
       "      <td>RENT</td>\n",
       "      <td>180000.0</td>\n",
       "      <td>not verified</td>\n",
       "      <td>other</td>\n",
       "      <td>NY</td>\n",
       "      <td>10.00</td>\n",
       "      <td>NaN</td>\n",
       "      <td>NaN</td>\n",
       "      <td>NaN</td>\n",
       "      <td>GOOD</td>\n",
       "      <td>NaN</td>\n",
       "    </tr>\n",
       "    <tr>\n",
       "      <th>39017</th>\n",
       "      <td>1000.0</td>\n",
       "      <td>36 months</td>\n",
       "      <td>14.07</td>\n",
       "      <td>RENT</td>\n",
       "      <td>25000.0</td>\n",
       "      <td>not verified</td>\n",
       "      <td>other</td>\n",
       "      <td>NJ</td>\n",
       "      <td>16.27</td>\n",
       "      <td>NaN</td>\n",
       "      <td>NaN</td>\n",
       "      <td>NaN</td>\n",
       "      <td>GOOD</td>\n",
       "      <td>NaN</td>\n",
       "    </tr>\n",
       "    <tr>\n",
       "      <th>39016</th>\n",
       "      <td>1400.0</td>\n",
       "      <td>36 months</td>\n",
       "      <td>10.91</td>\n",
       "      <td>RENT</td>\n",
       "      <td>40000.0</td>\n",
       "      <td>not verified</td>\n",
       "      <td>other</td>\n",
       "      <td>MO</td>\n",
       "      <td>8.61</td>\n",
       "      <td>NaN</td>\n",
       "      <td>NaN</td>\n",
       "      <td>NaN</td>\n",
       "      <td>GOOD</td>\n",
       "      <td>NaN</td>\n",
       "    </tr>\n",
       "    <tr>\n",
       "      <th>39015</th>\n",
       "      <td>5000.0</td>\n",
       "      <td>36 months</td>\n",
       "      <td>11.22</td>\n",
       "      <td>RENT</td>\n",
       "      <td>28000.0</td>\n",
       "      <td>not verified</td>\n",
       "      <td>other</td>\n",
       "      <td>NJ</td>\n",
       "      <td>3.51</td>\n",
       "      <td>NaN</td>\n",
       "      <td>NaN</td>\n",
       "      <td>NaN</td>\n",
       "      <td>GOOD</td>\n",
       "      <td>NaN</td>\n",
       "    </tr>\n",
       "    <tr>\n",
       "      <th>39014</th>\n",
       "      <td>1200.0</td>\n",
       "      <td>36 months</td>\n",
       "      <td>9.01</td>\n",
       "      <td>RENT</td>\n",
       "      <td>36000.0</td>\n",
       "      <td>not verified</td>\n",
       "      <td>other</td>\n",
       "      <td>TX</td>\n",
       "      <td>3.27</td>\n",
       "      <td>NaN</td>\n",
       "      <td>NaN</td>\n",
       "      <td>NaN</td>\n",
       "      <td>GOOD</td>\n",
       "      <td>NaN</td>\n",
       "    </tr>\n",
       "    <tr>\n",
       "      <th>39009</th>\n",
       "      <td>1900.0</td>\n",
       "      <td>36 months</td>\n",
       "      <td>9.64</td>\n",
       "      <td>MORTGAGE</td>\n",
       "      <td>100000.0</td>\n",
       "      <td>not verified</td>\n",
       "      <td>debt_consolidation</td>\n",
       "      <td>FL</td>\n",
       "      <td>10.00</td>\n",
       "      <td>NaN</td>\n",
       "      <td>NaN</td>\n",
       "      <td>NaN</td>\n",
       "      <td>GOOD</td>\n",
       "      <td>NaN</td>\n",
       "    </tr>\n",
       "    <tr>\n",
       "      <th>38994</th>\n",
       "      <td>7200.0</td>\n",
       "      <td>36 months</td>\n",
       "      <td>10.28</td>\n",
       "      <td>RENT</td>\n",
       "      <td>95000.0</td>\n",
       "      <td>not verified</td>\n",
       "      <td>other</td>\n",
       "      <td>NY</td>\n",
       "      <td>10.00</td>\n",
       "      <td>NaN</td>\n",
       "      <td>NaN</td>\n",
       "      <td>NaN</td>\n",
       "      <td>GOOD</td>\n",
       "      <td>NaN</td>\n",
       "    </tr>\n",
       "    <tr>\n",
       "      <th>38983</th>\n",
       "      <td>3200.0</td>\n",
       "      <td>36 months</td>\n",
       "      <td>9.96</td>\n",
       "      <td>MORTGAGE</td>\n",
       "      <td>150000.0</td>\n",
       "      <td>not verified</td>\n",
       "      <td>other</td>\n",
       "      <td>MA</td>\n",
       "      <td>10.00</td>\n",
       "      <td>NaN</td>\n",
       "      <td>NaN</td>\n",
       "      <td>NaN</td>\n",
       "      <td>GOOD</td>\n",
       "      <td>NaN</td>\n",
       "    </tr>\n",
       "    <tr>\n",
       "      <th>38972</th>\n",
       "      <td>3900.0</td>\n",
       "      <td>36 months</td>\n",
       "      <td>9.33</td>\n",
       "      <td>RENT</td>\n",
       "      <td>98000.0</td>\n",
       "      <td>not verified</td>\n",
       "      <td>other</td>\n",
       "      <td>NY</td>\n",
       "      <td>10.00</td>\n",
       "      <td>NaN</td>\n",
       "      <td>NaN</td>\n",
       "      <td>NaN</td>\n",
       "      <td>GOOD</td>\n",
       "      <td>NaN</td>\n",
       "    </tr>\n",
       "    <tr>\n",
       "      <th>38959</th>\n",
       "      <td>4350.0</td>\n",
       "      <td>36 months</td>\n",
       "      <td>8.07</td>\n",
       "      <td>RENT</td>\n",
       "      <td>120000.0</td>\n",
       "      <td>not verified</td>\n",
       "      <td>other</td>\n",
       "      <td>MA</td>\n",
       "      <td>4.00</td>\n",
       "      <td>NaN</td>\n",
       "      <td>NaN</td>\n",
       "      <td>NaN</td>\n",
       "      <td>GOOD</td>\n",
       "      <td>NaN</td>\n",
       "    </tr>\n",
       "    <tr>\n",
       "      <th>39029</th>\n",
       "      <td>6500.0</td>\n",
       "      <td>36 months</td>\n",
       "      <td>9.64</td>\n",
       "      <td>RENT</td>\n",
       "      <td>20000.0</td>\n",
       "      <td>not verified</td>\n",
       "      <td>other</td>\n",
       "      <td>CT</td>\n",
       "      <td>10.00</td>\n",
       "      <td>NaN</td>\n",
       "      <td>NaN</td>\n",
       "      <td>NaN</td>\n",
       "      <td>BAD</td>\n",
       "      <td>NaN</td>\n",
       "    </tr>\n",
       "    <tr>\n",
       "      <th>39027</th>\n",
       "      <td>3000.0</td>\n",
       "      <td>36 months</td>\n",
       "      <td>9.33</td>\n",
       "      <td>OWN</td>\n",
       "      <td>20000.0</td>\n",
       "      <td>not verified</td>\n",
       "      <td>other</td>\n",
       "      <td>MA</td>\n",
       "      <td>10.00</td>\n",
       "      <td>NaN</td>\n",
       "      <td>NaN</td>\n",
       "      <td>NaN</td>\n",
       "      <td>GOOD</td>\n",
       "      <td>NaN</td>\n",
       "    </tr>\n",
       "    <tr>\n",
       "      <th>39031</th>\n",
       "      <td>1000.0</td>\n",
       "      <td>36 months</td>\n",
       "      <td>9.64</td>\n",
       "      <td>RENT</td>\n",
       "      <td>12000.0</td>\n",
       "      <td>not verified</td>\n",
       "      <td>other</td>\n",
       "      <td>MA</td>\n",
       "      <td>10.00</td>\n",
       "      <td>NaN</td>\n",
       "      <td>NaN</td>\n",
       "      <td>NaN</td>\n",
       "      <td>GOOD</td>\n",
       "      <td>NaN</td>\n",
       "    </tr>\n",
       "    <tr>\n",
       "      <th>39032</th>\n",
       "      <td>2525.0</td>\n",
       "      <td>36 months</td>\n",
       "      <td>9.33</td>\n",
       "      <td>RENT</td>\n",
       "      <td>110000.0</td>\n",
       "      <td>not verified</td>\n",
       "      <td>other</td>\n",
       "      <td>NY</td>\n",
       "      <td>10.00</td>\n",
       "      <td>NaN</td>\n",
       "      <td>NaN</td>\n",
       "      <td>NaN</td>\n",
       "      <td>GOOD</td>\n",
       "      <td>NaN</td>\n",
       "    </tr>\n",
       "    <tr>\n",
       "      <th>39034</th>\n",
       "      <td>5000.0</td>\n",
       "      <td>36 months</td>\n",
       "      <td>7.75</td>\n",
       "      <td>MORTGAGE</td>\n",
       "      <td>70000.0</td>\n",
       "      <td>not verified</td>\n",
       "      <td>other</td>\n",
       "      <td>CT</td>\n",
       "      <td>8.81</td>\n",
       "      <td>NaN</td>\n",
       "      <td>NaN</td>\n",
       "      <td>NaN</td>\n",
       "      <td>GOOD</td>\n",
       "      <td>NaN</td>\n",
       "    </tr>\n",
       "    <tr>\n",
       "      <th>159054</th>\n",
       "      <td>18225.0</td>\n",
       "      <td>60 months</td>\n",
       "      <td>19.97</td>\n",
       "      <td>OWN</td>\n",
       "      <td>45712.0</td>\n",
       "      <td>verified - income source</td>\n",
       "      <td>debt_consolidation</td>\n",
       "      <td>VA</td>\n",
       "      <td>14.68</td>\n",
       "      <td>0.0</td>\n",
       "      <td>NaN</td>\n",
       "      <td>9.0</td>\n",
       "      <td>GOOD</td>\n",
       "      <td>11.0</td>\n",
       "    </tr>\n",
       "    <tr>\n",
       "      <th>22188</th>\n",
       "      <td>8000.0</td>\n",
       "      <td>36 months</td>\n",
       "      <td>15.58</td>\n",
       "      <td>OWN</td>\n",
       "      <td>38400.0</td>\n",
       "      <td>verified - income</td>\n",
       "      <td>major_purchase</td>\n",
       "      <td>PA</td>\n",
       "      <td>18.38</td>\n",
       "      <td>0.0</td>\n",
       "      <td>NaN</td>\n",
       "      <td>11.0</td>\n",
       "      <td>BAD</td>\n",
       "      <td>5.0</td>\n",
       "    </tr>\n",
       "    <tr>\n",
       "      <th>118892</th>\n",
       "      <td>15000.0</td>\n",
       "      <td>36 months</td>\n",
       "      <td>13.67</td>\n",
       "      <td>OWN</td>\n",
       "      <td>34480.0</td>\n",
       "      <td>verified - income source</td>\n",
       "      <td>credit_card</td>\n",
       "      <td>CA</td>\n",
       "      <td>17.85</td>\n",
       "      <td>0.0</td>\n",
       "      <td>NaN</td>\n",
       "      <td>12.0</td>\n",
       "      <td>GOOD</td>\n",
       "      <td>10.0</td>\n",
       "    </tr>\n",
       "    <tr>\n",
       "      <th>34325</th>\n",
       "      <td>12000.0</td>\n",
       "      <td>36 months</td>\n",
       "      <td>13.16</td>\n",
       "      <td>RENT</td>\n",
       "      <td>85000.0</td>\n",
       "      <td>not verified</td>\n",
       "      <td>wedding</td>\n",
       "      <td>CA</td>\n",
       "      <td>12.01</td>\n",
       "      <td>0.0</td>\n",
       "      <td>NaN</td>\n",
       "      <td>39.0</td>\n",
       "      <td>GOOD</td>\n",
       "      <td>11.0</td>\n",
       "    </tr>\n",
       "    <tr>\n",
       "      <th>123389</th>\n",
       "      <td>24000.0</td>\n",
       "      <td>60 months</td>\n",
       "      <td>24.11</td>\n",
       "      <td>MORTGAGE</td>\n",
       "      <td>56000.0</td>\n",
       "      <td>verified - income</td>\n",
       "      <td>home_improvement</td>\n",
       "      <td>MI</td>\n",
       "      <td>11.96</td>\n",
       "      <td>0.0</td>\n",
       "      <td>NaN</td>\n",
       "      <td>19.0</td>\n",
       "      <td>GOOD</td>\n",
       "      <td>15.0</td>\n",
       "    </tr>\n",
       "    <tr>\n",
       "      <th>135530</th>\n",
       "      <td>15000.0</td>\n",
       "      <td>60 months</td>\n",
       "      <td>13.35</td>\n",
       "      <td>OWN</td>\n",
       "      <td>42000.0</td>\n",
       "      <td>verified - income</td>\n",
       "      <td>major_purchase</td>\n",
       "      <td>TX</td>\n",
       "      <td>12.34</td>\n",
       "      <td>0.0</td>\n",
       "      <td>NaN</td>\n",
       "      <td>20.0</td>\n",
       "      <td>GOOD</td>\n",
       "      <td>20.0</td>\n",
       "    </tr>\n",
       "    <tr>\n",
       "      <th>35485</th>\n",
       "      <td>8000.0</td>\n",
       "      <td>36 months</td>\n",
       "      <td>11.34</td>\n",
       "      <td>RENT</td>\n",
       "      <td>45000.0</td>\n",
       "      <td>verified - income</td>\n",
       "      <td>debt_consolidation</td>\n",
       "      <td>CA</td>\n",
       "      <td>8.75</td>\n",
       "      <td>1.0</td>\n",
       "      <td>NaN</td>\n",
       "      <td>12.0</td>\n",
       "      <td>BAD</td>\n",
       "      <td>7.0</td>\n",
       "    </tr>\n",
       "    <tr>\n",
       "      <th>10640</th>\n",
       "      <td>4275.0</td>\n",
       "      <td>36 months</td>\n",
       "      <td>15.99</td>\n",
       "      <td>MORTGAGE</td>\n",
       "      <td>54500.0</td>\n",
       "      <td>not verified</td>\n",
       "      <td>home_improvement</td>\n",
       "      <td>NC</td>\n",
       "      <td>7.49</td>\n",
       "      <td>0.0</td>\n",
       "      <td>NaN</td>\n",
       "      <td>9.0</td>\n",
       "      <td>GOOD</td>\n",
       "      <td>6.0</td>\n",
       "    </tr>\n",
       "    <tr>\n",
       "      <th>21663</th>\n",
       "      <td>1000.0</td>\n",
       "      <td>36 months</td>\n",
       "      <td>14.84</td>\n",
       "      <td>RENT</td>\n",
       "      <td>18000.0</td>\n",
       "      <td>verified - income source</td>\n",
       "      <td>moving</td>\n",
       "      <td>NJ</td>\n",
       "      <td>0.00</td>\n",
       "      <td>0.0</td>\n",
       "      <td>NaN</td>\n",
       "      <td>11.0</td>\n",
       "      <td>GOOD</td>\n",
       "      <td>4.0</td>\n",
       "    </tr>\n",
       "    <tr>\n",
       "      <th>23452</th>\n",
       "      <td>1800.0</td>\n",
       "      <td>36 months</td>\n",
       "      <td>14.84</td>\n",
       "      <td>RENT</td>\n",
       "      <td>4800.0</td>\n",
       "      <td>not verified</td>\n",
       "      <td>debt_consolidation</td>\n",
       "      <td>CA</td>\n",
       "      <td>0.00</td>\n",
       "      <td>0.0</td>\n",
       "      <td>NaN</td>\n",
       "      <td>10.0</td>\n",
       "      <td>GOOD</td>\n",
       "      <td>4.0</td>\n",
       "    </tr>\n",
       "    <tr>\n",
       "      <th>124702</th>\n",
       "      <td>3000.0</td>\n",
       "      <td>36 months</td>\n",
       "      <td>19.42</td>\n",
       "      <td>RENT</td>\n",
       "      <td>30000.0</td>\n",
       "      <td>not verified</td>\n",
       "      <td>debt_consolidation</td>\n",
       "      <td>MN</td>\n",
       "      <td>16.28</td>\n",
       "      <td>0.0</td>\n",
       "      <td>NaN</td>\n",
       "      <td>20.0</td>\n",
       "      <td>GOOD</td>\n",
       "      <td>11.0</td>\n",
       "    </tr>\n",
       "    <tr>\n",
       "      <th>50242</th>\n",
       "      <td>14000.0</td>\n",
       "      <td>60 months</td>\n",
       "      <td>24.50</td>\n",
       "      <td>RENT</td>\n",
       "      <td>120000.0</td>\n",
       "      <td>verified - income</td>\n",
       "      <td>debt_consolidation</td>\n",
       "      <td>TX</td>\n",
       "      <td>22.90</td>\n",
       "      <td>0.0</td>\n",
       "      <td>NaN</td>\n",
       "      <td>27.0</td>\n",
       "      <td>BAD</td>\n",
       "      <td>16.0</td>\n",
       "    </tr>\n",
       "    <tr>\n",
       "      <th>112339</th>\n",
       "      <td>1500.0</td>\n",
       "      <td>36 months</td>\n",
       "      <td>13.99</td>\n",
       "      <td>MORTGAGE</td>\n",
       "      <td>85000.0</td>\n",
       "      <td>not verified</td>\n",
       "      <td>other</td>\n",
       "      <td>NC</td>\n",
       "      <td>7.72</td>\n",
       "      <td>3.0</td>\n",
       "      <td>NaN</td>\n",
       "      <td>25.0</td>\n",
       "      <td>GOOD</td>\n",
       "      <td>18.0</td>\n",
       "    </tr>\n",
       "    <tr>\n",
       "      <th>136066</th>\n",
       "      <td>1000.0</td>\n",
       "      <td>36 months</td>\n",
       "      <td>11.67</td>\n",
       "      <td>OWN</td>\n",
       "      <td>45000.0</td>\n",
       "      <td>not verified</td>\n",
       "      <td>medical</td>\n",
       "      <td>CA</td>\n",
       "      <td>19.73</td>\n",
       "      <td>0.0</td>\n",
       "      <td>NaN</td>\n",
       "      <td>48.0</td>\n",
       "      <td>GOOD</td>\n",
       "      <td>10.0</td>\n",
       "    </tr>\n",
       "    <tr>\n",
       "      <th>45262</th>\n",
       "      <td>4200.0</td>\n",
       "      <td>60 months</td>\n",
       "      <td>21.70</td>\n",
       "      <td>RENT</td>\n",
       "      <td>38500.0</td>\n",
       "      <td>verified - income</td>\n",
       "      <td>vacation</td>\n",
       "      <td>CA</td>\n",
       "      <td>24.27</td>\n",
       "      <td>0.0</td>\n",
       "      <td>NaN</td>\n",
       "      <td>29.0</td>\n",
       "      <td>GOOD</td>\n",
       "      <td>15.0</td>\n",
       "    </tr>\n",
       "    <tr>\n",
       "      <th>38072</th>\n",
       "      <td>4000.0</td>\n",
       "      <td>36 months</td>\n",
       "      <td>9.76</td>\n",
       "      <td>RENT</td>\n",
       "      <td>46746.0</td>\n",
       "      <td>not verified</td>\n",
       "      <td>major_purchase</td>\n",
       "      <td>PA</td>\n",
       "      <td>7.29</td>\n",
       "      <td>0.0</td>\n",
       "      <td>NaN</td>\n",
       "      <td>2.0</td>\n",
       "      <td>GOOD</td>\n",
       "      <td>3.0</td>\n",
       "    </tr>\n",
       "    <tr>\n",
       "      <th>15723</th>\n",
       "      <td>20000.0</td>\n",
       "      <td>60 months</td>\n",
       "      <td>20.48</td>\n",
       "      <td>RENT</td>\n",
       "      <td>42000.0</td>\n",
       "      <td>verified - income</td>\n",
       "      <td>debt_consolidation</td>\n",
       "      <td>OH</td>\n",
       "      <td>18.91</td>\n",
       "      <td>0.0</td>\n",
       "      <td>NaN</td>\n",
       "      <td>18.0</td>\n",
       "      <td>BAD</td>\n",
       "      <td>15.0</td>\n",
       "    </tr>\n",
       "    <tr>\n",
       "      <th>32419</th>\n",
       "      <td>1400.0</td>\n",
       "      <td>36 months</td>\n",
       "      <td>12.84</td>\n",
       "      <td>OWN</td>\n",
       "      <td>4888.0</td>\n",
       "      <td>not verified</td>\n",
       "      <td>vacation</td>\n",
       "      <td>DC</td>\n",
       "      <td>17.68</td>\n",
       "      <td>0.0</td>\n",
       "      <td>NaN</td>\n",
       "      <td>7.0</td>\n",
       "      <td>GOOD</td>\n",
       "      <td>6.0</td>\n",
       "    </tr>\n",
       "    <tr>\n",
       "      <th>23520</th>\n",
       "      <td>3000.0</td>\n",
       "      <td>36 months</td>\n",
       "      <td>13.98</td>\n",
       "      <td>OWN</td>\n",
       "      <td>24000.0</td>\n",
       "      <td>verified - income source</td>\n",
       "      <td>other</td>\n",
       "      <td>PA</td>\n",
       "      <td>0.00</td>\n",
       "      <td>0.0</td>\n",
       "      <td>NaN</td>\n",
       "      <td>9.0</td>\n",
       "      <td>GOOD</td>\n",
       "      <td>6.0</td>\n",
       "    </tr>\n",
       "    <tr>\n",
       "      <th>22841</th>\n",
       "      <td>3200.0</td>\n",
       "      <td>36 months</td>\n",
       "      <td>17.93</td>\n",
       "      <td>RENT</td>\n",
       "      <td>15600.0</td>\n",
       "      <td>verified - income</td>\n",
       "      <td>debt_consolidation</td>\n",
       "      <td>MD</td>\n",
       "      <td>11.85</td>\n",
       "      <td>0.0</td>\n",
       "      <td>NaN</td>\n",
       "      <td>5.0</td>\n",
       "      <td>BAD</td>\n",
       "      <td>4.0</td>\n",
       "    </tr>\n",
       "  </tbody>\n",
       "</table>\n",
       "</div>"
      ],
      "text/plain": [
       "        Loan_Amount       Term  Interest_Rate Home_Ownership  Annual_Income  \\\n",
       "36285           NaN        NaN            NaN            NaN            NaN   \n",
       "38950        7000.0  36 months           7.75           NONE            NaN   \n",
       "39033        6500.0  36 months           8.38           NONE            NaN   \n",
       "38980        6700.0  36 months           7.75           NONE            NaN   \n",
       "38949        5000.0  36 months           7.43           NONE            NaN   \n",
       "39019        2500.0  36 months           7.43       MORTGAGE        66624.0   \n",
       "39028        2000.0  36 months           9.96           RENT         6000.0   \n",
       "39026        3000.0  36 months           9.01           RENT        35000.0   \n",
       "39025       10500.0  36 months          11.22           RENT        60000.0   \n",
       "39024        1275.0  36 months          12.49           RENT        40000.0   \n",
       "39023        6450.0  36 months          11.22           RENT        32000.0   \n",
       "39022        1000.0  36 months           7.12           RENT        50000.0   \n",
       "39021        2600.0  36 months           8.38       MORTGAGE         6500.0   \n",
       "39020        3000.0  36 months           7.43       MORTGAGE        80000.0   \n",
       "39018        5000.0  36 months           7.75       MORTGAGE       300000.0   \n",
       "39030        3500.0  36 months          10.28           RENT       180000.0   \n",
       "39017        1000.0  36 months          14.07           RENT        25000.0   \n",
       "39016        1400.0  36 months          10.91           RENT        40000.0   \n",
       "39015        5000.0  36 months          11.22           RENT        28000.0   \n",
       "39014        1200.0  36 months           9.01           RENT        36000.0   \n",
       "39009        1900.0  36 months           9.64       MORTGAGE       100000.0   \n",
       "38994        7200.0  36 months          10.28           RENT        95000.0   \n",
       "38983        3200.0  36 months           9.96       MORTGAGE       150000.0   \n",
       "38972        3900.0  36 months           9.33           RENT        98000.0   \n",
       "38959        4350.0  36 months           8.07           RENT       120000.0   \n",
       "39029        6500.0  36 months           9.64           RENT        20000.0   \n",
       "39027        3000.0  36 months           9.33            OWN        20000.0   \n",
       "39031        1000.0  36 months           9.64           RENT        12000.0   \n",
       "39032        2525.0  36 months           9.33           RENT       110000.0   \n",
       "39034        5000.0  36 months           7.75       MORTGAGE        70000.0   \n",
       "159054      18225.0  60 months          19.97            OWN        45712.0   \n",
       "22188        8000.0  36 months          15.58            OWN        38400.0   \n",
       "118892      15000.0  36 months          13.67            OWN        34480.0   \n",
       "34325       12000.0  36 months          13.16           RENT        85000.0   \n",
       "123389      24000.0  60 months          24.11       MORTGAGE        56000.0   \n",
       "135530      15000.0  60 months          13.35            OWN        42000.0   \n",
       "35485        8000.0  36 months          11.34           RENT        45000.0   \n",
       "10640        4275.0  36 months          15.99       MORTGAGE        54500.0   \n",
       "21663        1000.0  36 months          14.84           RENT        18000.0   \n",
       "23452        1800.0  36 months          14.84           RENT         4800.0   \n",
       "124702       3000.0  36 months          19.42           RENT        30000.0   \n",
       "50242       14000.0  60 months          24.50           RENT       120000.0   \n",
       "112339       1500.0  36 months          13.99       MORTGAGE        85000.0   \n",
       "136066       1000.0  36 months          11.67            OWN        45000.0   \n",
       "45262        4200.0  60 months          21.70           RENT        38500.0   \n",
       "38072        4000.0  36 months           9.76           RENT        46746.0   \n",
       "15723       20000.0  60 months          20.48           RENT        42000.0   \n",
       "32419        1400.0  36 months          12.84            OWN         4888.0   \n",
       "23520        3000.0  36 months          13.98            OWN        24000.0   \n",
       "22841        3200.0  36 months          17.93           RENT        15600.0   \n",
       "\n",
       "             Verification_Status        Loan_Purpose State  Debt_to_Income  \\\n",
       "36285                        NaN                 NaN   NaN             NaN   \n",
       "38950               not verified               other    NY            1.00   \n",
       "39033               not verified               other    NY            4.00   \n",
       "38980               not verified               other    NY            1.00   \n",
       "38949               not verified               other    NY            1.00   \n",
       "39019               not verified               other    OH           10.36   \n",
       "39028               not verified               other    FL           10.00   \n",
       "39026               not verified               other    KS           10.00   \n",
       "39025               not verified               other    CT           19.50   \n",
       "39024               not verified               other    MA           10.00   \n",
       "39023               not verified               other    GA           10.00   \n",
       "39022               not verified               other    NY            1.10   \n",
       "39021               not verified               other    CO            6.46   \n",
       "39020               not verified               other    NJ            0.39   \n",
       "39018               not verified               other    LA            5.38   \n",
       "39030               not verified               other    NY           10.00   \n",
       "39017               not verified               other    NJ           16.27   \n",
       "39016               not verified               other    MO            8.61   \n",
       "39015               not verified               other    NJ            3.51   \n",
       "39014               not verified               other    TX            3.27   \n",
       "39009               not verified  debt_consolidation    FL           10.00   \n",
       "38994               not verified               other    NY           10.00   \n",
       "38983               not verified               other    MA           10.00   \n",
       "38972               not verified               other    NY           10.00   \n",
       "38959               not verified               other    MA            4.00   \n",
       "39029               not verified               other    CT           10.00   \n",
       "39027               not verified               other    MA           10.00   \n",
       "39031               not verified               other    MA           10.00   \n",
       "39032               not verified               other    NY           10.00   \n",
       "39034               not verified               other    CT            8.81   \n",
       "159054  verified - income source  debt_consolidation    VA           14.68   \n",
       "22188          verified - income      major_purchase    PA           18.38   \n",
       "118892  verified - income source         credit_card    CA           17.85   \n",
       "34325               not verified             wedding    CA           12.01   \n",
       "123389         verified - income    home_improvement    MI           11.96   \n",
       "135530         verified - income      major_purchase    TX           12.34   \n",
       "35485          verified - income  debt_consolidation    CA            8.75   \n",
       "10640               not verified    home_improvement    NC            7.49   \n",
       "21663   verified - income source              moving    NJ            0.00   \n",
       "23452               not verified  debt_consolidation    CA            0.00   \n",
       "124702              not verified  debt_consolidation    MN           16.28   \n",
       "50242          verified - income  debt_consolidation    TX           22.90   \n",
       "112339              not verified               other    NC            7.72   \n",
       "136066              not verified             medical    CA           19.73   \n",
       "45262          verified - income            vacation    CA           24.27   \n",
       "38072               not verified      major_purchase    PA            7.29   \n",
       "15723          verified - income  debt_consolidation    OH           18.91   \n",
       "32419               not verified            vacation    DC           17.68   \n",
       "23520   verified - income source               other    PA            0.00   \n",
       "22841          verified - income  debt_consolidation    MD           11.85   \n",
       "\n",
       "        Delinquent_2yr  Revolving_Cr_Util  Total_Accounts Bad_Loan  \\\n",
       "36285              NaN                NaN             NaN     GOOD   \n",
       "38950              NaN                NaN             NaN     GOOD   \n",
       "39033              NaN                NaN             NaN     GOOD   \n",
       "38980              NaN                NaN             NaN     GOOD   \n",
       "38949              NaN                NaN             NaN     GOOD   \n",
       "39019              NaN                NaN             NaN     GOOD   \n",
       "39028              NaN                NaN             NaN     GOOD   \n",
       "39026              NaN                NaN             NaN     GOOD   \n",
       "39025              NaN                NaN             NaN     GOOD   \n",
       "39024              NaN                NaN             NaN      BAD   \n",
       "39023              NaN                NaN             NaN     GOOD   \n",
       "39022              NaN                NaN             NaN     GOOD   \n",
       "39021              NaN                NaN             NaN      BAD   \n",
       "39020              NaN                NaN             NaN     GOOD   \n",
       "39018              NaN                NaN             NaN     GOOD   \n",
       "39030              NaN                NaN             NaN     GOOD   \n",
       "39017              NaN                NaN             NaN     GOOD   \n",
       "39016              NaN                NaN             NaN     GOOD   \n",
       "39015              NaN                NaN             NaN     GOOD   \n",
       "39014              NaN                NaN             NaN     GOOD   \n",
       "39009              NaN                NaN             NaN     GOOD   \n",
       "38994              NaN                NaN             NaN     GOOD   \n",
       "38983              NaN                NaN             NaN     GOOD   \n",
       "38972              NaN                NaN             NaN     GOOD   \n",
       "38959              NaN                NaN             NaN     GOOD   \n",
       "39029              NaN                NaN             NaN      BAD   \n",
       "39027              NaN                NaN             NaN     GOOD   \n",
       "39031              NaN                NaN             NaN     GOOD   \n",
       "39032              NaN                NaN             NaN     GOOD   \n",
       "39034              NaN                NaN             NaN     GOOD   \n",
       "159054             0.0                NaN             9.0     GOOD   \n",
       "22188              0.0                NaN            11.0      BAD   \n",
       "118892             0.0                NaN            12.0     GOOD   \n",
       "34325              0.0                NaN            39.0     GOOD   \n",
       "123389             0.0                NaN            19.0     GOOD   \n",
       "135530             0.0                NaN            20.0     GOOD   \n",
       "35485              1.0                NaN            12.0      BAD   \n",
       "10640              0.0                NaN             9.0     GOOD   \n",
       "21663              0.0                NaN            11.0     GOOD   \n",
       "23452              0.0                NaN            10.0     GOOD   \n",
       "124702             0.0                NaN            20.0     GOOD   \n",
       "50242              0.0                NaN            27.0      BAD   \n",
       "112339             3.0                NaN            25.0     GOOD   \n",
       "136066             0.0                NaN            48.0     GOOD   \n",
       "45262              0.0                NaN            29.0     GOOD   \n",
       "38072              0.0                NaN             2.0     GOOD   \n",
       "15723              0.0                NaN            18.0      BAD   \n",
       "32419              0.0                NaN             7.0     GOOD   \n",
       "23520              0.0                NaN             9.0     GOOD   \n",
       "22841              0.0                NaN             5.0      BAD   \n",
       "\n",
       "        Longest_Credit_Length  \n",
       "36285                     NaN  \n",
       "38950                     NaN  \n",
       "39033                     NaN  \n",
       "38980                     NaN  \n",
       "38949                     NaN  \n",
       "39019                     NaN  \n",
       "39028                     NaN  \n",
       "39026                     NaN  \n",
       "39025                     NaN  \n",
       "39024                     NaN  \n",
       "39023                     NaN  \n",
       "39022                     NaN  \n",
       "39021                     NaN  \n",
       "39020                     NaN  \n",
       "39018                     NaN  \n",
       "39030                     NaN  \n",
       "39017                     NaN  \n",
       "39016                     NaN  \n",
       "39015                     NaN  \n",
       "39014                     NaN  \n",
       "39009                     NaN  \n",
       "38994                     NaN  \n",
       "38983                     NaN  \n",
       "38972                     NaN  \n",
       "38959                     NaN  \n",
       "39029                     NaN  \n",
       "39027                     NaN  \n",
       "39031                     NaN  \n",
       "39032                     NaN  \n",
       "39034                     NaN  \n",
       "159054                   11.0  \n",
       "22188                     5.0  \n",
       "118892                   10.0  \n",
       "34325                    11.0  \n",
       "123389                   15.0  \n",
       "135530                   20.0  \n",
       "35485                     7.0  \n",
       "10640                     6.0  \n",
       "21663                     4.0  \n",
       "23452                     4.0  \n",
       "124702                   11.0  \n",
       "50242                    16.0  \n",
       "112339                   18.0  \n",
       "136066                   10.0  \n",
       "45262                    15.0  \n",
       "38072                     3.0  \n",
       "15723                    15.0  \n",
       "32419                     6.0  \n",
       "23520                     6.0  \n",
       "22841                     4.0  "
      ]
     },
     "execution_count": 83,
     "metadata": {},
     "output_type": "execute_result"
    }
   ],
   "source": [
    "df1 = pd.DataFrame(df.isna().sum(axis = 1).sort_values(ascending = False))\n",
    "df1 = df1[df1[0]>0]\n",
    "index = df1.index\n",
    "df.loc[index,:].head(50)"
   ]
  },
  {
   "cell_type": "code",
   "execution_count": 84,
   "metadata": {},
   "outputs": [
    {
     "data": {
      "text/html": [
       "<div>\n",
       "<style scoped>\n",
       "    .dataframe tbody tr th:only-of-type {\n",
       "        vertical-align: middle;\n",
       "    }\n",
       "\n",
       "    .dataframe tbody tr th {\n",
       "        vertical-align: top;\n",
       "    }\n",
       "\n",
       "    .dataframe thead th {\n",
       "        text-align: right;\n",
       "    }\n",
       "</style>\n",
       "<table border=\"1\" class=\"dataframe\">\n",
       "  <thead>\n",
       "    <tr style=\"text-align: right;\">\n",
       "      <th></th>\n",
       "      <th>0</th>\n",
       "    </tr>\n",
       "  </thead>\n",
       "  <tbody>\n",
       "    <tr>\n",
       "      <th>36285</th>\n",
       "      <td>13</td>\n",
       "    </tr>\n",
       "    <tr>\n",
       "      <th>38950</th>\n",
       "      <td>5</td>\n",
       "    </tr>\n",
       "    <tr>\n",
       "      <th>39033</th>\n",
       "      <td>5</td>\n",
       "    </tr>\n",
       "    <tr>\n",
       "      <th>38980</th>\n",
       "      <td>5</td>\n",
       "    </tr>\n",
       "    <tr>\n",
       "      <th>38949</th>\n",
       "      <td>5</td>\n",
       "    </tr>\n",
       "    <tr>\n",
       "      <th>39019</th>\n",
       "      <td>4</td>\n",
       "    </tr>\n",
       "    <tr>\n",
       "      <th>39028</th>\n",
       "      <td>4</td>\n",
       "    </tr>\n",
       "    <tr>\n",
       "      <th>39026</th>\n",
       "      <td>4</td>\n",
       "    </tr>\n",
       "    <tr>\n",
       "      <th>39025</th>\n",
       "      <td>4</td>\n",
       "    </tr>\n",
       "    <tr>\n",
       "      <th>39024</th>\n",
       "      <td>4</td>\n",
       "    </tr>\n",
       "    <tr>\n",
       "      <th>39023</th>\n",
       "      <td>4</td>\n",
       "    </tr>\n",
       "    <tr>\n",
       "      <th>39022</th>\n",
       "      <td>4</td>\n",
       "    </tr>\n",
       "    <tr>\n",
       "      <th>39021</th>\n",
       "      <td>4</td>\n",
       "    </tr>\n",
       "    <tr>\n",
       "      <th>39020</th>\n",
       "      <td>4</td>\n",
       "    </tr>\n",
       "    <tr>\n",
       "      <th>39018</th>\n",
       "      <td>4</td>\n",
       "    </tr>\n",
       "    <tr>\n",
       "      <th>39030</th>\n",
       "      <td>4</td>\n",
       "    </tr>\n",
       "    <tr>\n",
       "      <th>39017</th>\n",
       "      <td>4</td>\n",
       "    </tr>\n",
       "    <tr>\n",
       "      <th>39016</th>\n",
       "      <td>4</td>\n",
       "    </tr>\n",
       "    <tr>\n",
       "      <th>39015</th>\n",
       "      <td>4</td>\n",
       "    </tr>\n",
       "    <tr>\n",
       "      <th>39014</th>\n",
       "      <td>4</td>\n",
       "    </tr>\n",
       "    <tr>\n",
       "      <th>39009</th>\n",
       "      <td>4</td>\n",
       "    </tr>\n",
       "    <tr>\n",
       "      <th>38994</th>\n",
       "      <td>4</td>\n",
       "    </tr>\n",
       "    <tr>\n",
       "      <th>38983</th>\n",
       "      <td>4</td>\n",
       "    </tr>\n",
       "    <tr>\n",
       "      <th>38972</th>\n",
       "      <td>4</td>\n",
       "    </tr>\n",
       "    <tr>\n",
       "      <th>38959</th>\n",
       "      <td>4</td>\n",
       "    </tr>\n",
       "    <tr>\n",
       "      <th>39029</th>\n",
       "      <td>4</td>\n",
       "    </tr>\n",
       "    <tr>\n",
       "      <th>39027</th>\n",
       "      <td>4</td>\n",
       "    </tr>\n",
       "    <tr>\n",
       "      <th>39031</th>\n",
       "      <td>4</td>\n",
       "    </tr>\n",
       "    <tr>\n",
       "      <th>39032</th>\n",
       "      <td>4</td>\n",
       "    </tr>\n",
       "    <tr>\n",
       "      <th>39034</th>\n",
       "      <td>4</td>\n",
       "    </tr>\n",
       "  </tbody>\n",
       "</table>\n",
       "</div>"
      ],
      "text/plain": [
       "        0\n",
       "36285  13\n",
       "38950   5\n",
       "39033   5\n",
       "38980   5\n",
       "38949   5\n",
       "39019   4\n",
       "39028   4\n",
       "39026   4\n",
       "39025   4\n",
       "39024   4\n",
       "39023   4\n",
       "39022   4\n",
       "39021   4\n",
       "39020   4\n",
       "39018   4\n",
       "39030   4\n",
       "39017   4\n",
       "39016   4\n",
       "39015   4\n",
       "39014   4\n",
       "39009   4\n",
       "38994   4\n",
       "38983   4\n",
       "38972   4\n",
       "38959   4\n",
       "39029   4\n",
       "39027   4\n",
       "39031   4\n",
       "39032   4\n",
       "39034   4"
      ]
     },
     "execution_count": 84,
     "metadata": {},
     "output_type": "execute_result"
    }
   ],
   "source": [
    "# Row wise nummber of missing values greater than 1\n",
    "df1[df1[0]>1]"
   ]
  },
  {
   "cell_type": "markdown",
   "metadata": {},
   "source": [
    "#### We will drop those observations having total missing values within that row >2"
   ]
  },
  {
   "cell_type": "code",
   "execution_count": 85,
   "metadata": {},
   "outputs": [
    {
     "name": "stdout",
     "output_type": "stream",
     "text": [
      "Missing values removed: 30\n"
     ]
    },
    {
     "data": {
      "text/plain": [
       "(163958, 14)"
      ]
     },
     "execution_count": 85,
     "metadata": {},
     "output_type": "execute_result"
    }
   ],
   "source": [
    "index = df1[df1[0]>2].index\n",
    "df = df.drop(index).reset_index(drop = True)\n",
    "print(\"Missing values removed:\",len(index))\n",
    "df.shape"
   ]
  },
  {
   "cell_type": "code",
   "execution_count": 86,
   "metadata": {},
   "outputs": [],
   "source": [
    "del df1,index"
   ]
  },
  {
   "cell_type": "code",
   "execution_count": 87,
   "metadata": {},
   "outputs": [
    {
     "data": {
      "text/html": [
       "<div>\n",
       "<style scoped>\n",
       "    .dataframe tbody tr th:only-of-type {\n",
       "        vertical-align: middle;\n",
       "    }\n",
       "\n",
       "    .dataframe tbody tr th {\n",
       "        vertical-align: top;\n",
       "    }\n",
       "\n",
       "    .dataframe thead th {\n",
       "        text-align: right;\n",
       "    }\n",
       "</style>\n",
       "<table border=\"1\" class=\"dataframe\">\n",
       "  <thead>\n",
       "    <tr style=\"text-align: right;\">\n",
       "      <th></th>\n",
       "      <th>Count</th>\n",
       "      <th>Percentage</th>\n",
       "    </tr>\n",
       "  </thead>\n",
       "  <tbody>\n",
       "    <tr>\n",
       "      <th>Revolving_Cr_Util</th>\n",
       "      <td>164</td>\n",
       "      <td>0.100026</td>\n",
       "    </tr>\n",
       "    <tr>\n",
       "      <th>Loan_Amount</th>\n",
       "      <td>0</td>\n",
       "      <td>0.000000</td>\n",
       "    </tr>\n",
       "    <tr>\n",
       "      <th>Term</th>\n",
       "      <td>0</td>\n",
       "      <td>0.000000</td>\n",
       "    </tr>\n",
       "    <tr>\n",
       "      <th>Interest_Rate</th>\n",
       "      <td>0</td>\n",
       "      <td>0.000000</td>\n",
       "    </tr>\n",
       "    <tr>\n",
       "      <th>Home_Ownership</th>\n",
       "      <td>0</td>\n",
       "      <td>0.000000</td>\n",
       "    </tr>\n",
       "    <tr>\n",
       "      <th>Annual_Income</th>\n",
       "      <td>0</td>\n",
       "      <td>0.000000</td>\n",
       "    </tr>\n",
       "    <tr>\n",
       "      <th>Verification_Status</th>\n",
       "      <td>0</td>\n",
       "      <td>0.000000</td>\n",
       "    </tr>\n",
       "    <tr>\n",
       "      <th>Loan_Purpose</th>\n",
       "      <td>0</td>\n",
       "      <td>0.000000</td>\n",
       "    </tr>\n",
       "    <tr>\n",
       "      <th>State</th>\n",
       "      <td>0</td>\n",
       "      <td>0.000000</td>\n",
       "    </tr>\n",
       "    <tr>\n",
       "      <th>Debt_to_Income</th>\n",
       "      <td>0</td>\n",
       "      <td>0.000000</td>\n",
       "    </tr>\n",
       "    <tr>\n",
       "      <th>Delinquent_2yr</th>\n",
       "      <td>0</td>\n",
       "      <td>0.000000</td>\n",
       "    </tr>\n",
       "    <tr>\n",
       "      <th>Total_Accounts</th>\n",
       "      <td>0</td>\n",
       "      <td>0.000000</td>\n",
       "    </tr>\n",
       "    <tr>\n",
       "      <th>Bad_Loan</th>\n",
       "      <td>0</td>\n",
       "      <td>0.000000</td>\n",
       "    </tr>\n",
       "    <tr>\n",
       "      <th>Longest_Credit_Length</th>\n",
       "      <td>0</td>\n",
       "      <td>0.000000</td>\n",
       "    </tr>\n",
       "  </tbody>\n",
       "</table>\n",
       "</div>"
      ],
      "text/plain": [
       "                       Count  Percentage\n",
       "Revolving_Cr_Util        164    0.100026\n",
       "Loan_Amount                0    0.000000\n",
       "Term                       0    0.000000\n",
       "Interest_Rate              0    0.000000\n",
       "Home_Ownership             0    0.000000\n",
       "Annual_Income              0    0.000000\n",
       "Verification_Status        0    0.000000\n",
       "Loan_Purpose               0    0.000000\n",
       "State                      0    0.000000\n",
       "Debt_to_Income             0    0.000000\n",
       "Delinquent_2yr             0    0.000000\n",
       "Total_Accounts             0    0.000000\n",
       "Bad_Loan                   0    0.000000\n",
       "Longest_Credit_Length      0    0.000000"
      ]
     },
     "execution_count": 87,
     "metadata": {},
     "output_type": "execute_result"
    }
   ],
   "source": [
    "#Missing Values\n",
    "pd.DataFrame(pd.concat([df.isnull().sum(),df.isnull().mean()*100],axis=1)).rename(columns={0:\"Count\",1:\"Percentage\"}).sort_values('Percentage',ascending=False)"
   ]
  },
  {
   "cell_type": "code",
   "execution_count": 88,
   "metadata": {},
   "outputs": [
    {
     "data": {
      "text/plain": [
       "count    163794.000000\n",
       "mean         54.079173\n",
       "std          25.285367\n",
       "min           0.000000\n",
       "25%          35.600000\n",
       "50%          55.800000\n",
       "75%          74.200000\n",
       "max         150.700000\n",
       "Name: Revolving_Cr_Util, dtype: float64"
      ]
     },
     "execution_count": 88,
     "metadata": {},
     "output_type": "execute_result"
    }
   ],
   "source": [
    "df['Revolving_Cr_Util'].describe()"
   ]
  },
  {
   "cell_type": "code",
   "execution_count": 89,
   "metadata": {},
   "outputs": [],
   "source": [
    "df['Revolving_Cr_Util'] = df['Revolving_Cr_Util'].fillna(df['Revolving_Cr_Util'].mean())"
   ]
  },
  {
   "cell_type": "code",
   "execution_count": 90,
   "metadata": {},
   "outputs": [
    {
     "data": {
      "text/html": [
       "<div>\n",
       "<style scoped>\n",
       "    .dataframe tbody tr th:only-of-type {\n",
       "        vertical-align: middle;\n",
       "    }\n",
       "\n",
       "    .dataframe tbody tr th {\n",
       "        vertical-align: top;\n",
       "    }\n",
       "\n",
       "    .dataframe thead th {\n",
       "        text-align: right;\n",
       "    }\n",
       "</style>\n",
       "<table border=\"1\" class=\"dataframe\">\n",
       "  <thead>\n",
       "    <tr style=\"text-align: right;\">\n",
       "      <th></th>\n",
       "      <th>Loan_Amount</th>\n",
       "      <th>Term</th>\n",
       "      <th>Interest_Rate</th>\n",
       "      <th>Home_Ownership</th>\n",
       "      <th>Annual_Income</th>\n",
       "      <th>Verification_Status</th>\n",
       "      <th>Loan_Purpose</th>\n",
       "      <th>State</th>\n",
       "      <th>Debt_to_Income</th>\n",
       "      <th>Delinquent_2yr</th>\n",
       "      <th>Revolving_Cr_Util</th>\n",
       "      <th>Total_Accounts</th>\n",
       "      <th>Bad_Loan</th>\n",
       "      <th>Longest_Credit_Length</th>\n",
       "    </tr>\n",
       "  </thead>\n",
       "  <tbody>\n",
       "    <tr>\n",
       "      <th>0</th>\n",
       "      <td>5000.0</td>\n",
       "      <td>36 months</td>\n",
       "      <td>10.65</td>\n",
       "      <td>RENT</td>\n",
       "      <td>24000.0</td>\n",
       "      <td>verified - income</td>\n",
       "      <td>credit_card</td>\n",
       "      <td>AZ</td>\n",
       "      <td>27.65</td>\n",
       "      <td>0.0</td>\n",
       "      <td>83.7</td>\n",
       "      <td>9.0</td>\n",
       "      <td>0</td>\n",
       "      <td>26.0</td>\n",
       "    </tr>\n",
       "    <tr>\n",
       "      <th>1</th>\n",
       "      <td>2500.0</td>\n",
       "      <td>60 months</td>\n",
       "      <td>15.27</td>\n",
       "      <td>RENT</td>\n",
       "      <td>30000.0</td>\n",
       "      <td>verified - income source</td>\n",
       "      <td>car</td>\n",
       "      <td>GA</td>\n",
       "      <td>1.00</td>\n",
       "      <td>0.0</td>\n",
       "      <td>9.4</td>\n",
       "      <td>4.0</td>\n",
       "      <td>1</td>\n",
       "      <td>12.0</td>\n",
       "    </tr>\n",
       "    <tr>\n",
       "      <th>2</th>\n",
       "      <td>2400.0</td>\n",
       "      <td>36 months</td>\n",
       "      <td>15.96</td>\n",
       "      <td>RENT</td>\n",
       "      <td>12252.0</td>\n",
       "      <td>not verified</td>\n",
       "      <td>small_business</td>\n",
       "      <td>IL</td>\n",
       "      <td>8.72</td>\n",
       "      <td>0.0</td>\n",
       "      <td>98.5</td>\n",
       "      <td>10.0</td>\n",
       "      <td>0</td>\n",
       "      <td>10.0</td>\n",
       "    </tr>\n",
       "    <tr>\n",
       "      <th>3</th>\n",
       "      <td>10000.0</td>\n",
       "      <td>36 months</td>\n",
       "      <td>13.49</td>\n",
       "      <td>RENT</td>\n",
       "      <td>49200.0</td>\n",
       "      <td>verified - income source</td>\n",
       "      <td>other</td>\n",
       "      <td>CA</td>\n",
       "      <td>20.00</td>\n",
       "      <td>0.0</td>\n",
       "      <td>21.0</td>\n",
       "      <td>37.0</td>\n",
       "      <td>0</td>\n",
       "      <td>15.0</td>\n",
       "    </tr>\n",
       "    <tr>\n",
       "      <th>4</th>\n",
       "      <td>5000.0</td>\n",
       "      <td>36 months</td>\n",
       "      <td>7.90</td>\n",
       "      <td>RENT</td>\n",
       "      <td>36000.0</td>\n",
       "      <td>verified - income source</td>\n",
       "      <td>wedding</td>\n",
       "      <td>AZ</td>\n",
       "      <td>11.20</td>\n",
       "      <td>0.0</td>\n",
       "      <td>28.3</td>\n",
       "      <td>12.0</td>\n",
       "      <td>0</td>\n",
       "      <td>7.0</td>\n",
       "    </tr>\n",
       "  </tbody>\n",
       "</table>\n",
       "</div>"
      ],
      "text/plain": [
       "   Loan_Amount       Term  Interest_Rate Home_Ownership  Annual_Income  \\\n",
       "0       5000.0  36 months          10.65           RENT        24000.0   \n",
       "1       2500.0  60 months          15.27           RENT        30000.0   \n",
       "2       2400.0  36 months          15.96           RENT        12252.0   \n",
       "3      10000.0  36 months          13.49           RENT        49200.0   \n",
       "4       5000.0  36 months           7.90           RENT        36000.0   \n",
       "\n",
       "        Verification_Status    Loan_Purpose State  Debt_to_Income  \\\n",
       "0         verified - income     credit_card    AZ           27.65   \n",
       "1  verified - income source             car    GA            1.00   \n",
       "2              not verified  small_business    IL            8.72   \n",
       "3  verified - income source           other    CA           20.00   \n",
       "4  verified - income source         wedding    AZ           11.20   \n",
       "\n",
       "   Delinquent_2yr  Revolving_Cr_Util  Total_Accounts  Bad_Loan  \\\n",
       "0             0.0               83.7             9.0         0   \n",
       "1             0.0                9.4             4.0         1   \n",
       "2             0.0               98.5            10.0         0   \n",
       "3             0.0               21.0            37.0         0   \n",
       "4             0.0               28.3            12.0         0   \n",
       "\n",
       "   Longest_Credit_Length  \n",
       "0                   26.0  \n",
       "1                   12.0  \n",
       "2                   10.0  \n",
       "3                   15.0  \n",
       "4                    7.0  "
      ]
     },
     "execution_count": 90,
     "metadata": {},
     "output_type": "execute_result"
    }
   ],
   "source": [
    "df['Bad_Loan'] = df['Bad_Loan'].map({'BAD':1,'GOOD':0})\n",
    "df.head()"
   ]
  },
  {
   "cell_type": "code",
   "execution_count": 91,
   "metadata": {},
   "outputs": [
    {
     "data": {
      "text/plain": [
       "Loan_Amount              0\n",
       "Term                     0\n",
       "Interest_Rate            0\n",
       "Home_Ownership           0\n",
       "Annual_Income            0\n",
       "Verification_Status      0\n",
       "Loan_Purpose             0\n",
       "State                    0\n",
       "Debt_to_Income           0\n",
       "Delinquent_2yr           0\n",
       "Revolving_Cr_Util        0\n",
       "Total_Accounts           0\n",
       "Bad_Loan                 0\n",
       "Longest_Credit_Length    0\n",
       "dtype: int64"
      ]
     },
     "execution_count": 91,
     "metadata": {},
     "output_type": "execute_result"
    }
   ],
   "source": [
    "df.isna().sum()"
   ]
  },
  {
   "cell_type": "code",
   "execution_count": 92,
   "metadata": {
    "scrolled": false
   },
   "outputs": [
    {
     "data": {
      "text/html": [
       "<div>\n",
       "<style scoped>\n",
       "    .dataframe tbody tr th:only-of-type {\n",
       "        vertical-align: middle;\n",
       "    }\n",
       "\n",
       "    .dataframe tbody tr th {\n",
       "        vertical-align: top;\n",
       "    }\n",
       "\n",
       "    .dataframe thead th {\n",
       "        text-align: right;\n",
       "    }\n",
       "</style>\n",
       "<table border=\"1\" class=\"dataframe\">\n",
       "  <thead>\n",
       "    <tr style=\"text-align: right;\">\n",
       "      <th></th>\n",
       "      <th>Loan_Amount</th>\n",
       "      <th>Interest_Rate</th>\n",
       "      <th>Annual_Income</th>\n",
       "      <th>Debt_to_Income</th>\n",
       "      <th>Delinquent_2yr</th>\n",
       "      <th>Revolving_Cr_Util</th>\n",
       "      <th>Total_Accounts</th>\n",
       "      <th>Bad_Loan</th>\n",
       "      <th>Longest_Credit_Length</th>\n",
       "      <th>Term_60 months</th>\n",
       "      <th>...</th>\n",
       "      <th>State_SD</th>\n",
       "      <th>State_TN</th>\n",
       "      <th>State_TX</th>\n",
       "      <th>State_UT</th>\n",
       "      <th>State_VA</th>\n",
       "      <th>State_VT</th>\n",
       "      <th>State_WA</th>\n",
       "      <th>State_WI</th>\n",
       "      <th>State_WV</th>\n",
       "      <th>State_WY</th>\n",
       "    </tr>\n",
       "  </thead>\n",
       "  <tbody>\n",
       "    <tr>\n",
       "      <th>0</th>\n",
       "      <td>5000.0</td>\n",
       "      <td>10.65</td>\n",
       "      <td>24000.0</td>\n",
       "      <td>27.65</td>\n",
       "      <td>0.0</td>\n",
       "      <td>83.7</td>\n",
       "      <td>9.0</td>\n",
       "      <td>0</td>\n",
       "      <td>26.0</td>\n",
       "      <td>0</td>\n",
       "      <td>...</td>\n",
       "      <td>0</td>\n",
       "      <td>0</td>\n",
       "      <td>0</td>\n",
       "      <td>0</td>\n",
       "      <td>0</td>\n",
       "      <td>0</td>\n",
       "      <td>0</td>\n",
       "      <td>0</td>\n",
       "      <td>0</td>\n",
       "      <td>0</td>\n",
       "    </tr>\n",
       "    <tr>\n",
       "      <th>1</th>\n",
       "      <td>2500.0</td>\n",
       "      <td>15.27</td>\n",
       "      <td>30000.0</td>\n",
       "      <td>1.00</td>\n",
       "      <td>0.0</td>\n",
       "      <td>9.4</td>\n",
       "      <td>4.0</td>\n",
       "      <td>1</td>\n",
       "      <td>12.0</td>\n",
       "      <td>1</td>\n",
       "      <td>...</td>\n",
       "      <td>0</td>\n",
       "      <td>0</td>\n",
       "      <td>0</td>\n",
       "      <td>0</td>\n",
       "      <td>0</td>\n",
       "      <td>0</td>\n",
       "      <td>0</td>\n",
       "      <td>0</td>\n",
       "      <td>0</td>\n",
       "      <td>0</td>\n",
       "    </tr>\n",
       "    <tr>\n",
       "      <th>2</th>\n",
       "      <td>2400.0</td>\n",
       "      <td>15.96</td>\n",
       "      <td>12252.0</td>\n",
       "      <td>8.72</td>\n",
       "      <td>0.0</td>\n",
       "      <td>98.5</td>\n",
       "      <td>10.0</td>\n",
       "      <td>0</td>\n",
       "      <td>10.0</td>\n",
       "      <td>0</td>\n",
       "      <td>...</td>\n",
       "      <td>0</td>\n",
       "      <td>0</td>\n",
       "      <td>0</td>\n",
       "      <td>0</td>\n",
       "      <td>0</td>\n",
       "      <td>0</td>\n",
       "      <td>0</td>\n",
       "      <td>0</td>\n",
       "      <td>0</td>\n",
       "      <td>0</td>\n",
       "    </tr>\n",
       "    <tr>\n",
       "      <th>3</th>\n",
       "      <td>10000.0</td>\n",
       "      <td>13.49</td>\n",
       "      <td>49200.0</td>\n",
       "      <td>20.00</td>\n",
       "      <td>0.0</td>\n",
       "      <td>21.0</td>\n",
       "      <td>37.0</td>\n",
       "      <td>0</td>\n",
       "      <td>15.0</td>\n",
       "      <td>0</td>\n",
       "      <td>...</td>\n",
       "      <td>0</td>\n",
       "      <td>0</td>\n",
       "      <td>0</td>\n",
       "      <td>0</td>\n",
       "      <td>0</td>\n",
       "      <td>0</td>\n",
       "      <td>0</td>\n",
       "      <td>0</td>\n",
       "      <td>0</td>\n",
       "      <td>0</td>\n",
       "    </tr>\n",
       "    <tr>\n",
       "      <th>4</th>\n",
       "      <td>5000.0</td>\n",
       "      <td>7.90</td>\n",
       "      <td>36000.0</td>\n",
       "      <td>11.20</td>\n",
       "      <td>0.0</td>\n",
       "      <td>28.3</td>\n",
       "      <td>12.0</td>\n",
       "      <td>0</td>\n",
       "      <td>7.0</td>\n",
       "      <td>0</td>\n",
       "      <td>...</td>\n",
       "      <td>0</td>\n",
       "      <td>0</td>\n",
       "      <td>0</td>\n",
       "      <td>0</td>\n",
       "      <td>0</td>\n",
       "      <td>0</td>\n",
       "      <td>0</td>\n",
       "      <td>0</td>\n",
       "      <td>0</td>\n",
       "      <td>0</td>\n",
       "    </tr>\n",
       "  </tbody>\n",
       "</table>\n",
       "<p>5 rows × 79 columns</p>\n",
       "</div>"
      ],
      "text/plain": [
       "   Loan_Amount  Interest_Rate  Annual_Income  Debt_to_Income  Delinquent_2yr  \\\n",
       "0       5000.0          10.65        24000.0           27.65             0.0   \n",
       "1       2500.0          15.27        30000.0            1.00             0.0   \n",
       "2       2400.0          15.96        12252.0            8.72             0.0   \n",
       "3      10000.0          13.49        49200.0           20.00             0.0   \n",
       "4       5000.0           7.90        36000.0           11.20             0.0   \n",
       "\n",
       "   Revolving_Cr_Util  Total_Accounts  Bad_Loan  Longest_Credit_Length  \\\n",
       "0               83.7             9.0         0                   26.0   \n",
       "1                9.4             4.0         1                   12.0   \n",
       "2               98.5            10.0         0                   10.0   \n",
       "3               21.0            37.0         0                   15.0   \n",
       "4               28.3            12.0         0                    7.0   \n",
       "\n",
       "   Term_60 months  ...  State_SD  State_TN  State_TX  State_UT  State_VA  \\\n",
       "0               0  ...         0         0         0         0         0   \n",
       "1               1  ...         0         0         0         0         0   \n",
       "2               0  ...         0         0         0         0         0   \n",
       "3               0  ...         0         0         0         0         0   \n",
       "4               0  ...         0         0         0         0         0   \n",
       "\n",
       "   State_VT  State_WA  State_WI  State_WV  State_WY  \n",
       "0         0         0         0         0         0  \n",
       "1         0         0         0         0         0  \n",
       "2         0         0         0         0         0  \n",
       "3         0         0         0         0         0  \n",
       "4         0         0         0         0         0  \n",
       "\n",
       "[5 rows x 79 columns]"
      ]
     },
     "execution_count": 92,
     "metadata": {},
     "output_type": "execute_result"
    }
   ],
   "source": [
    "df_model = pd.get_dummies(df,drop_first=True)\n",
    "df_model.head()"
   ]
  },
  {
   "cell_type": "code",
   "execution_count": 93,
   "metadata": {},
   "outputs": [],
   "source": [
    "y = df_model.pop('Bad_Loan')\n",
    "x = df_model"
   ]
  },
  {
   "cell_type": "code",
   "execution_count": 94,
   "metadata": {},
   "outputs": [
    {
     "data": {
      "text/plain": [
       "0    133945\n",
       "1     30013\n",
       "Name: Bad_Loan, dtype: int64"
      ]
     },
     "execution_count": 94,
     "metadata": {},
     "output_type": "execute_result"
    }
   ],
   "source": [
    "y.value_counts()"
   ]
  },
  {
   "cell_type": "code",
   "execution_count": 95,
   "metadata": {},
   "outputs": [],
   "source": [
    "smote = SMOTE(n_jobs=-1,random_state = 0)\n",
    "x_train_smote, y_train_smote = smote.fit_sample(x, y)"
   ]
  },
  {
   "cell_type": "code",
   "execution_count": 96,
   "metadata": {},
   "outputs": [
    {
     "data": {
      "text/plain": [
       "0    133945\n",
       "1    133945\n",
       "Name: Bad_Loan, dtype: int64"
      ]
     },
     "execution_count": 96,
     "metadata": {},
     "output_type": "execute_result"
    }
   ],
   "source": [
    "y_train_smote.value_counts()"
   ]
  },
  {
   "cell_type": "code",
   "execution_count": 97,
   "metadata": {},
   "outputs": [
    {
     "name": "stdout",
     "output_type": "stream",
     "text": [
      "(200917, 78) (66973, 78) (200917,) (66973,)\n"
     ]
    }
   ],
   "source": [
    "x_train, x_test, y_train, y_test = train_test_split(x_train_smote,y_train_smote,test_size = 0.25, random_state = 123,stratify = y_train_smote)\n",
    "print(x_train.shape, x_test.shape, y_train.shape, y_test.shape)"
   ]
  },
  {
   "cell_type": "markdown",
   "metadata": {},
   "source": [
    "# Logistic Regression"
   ]
  },
  {
   "cell_type": "code",
   "execution_count": 98,
   "metadata": {},
   "outputs": [],
   "source": [
    "scalar1 = StandardScaler()\n",
    "x_train_scaled = scalar1.fit_transform(x_train)\n",
    "x_test_scaled = scalar1.transform(x_test)"
   ]
  },
  {
   "cell_type": "code",
   "execution_count": 99,
   "metadata": {},
   "outputs": [
    {
     "name": "stdout",
     "output_type": "stream",
     "text": [
      "Train Accuracy:  0.8775016549122274\n",
      "Test Accuracy:  0.8804742209547131\n",
      "AUC Score: 0.9294129042715661\n"
     ]
    }
   ],
   "source": [
    "LR = LogisticRegression(random_state=0, n_jobs=-1)\n",
    "LR.fit(x_train_scaled,y_train)\n",
    "y_pred_LR = LR.predict(x_test_scaled)\n",
    "y_pred_LR_prob = LR.predict_proba(x_test_scaled)[:,1]\n",
    "print(\"Train Accuracy: \",LR.score(x_train_scaled,y_train))\n",
    "print(\"Test Accuracy: \",LR.score(x_test_scaled,y_test))\n",
    "print(\"AUC Score:\",roc_auc_score(y_test, y_pred_LR_prob))"
   ]
  },
  {
   "cell_type": "code",
   "execution_count": 100,
   "metadata": {
    "scrolled": true
   },
   "outputs": [
    {
     "data": {
      "text/html": [
       "<div>\n",
       "<style scoped>\n",
       "    .dataframe tbody tr th:only-of-type {\n",
       "        vertical-align: middle;\n",
       "    }\n",
       "\n",
       "    .dataframe tbody tr th {\n",
       "        vertical-align: top;\n",
       "    }\n",
       "\n",
       "    .dataframe thead th {\n",
       "        text-align: right;\n",
       "    }\n",
       "</style>\n",
       "<table border=\"1\" class=\"dataframe\">\n",
       "  <thead>\n",
       "    <tr style=\"text-align: right;\">\n",
       "      <th>col_0</th>\n",
       "      <th>0</th>\n",
       "      <th>1</th>\n",
       "    </tr>\n",
       "    <tr>\n",
       "      <th>Bad_Loan</th>\n",
       "      <th></th>\n",
       "      <th></th>\n",
       "    </tr>\n",
       "  </thead>\n",
       "  <tbody>\n",
       "    <tr>\n",
       "      <th>0</th>\n",
       "      <td>32836</td>\n",
       "      <td>651</td>\n",
       "    </tr>\n",
       "    <tr>\n",
       "      <th>1</th>\n",
       "      <td>7354</td>\n",
       "      <td>26132</td>\n",
       "    </tr>\n",
       "  </tbody>\n",
       "</table>\n",
       "</div>"
      ],
      "text/plain": [
       "col_0         0      1\n",
       "Bad_Loan              \n",
       "0         32836    651\n",
       "1          7354  26132"
      ]
     },
     "execution_count": 100,
     "metadata": {},
     "output_type": "execute_result"
    }
   ],
   "source": [
    "pd.crosstab(y_test,y_pred_LR)"
   ]
  },
  {
   "cell_type": "code",
   "execution_count": 101,
   "metadata": {},
   "outputs": [
    {
     "data": {
      "text/plain": [
       "array([[32836,   651],\n",
       "       [ 7354, 26132]], dtype=int64)"
      ]
     },
     "execution_count": 101,
     "metadata": {},
     "output_type": "execute_result"
    }
   ],
   "source": [
    "conf_mat = confusion_matrix(y_test,y_pred_LR)\n",
    "conf_mat"
   ]
  },
  {
   "cell_type": "code",
   "execution_count": 102,
   "metadata": {},
   "outputs": [
    {
     "name": "stdout",
     "output_type": "stream",
     "text": [
      "              precision    recall  f1-score   support\n",
      "\n",
      "           0       0.82      0.98      0.89     33487\n",
      "           1       0.98      0.78      0.87     33486\n",
      "\n",
      "    accuracy                           0.88     66973\n",
      "   macro avg       0.90      0.88      0.88     66973\n",
      "weighted avg       0.90      0.88      0.88     66973\n",
      "\n"
     ]
    }
   ],
   "source": [
    "k = classification_report(y_test, y_pred_LR)\n",
    "print(k)"
   ]
  },
  {
   "cell_type": "code",
   "execution_count": 103,
   "metadata": {},
   "outputs": [],
   "source": [
    "fpr, tpr, thresholds = roc_curve(y_test, y_pred_LR_prob)"
   ]
  },
  {
   "cell_type": "code",
   "execution_count": 104,
   "metadata": {},
   "outputs": [
    {
     "data": {
      "image/png": "[encoded data removed]",
      "text/plain": [
       "<Figure size 360x360 with 1 Axes>"
      ]
     },
     "metadata": {
      "needs_background": "light"
     },
     "output_type": "display_data"
    }
   ],
   "source": [
    "plt.figure(figsize=(5,5))\n",
    "plt.plot(fpr, tpr, color='orange', label='ROC')\n",
    "plt.plot([0, 1], [0, 1], color='darkblue', linestyle='--',label='ROC curve (area = 0.5)')\n",
    "plt.xlabel('False Positive Rate')\n",
    "plt.ylabel('True Positive Rate')\n",
    "plt.title('Receiver Operating Characteristic (ROC) Curve')\n",
    "plt.legend()\n",
    "plt.show()"
   ]
  },
  {
   "cell_type": "markdown",
   "metadata": {},
   "source": [
    "# Random Forest Classifier"
   ]
  },
  {
   "cell_type": "code",
   "execution_count": 105,
   "metadata": {},
   "outputs": [
    {
     "name": "stdout",
     "output_type": "stream",
     "text": [
      "Train Accuracy:  1.0\n",
      "Test Accuracy:  0.8742926253863498\n",
      "AUC Score: 0.929260491413744\n"
     ]
    }
   ],
   "source": [
    "RF = RandomForestClassifier(random_state = 0,n_jobs = -1)\n",
    "RF.fit(x_train, y_train)\n",
    "y_pred_RF = RF.predict(x_test)\n",
    "y_pred_RF_prob = RF.predict_proba(x_test)[:,1]\n",
    "print(\"Train Accuracy: \",RF.score(x_train,y_train))\n",
    "print(\"Test Accuracy: \",RF.score(x_test,y_test))\n",
    "print(\"AUC Score:\",roc_auc_score(y_test, y_pred_RF_prob))"
   ]
  },
  {
   "cell_type": "code",
   "execution_count": 106,
   "metadata": {},
   "outputs": [
    {
     "data": {
      "text/html": [
       "<div>\n",
       "<style scoped>\n",
       "    .dataframe tbody tr th:only-of-type {\n",
       "        vertical-align: middle;\n",
       "    }\n",
       "\n",
       "    .dataframe tbody tr th {\n",
       "        vertical-align: top;\n",
       "    }\n",
       "\n",
       "    .dataframe thead th {\n",
       "        text-align: right;\n",
       "    }\n",
       "</style>\n",
       "<table border=\"1\" class=\"dataframe\">\n",
       "  <thead>\n",
       "    <tr style=\"text-align: right;\">\n",
       "      <th>col_0</th>\n",
       "      <th>0</th>\n",
       "      <th>1</th>\n",
       "    </tr>\n",
       "    <tr>\n",
       "      <th>Bad_Loan</th>\n",
       "      <th></th>\n",
       "      <th></th>\n",
       "    </tr>\n",
       "  </thead>\n",
       "  <tbody>\n",
       "    <tr>\n",
       "      <th>0</th>\n",
       "      <td>32326</td>\n",
       "      <td>1161</td>\n",
       "    </tr>\n",
       "    <tr>\n",
       "      <th>1</th>\n",
       "      <td>7258</td>\n",
       "      <td>26228</td>\n",
       "    </tr>\n",
       "  </tbody>\n",
       "</table>\n",
       "</div>"
      ],
      "text/plain": [
       "col_0         0      1\n",
       "Bad_Loan              \n",
       "0         32326   1161\n",
       "1          7258  26228"
      ]
     },
     "execution_count": 106,
     "metadata": {},
     "output_type": "execute_result"
    }
   ],
   "source": [
    "pd.crosstab(y_test,y_pred_RF)"
   ]
  },
  {
   "cell_type": "code",
   "execution_count": 107,
   "metadata": {},
   "outputs": [
    {
     "data": {
      "text/plain": [
       "array([[32326,  1161],\n",
       "       [ 7258, 26228]], dtype=int64)"
      ]
     },
     "execution_count": 107,
     "metadata": {},
     "output_type": "execute_result"
    }
   ],
   "source": [
    "conf_mat = confusion_matrix(y_test,y_pred_RF)\n",
    "conf_mat"
   ]
  },
  {
   "cell_type": "code",
   "execution_count": 108,
   "metadata": {},
   "outputs": [
    {
     "name": "stdout",
     "output_type": "stream",
     "text": [
      "              precision    recall  f1-score   support\n",
      "\n",
      "           0       0.82      0.97      0.88     33487\n",
      "           1       0.96      0.78      0.86     33486\n",
      "\n",
      "    accuracy                           0.87     66973\n",
      "   macro avg       0.89      0.87      0.87     66973\n",
      "weighted avg       0.89      0.87      0.87     66973\n",
      "\n"
     ]
    }
   ],
   "source": [
    "k = classification_report(y_test, y_pred_RF)\n",
    "print(k)"
   ]
  },
  {
   "cell_type": "code",
   "execution_count": null,
   "metadata": {},
   "outputs": [
    {
     "name": "stderr",
     "output_type": "stream",
     "text": [
      "1 6 11 16 21 26 31 36 41 46 "
     ]
    }
   ],
   "source": [
    "index = 0\n",
    "max_test = 0\n",
    "train_score = 0\n",
    "for i in range(1,72,5):\n",
    "    sys.stderr.write(\"%d \"%i)\n",
    "    for j in range(2,503,100):\n",
    "        for k in range(1,202,100):\n",
    "            for l in range(2,83,10):\n",
    "                RF1 = RandomForestClassifier(max_depth = i,min_samples_split = j,min_samples_leaf = k,max_leaf_nodes = l,random_state = 0,n_jobs = -1)\n",
    "                RF1.fit(x_train, y_train)\n",
    "                if (max_test < RF1.score(x_test, y_test)) and (RF1.score(x_test, y_test)<=RF1.score(x_train, y_train)):\n",
    "                    max_test = RF1.score(x_test, y_test)\n",
    "                    train_score = RF1.score(x_train, y_train)\n",
    "                    index = i,j,k,l"
   ]
  },
  {
   "cell_type": "code",
   "execution_count": null,
   "metadata": {},
   "outputs": [],
   "source": [
    "print(\"Desired parameters: \",index)\n",
    "print(\"Train Score: \",train_score)\n",
    "print(\"Test Score: \",max_test)"
   ]
  },
  {
   "cell_type": "markdown",
   "metadata": {},
   "source": [
    "# XGBoost Classifier"
   ]
  },
  {
   "cell_type": "code",
   "execution_count": null,
   "metadata": {},
   "outputs": [],
   "source": [
    "XGB = XGBClassifier(objective='binary:logistic',n_jobs = -1,random_state=0)\n",
    "XGB.fit(x_train, y_train,eval_set=[(x_test,y_test)],eval_metric = \"error\",verbose=False)\n",
    "y_pred0_XGB_prob = XGB.predict_proba(x_train)[:,1]\n",
    "y_pred_XGB = XGB.predict(x_test)\n",
    "y_pred_XGB_prob = XGB.predict_proba(x_test)[:,1]\n",
    "print(\"Train Accuracy: \",XGB.score(x_train,y_train))\n",
    "print(\"Test Accuracy: \",XGB.score(x_test,y_test))\n",
    "print(\"AUC Score for Train:\",roc_auc_score(y_train, y_pred0_XGB_prob))\n",
    "print(\"AUC Score for Test:\",roc_auc_score(y_test, y_pred_XGB_prob))"
   ]
  },
  {
   "cell_type": "code",
   "execution_count": null,
   "metadata": {},
   "outputs": [],
   "source": [
    "XGB.score(x_test,y_test)"
   ]
  },
  {
   "cell_type": "code",
   "execution_count": null,
   "metadata": {},
   "outputs": [],
   "source": [
    "y_pred_XGB = XGB.predict(x_test)"
   ]
  },
  {
   "cell_type": "code",
   "execution_count": null,
   "metadata": {},
   "outputs": [],
   "source": [
    "accuracy_score(y_test,y_pred_XGB)"
   ]
  },
  {
   "cell_type": "code",
   "execution_count": null,
   "metadata": {
    "scrolled": true
   },
   "outputs": [],
   "source": [
    "pd.crosstab(y_test,y_pred_XGB)"
   ]
  },
  {
   "cell_type": "code",
   "execution_count": null,
   "metadata": {},
   "outputs": [],
   "source": [
    "conf_mat = confusion_matrix(y_test,y_pred_XGB)\n",
    "conf_mat"
   ]
  },
  {
   "cell_type": "code",
   "execution_count": null,
   "metadata": {},
   "outputs": [],
   "source": [
    "k = classification_report(y_test, y_pred_XGB)\n",
    "print(k)"
   ]
  },
  {
   "cell_type": "code",
   "execution_count": null,
   "metadata": {},
   "outputs": [],
   "source": [
    "index = 0\n",
    "max_test = 0\n",
    "train_score = 0\n",
    "for i in range(100,501,50):\n",
    "    sys.stderr.write(\"\\n%d \"%i)\n",
    "    for j in range(2,21,2):\n",
    "        sys.stderr.write(\"%d \"%j)\n",
    "        for k in [0.05,0.1,0.15]:\n",
    "            XGB1 = XGBClassifier(n_jobs = -1,n_estimators = i,max_depth = j,learning_rate = k)\n",
    "            XGB1.fit(x_train, y_train,eval_set=[(x_test, y_test)],eval_metric=\"error\",verbose = False)\n",
    "            y_pred0_testing = XGB1.predict(x_train)\n",
    "            y_pred_testing = XGB1.predict(x_test)\n",
    "            accuracy_train = accuracy_score(y_train,y_pred0_testing)\n",
    "            accuracy_test = accuracy_score(y_test,y_pred_testing)\n",
    "            if (max_test < accuracy_test) and (accuracy_test <= accuracy_train):\n",
    "                    max_test = accuracy_test\n",
    "                    train_score = accuracy_train\n",
    "                    index = i,j,k"
   ]
  },
  {
   "cell_type": "code",
   "execution_count": null,
   "metadata": {},
   "outputs": [],
   "source": [
    "print(\"Desired parameters: \",index)\n",
    "print(\"Train Score: \",train_score)\n",
    "print(\"Test Score: \",max_test)"
   ]
  },
  {
   "cell_type": "code",
   "execution_count": null,
   "metadata": {},
   "outputs": [],
   "source": [
    "# finding out max accuracy that can be attained using ROC curve\n",
    "max = 0\n",
    "index = 0\n",
    "train_score = 0\n",
    "for i in np.linspace(0,1,101):\n",
    "    y_pred0_testing = y_pred0_XGB_prob.copy()\n",
    "    y_pred_testing = y_pred_XGB_prob.copy()\n",
    "    y_pred0_testing[y_pred0_testing>=i] = 1\n",
    "    y_pred0_testing[y_pred0_testing<i] = 0\n",
    "    y_pred_testing[ y_pred_testing>=i] = 1\n",
    "    y_pred_testing[ y_pred_testing<i] = 0\n",
    "    \n",
    "    accuracy_train = accuracy_score(y_train,y_pred0_testing)\n",
    "    accuracy_test = accuracy_score(y_test,y_pred_testing)\n",
    "\n",
    "    if((accuracy_test>max) and (accuracy_train>accuracy_test)):\n",
    "        max = accuracy_test\n",
    "        index = i\n",
    "        train_score = accuracy_train\n",
    "print(index, train_score,max)"
   ]
  },
  {
   "cell_type": "code",
   "execution_count": null,
   "metadata": {},
   "outputs": [],
   "source": []
  }
 ],
 "metadata": {
  "kernelspec": {
   "display_name": "Python 3",
   "language": "python",
   "name": "python3"
  },
  "language_info": {
   "codemirror_mode": {
    "name": "ipython",
    "version": 3
   },
   "file_extension": ".py",
   "mimetype": "text/x-python",
   "name": "python",
   "nbconvert_exporter": "python",
   "pygments_lexer": "ipython3",
   "version": "3.9.0"
  }
 },
 "nbformat": 4,
 "nbformat_minor": 4
}
